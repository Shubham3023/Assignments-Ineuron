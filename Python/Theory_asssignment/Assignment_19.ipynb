{
 "cells": [
  {
   "cell_type": "markdown",
   "id": "b16a435b",
   "metadata": {},
   "source": [
    "### 1. Make a class called Thing with no contents and print it. Then, create an object called example from this class and also print it. Are the printed values the same or different?"
   ]
  },
  {
   "cell_type": "code",
   "execution_count": 4,
   "id": "da72fb47",
   "metadata": {},
   "outputs": [
    {
     "name": "stdout",
     "output_type": "stream",
     "text": [
      "<class '__main__.Thing'>\n"
     ]
    }
   ],
   "source": [
    "class Thing :\n",
    "    pass\n",
    "print(Thing)"
   ]
  },
  {
   "cell_type": "code",
   "execution_count": 5,
   "id": "c8b705f2",
   "metadata": {},
   "outputs": [
    {
     "name": "stdout",
     "output_type": "stream",
     "text": [
      "<__main__.Thing object at 0x00000191554639D0>\n"
     ]
    }
   ],
   "source": [
    "example = Thing()\n",
    "print(example)"
   ]
  },
  {
   "cell_type": "markdown",
   "id": "a6585300",
   "metadata": {},
   "source": [
    "**Ans:** \n",
    "The printed values are different. `print(Thing)` gives information about class `Thing` whereas `print(example)` tells \n",
    "that example is an object of class `Thing` with address `0x0000019155463940`"
   ]
  },
  {
   "cell_type": "markdown",
   "id": "adc2539d",
   "metadata": {},
   "source": [
    "### 2. Create a new class called Thing2 and add the value 'abc' to the letters class attribute. Letters should be printed."
   ]
  },
  {
   "cell_type": "code",
   "execution_count": 15,
   "id": "c30b3cd4",
   "metadata": {},
   "outputs": [
    {
     "name": "stdout",
     "output_type": "stream",
     "text": [
      "abc\n"
     ]
    }
   ],
   "source": [
    "class Things2 :\n",
    "    letters = 'abc'\n",
    "    \n",
    "print(Things2.letters)"
   ]
  },
  {
   "cell_type": "markdown",
   "id": "3c5b3d03",
   "metadata": {},
   "source": [
    "### 3. Make yet another class called, of course, Thing3. This time, assign the value 'xyz' to an instance (object) attribute called letters. Print letters. Do you need to make an object from the class to do this?"
   ]
  },
  {
   "cell_type": "code",
   "execution_count": 22,
   "id": "0a398e71",
   "metadata": {},
   "outputs": [
    {
     "name": "stdout",
     "output_type": "stream",
     "text": [
      "type object 'Thing3' has no attribute 'letters' \n",
      "\n",
      "xyz\n"
     ]
    }
   ],
   "source": [
    "class Thing3 :\n",
    "    def __init__(self) :\n",
    "        self.letters = 'xyz'\n",
    "try:\n",
    "    print(Thing3.letters) \n",
    "except Exception as e:\n",
    "    print(e,'\\n')\n",
    "# creating an object in class Thing3\n",
    "obj_t3 = Thing3()\n",
    "print(obj_t3.letters)"
   ]
  },
  {
   "cell_type": "markdown",
   "id": "e363b42d",
   "metadata": {},
   "source": [
    "**Ans:** In the above code, to create instance object we need to use pre-defined method called `__init__()`. To print the \n",
    "    value of this instance attribute we need to create an object."
   ]
  },
  {
   "cell_type": "markdown",
   "id": "0dd7dc20",
   "metadata": {},
   "source": [
    "### 4. Create an Element class with the instance attributes name, symbol, and number. Create a class object with the values 'Hydrogen,' 'H,' and 1."
   ]
  },
  {
   "cell_type": "code",
   "execution_count": 25,
   "id": "5e9ef355",
   "metadata": {},
   "outputs": [],
   "source": [
    "class Element :\n",
    "    def __init__(self, name, symbol, number) :\n",
    "        self.name = name\n",
    "        self.symbol = symbol\n",
    "        self.number = number\n",
    "obj_element = Element('Hydrogen', 'H', 1)"
   ]
  },
  {
   "cell_type": "markdown",
   "id": "5f1d7793",
   "metadata": {},
   "source": [
    "### 5. Make a dictionary with these keys and values: 'name': 'Hydrogen', 'symbol': 'H', 'number': 1. Then, create an object called hydrogen from class Element using this dictionary."
   ]
  },
  {
   "cell_type": "code",
   "execution_count": 28,
   "id": "41c9491c",
   "metadata": {},
   "outputs": [],
   "source": [
    "d = {'name' : 'Hydrogen', 'symbol' : 'H', 'number' : 1}\n",
    "\n",
    "hydrogen = Element(d['name'], d['symbol'], d['number']) "
   ]
  },
  {
   "cell_type": "markdown",
   "id": "0eb13353",
   "metadata": {},
   "source": [
    "### 6. For the Element class, define a method called dump() that prints the values of the object’s attributes (name, symbol, and number). Create the hydrogen object from this new definition and use dump() to print its attributes."
   ]
  },
  {
   "cell_type": "code",
   "execution_count": 17,
   "id": "ac1f605b",
   "metadata": {},
   "outputs": [
    {
     "name": "stdout",
     "output_type": "stream",
     "text": [
      "Hydrogen H 1\n"
     ]
    }
   ],
   "source": [
    "class Element :\n",
    "    def __init__(self, name, symbol, number) :\n",
    "        self.name = name\n",
    "        self.symbol = symbol\n",
    "        self.number = number\n",
    "    def dump(self):\n",
    "        print(self.name, self.symbol, self.number)\n",
    "    \n",
    "hydrogen = Element('Hydrogen', 'H', 1)\n",
    "hydrogen.dump()"
   ]
  },
  {
   "cell_type": "markdown",
   "id": "92f13631",
   "metadata": {},
   "source": [
    "### 7. Call print(hydrogen). In the definition of Element, change the name of method dump to __str__, create a new hydrogen object, and call print(hydrogen) again."
   ]
  },
  {
   "cell_type": "code",
   "execution_count": 18,
   "id": "9acb9d6a",
   "metadata": {},
   "outputs": [
    {
     "name": "stdout",
     "output_type": "stream",
     "text": [
      "<__main__.Element object at 0x000001EA8CE78F70>\n",
      "Hydrogen H 1\n"
     ]
    }
   ],
   "source": [
    "print(hydrogen)\n",
    "class Element :\n",
    "    def __init__(self, name, symbol, number) :\n",
    "        self.name = name\n",
    "        self.symbol = symbol\n",
    "        self.number = number\n",
    "    def __str__(self):\n",
    "        return \"{} {} {}\".format(self.name, self.symbol, self.number)\n",
    "    \n",
    "hydrogen = Element('Hydrogen', 'H', 1)\n",
    "\n",
    "print(hydrogen)"
   ]
  },
  {
   "cell_type": "markdown",
   "id": "3419ec75",
   "metadata": {},
   "source": [
    "### 8. Modify Element to make the attributes name, symbol, and number private. Define a getter property for each to return its value."
   ]
  },
  {
   "cell_type": "code",
   "execution_count": 20,
   "id": "dfcbd5dd",
   "metadata": {},
   "outputs": [
    {
     "data": {
      "text/plain": [
       "'Hydrogen'"
      ]
     },
     "execution_count": 20,
     "metadata": {},
     "output_type": "execute_result"
    }
   ],
   "source": [
    "class Element :\n",
    "    def __init__(self, name, symbol, number) :\n",
    "        self.__name = name\n",
    "        self.__symbol = symbol\n",
    "        self.__number = number\n",
    "    \n",
    "    def get_name(self) :\n",
    "        return self.__name\n",
    "    \n",
    "    def get_symbol(self) :\n",
    "        return self.__symbol\n",
    "    \n",
    "    def get_number(self) :\n",
    "        return self.__number\n",
    "    \n",
    "    name = property(get_name)\n",
    "    symbol = property(get_symbol)\n",
    "    number = property(get_number)\n",
    "    \n",
    "hydrogen = Element('Hydrogen', 'H', 1)\n",
    "\n",
    "hydrogen.name"
   ]
  },
  {
   "cell_type": "code",
   "execution_count": 21,
   "id": "3b3357e9",
   "metadata": {},
   "outputs": [
    {
     "data": {
      "text/plain": [
       "'H'"
      ]
     },
     "execution_count": 21,
     "metadata": {},
     "output_type": "execute_result"
    }
   ],
   "source": [
    "hydrogen.symbol"
   ]
  },
  {
   "cell_type": "code",
   "execution_count": 22,
   "id": "8cda5660",
   "metadata": {},
   "outputs": [
    {
     "data": {
      "text/plain": [
       "1"
      ]
     },
     "execution_count": 22,
     "metadata": {},
     "output_type": "execute_result"
    }
   ],
   "source": [
    "hydrogen.number"
   ]
  },
  {
   "cell_type": "markdown",
   "id": "11dbec9d",
   "metadata": {},
   "source": [
    "### 9. Define three classes: Bear, Rabbit, and Octothorpe. For each, define only one method: eats(). This should return 'berries' (Bear), 'clover' (Rabbit), or 'campers' (Octothorpe). Create one object from each and print what it eats."
   ]
  },
  {
   "cell_type": "code",
   "execution_count": 29,
   "id": "c5fdf9c0",
   "metadata": {},
   "outputs": [
    {
     "name": "stdout",
     "output_type": "stream",
     "text": [
      "berries\n",
      "clover\n",
      "campers\n"
     ]
    }
   ],
   "source": [
    "class Bear :\n",
    "    def eats(self) :\n",
    "        return \"berries\"\n",
    "\n",
    "class Rabbit :\n",
    "    def eats(self) :\n",
    "        return \"clover\"\n",
    "        \n",
    "class Octothrope :\n",
    "    def eats(self) :\n",
    "        return \"campers\"\n",
    "        \n",
    "bear1 = Bear()\n",
    "rabbit1 = Rabbit()\n",
    "octothrope1 = Octothrope()\n",
    "\n",
    "print(bear1.eats())\n",
    "print(rabbit1.eats())\n",
    "print(octothrope1.eats())"
   ]
  },
  {
   "cell_type": "markdown",
   "id": "9b66219d",
   "metadata": {},
   "source": [
    "### 10. Define these classes: Laser, Claw, and SmartPhone. Each has only one method: does(). This returns 'disintegrate' (Laser), 'crush' (Claw), or 'ring' (SmartPhone). Then, define the class Robot that has one instance (object) of each of these. Define a does() method for the Robot that prints what its component objects do."
   ]
  },
  {
   "cell_type": "code",
   "execution_count": 32,
   "id": "30198d5b",
   "metadata": {},
   "outputs": [
    {
     "name": "stdout",
     "output_type": "stream",
     "text": [
      "disintegrate crush ring\n"
     ]
    }
   ],
   "source": [
    "class Laser :\n",
    "    def does(self) :\n",
    "        return \"disintegrate\"\n",
    "\n",
    "class Claw :\n",
    "    def does(self) :\n",
    "        return \"crush\"\n",
    "    \n",
    "class SmartPhone :\n",
    "    def does(self) :\n",
    "        return \"ring\"\n",
    "    \n",
    "class Robot :\n",
    "    def __init__(self) :\n",
    "        self.laser = Laser()\n",
    "        self.claw = Claw()\n",
    "        self.smartphone = SmartPhone()\n",
    "    def does(self) :\n",
    "        return \"{} {} {}\".format(self.laser.does(), self.claw.does(), self.smartphone.does())\n",
    "    \n",
    "ultron = Robot()\n",
    "print(ultron.does())     "
   ]
  }
 ],
 "metadata": {
  "kernelspec": {
   "display_name": "Python 3 (ipykernel)",
   "language": "python",
   "name": "python3"
  },
  "language_info": {
   "codemirror_mode": {
    "name": "ipython",
    "version": 3
   },
   "file_extension": ".py",
   "mimetype": "text/x-python",
   "name": "python",
   "nbconvert_exporter": "python",
   "pygments_lexer": "ipython3",
   "version": "3.9.12"
  }
 },
 "nbformat": 4,
 "nbformat_minor": 5
}
