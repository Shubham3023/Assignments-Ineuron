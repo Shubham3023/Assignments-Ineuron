{
 "cells": [
  {
   "cell_type": "markdown",
   "id": "3f5caa12",
   "metadata": {},
   "source": [
    "### 1. What are escape characters, and how do you use them?\n",
    "\n",
    "**Ans:** Escape characters are special character that has special purpose in regards of a string.\n",
    "1. `\\ (Custom backslash)` : It is used to insert any illegal character inside a string. \n",
    "2. `\\ (Single quotes)` : It is used to insert single quotes inside a string enclosed with single quotes.\n",
    "3. `\\\\ (backslash)` : It is used to insert a backslash inside a string.\n",
    "4. `\\n (New Line)` : It shifts character after `\\n` in a string to new line.\n",
    "5. `\\r (Carriage Return` : It moves character after `\\r` to the front of a string while deleting existing characters.\n",
    "6. `\\t (tab)` : It places a tab between characters before and after `\\t` in a string.\n",
    "7. `\\b (backspace)` :It inserts deletes a character before `\\b` in a string.\n",
    "\n",
    "**For example:**"
   ]
  },
  {
   "cell_type": "code",
   "execution_count": 39,
   "id": "d597e912",
   "metadata": {},
   "outputs": [
    {
     "name": "stdout",
     "output_type": "stream",
     "text": [
      "shambhu is \"skilled\" in Python\n"
     ]
    }
   ],
   "source": [
    "s = \"shambhu is \\\"skilled\\\" in Python\"\n",
    "print(s)"
   ]
  },
  {
   "cell_type": "code",
   "execution_count": 40,
   "id": "c319b55c",
   "metadata": {},
   "outputs": [
    {
     "name": "stdout",
     "output_type": "stream",
     "text": [
      "shambhu is 'skilled' in Python\n"
     ]
    }
   ],
   "source": [
    "s = 'shambhu is \\'skilled\\' in Python'\n",
    "print(s)"
   ]
  },
  {
   "cell_type": "code",
   "execution_count": 41,
   "id": "c1073214",
   "metadata": {},
   "outputs": [
    {
     "name": "stdout",
     "output_type": "stream",
     "text": [
      "shambhu is \\skilled\\ in Python\n"
     ]
    }
   ],
   "source": [
    "s = 'shambhu is \\\\skilled\\\\ in Python'\n",
    "print(s)"
   ]
  },
  {
   "cell_type": "code",
   "execution_count": 42,
   "id": "08c77276",
   "metadata": {},
   "outputs": [
    {
     "name": "stdout",
     "output_type": "stream",
     "text": [
      "shambhu is \n",
      "skilled\n",
      "in Python\n"
     ]
    }
   ],
   "source": [
    "s = 'shambhu is \\nskilled\\nin Python'\n",
    "print(s)"
   ]
  },
  {
   "cell_type": "code",
   "execution_count": 43,
   "id": "afdc172a",
   "metadata": {},
   "outputs": [
    {
     "name": "stdout",
     "output_type": "stream",
     "text": [
      "sambhu is skilled in programming\r",
      "Python\n"
     ]
    }
   ],
   "source": [
    "s = 'sambhu is skilled in programming\\rPython'\n",
    "print(s)"
   ]
  },
  {
   "cell_type": "code",
   "execution_count": 44,
   "id": "79f38a34",
   "metadata": {},
   "outputs": [
    {
     "name": "stdout",
     "output_type": "stream",
     "text": [
      "shambhu is\tskilled in Python\n"
     ]
    }
   ],
   "source": [
    "s = 'shambhu is\\tskilled in Python'\n",
    "print(s)"
   ]
  },
  {
   "cell_type": "code",
   "execution_count": 45,
   "id": "50d25812",
   "metadata": {},
   "outputs": [
    {
     "name": "stdout",
     "output_type": "stream",
     "text": [
      "shambhu is\b skilled in Python\n"
     ]
    }
   ],
   "source": [
    "s = 'shambhu is\\b skilled in Python'\n",
    "print(s)"
   ]
  },
  {
   "cell_type": "markdown",
   "id": "343ed988",
   "metadata": {},
   "source": [
    "### 2. What do the escape characters n and t stand for?\n",
    "\n",
    "**Ans:** Escape characters `'n'` and `'t'` stand for `'newline'` and `'tab'` respectively."
   ]
  },
  {
   "cell_type": "markdown",
   "id": "f7072913",
   "metadata": {},
   "source": [
    "### 3. What is the way to include backslash characters in a string?\n",
    "**Ans:** Backslash characters is `'\\\\'`"
   ]
  },
  {
   "cell_type": "markdown",
   "id": "a1772c77",
   "metadata": {},
   "source": [
    "### 4. The string \"Howl's Moving Castle\" is a correct value. Why isn't the single quote character in the word Howl's not escaped a problem?\n",
    "\n",
    "**Ans:** This would create a problem when string is enclosed in `single quotes`. Then intrepretor will not be able to \n",
    "understand which is actual enclosing quotes for the string and will throw syntax error. **For example**"
   ]
  },
  {
   "cell_type": "code",
   "execution_count": 51,
   "id": "321bc70a",
   "metadata": {},
   "outputs": [
    {
     "name": "stdout",
     "output_type": "stream",
     "text": [
      "Howl's Moving Castle\n"
     ]
    }
   ],
   "source": [
    "s = \"Howl's Moving Castle\"\n",
    "print(s)"
   ]
  },
  {
   "cell_type": "code",
   "execution_count": 52,
   "id": "39d72c23",
   "metadata": {},
   "outputs": [
    {
     "ename": "SyntaxError",
     "evalue": "invalid syntax (3296013669.py, line 1)",
     "output_type": "error",
     "traceback": [
      "\u001b[1;36m  Input \u001b[1;32mIn [52]\u001b[1;36m\u001b[0m\n\u001b[1;33m    s = 'Howl's Moving Castle'\u001b[0m\n\u001b[1;37m              ^\u001b[0m\n\u001b[1;31mSyntaxError\u001b[0m\u001b[1;31m:\u001b[0m invalid syntax\n"
     ]
    }
   ],
   "source": [
    "s = 'Howl's Moving Castle'\n",
    "print(s)"
   ]
  },
  {
   "cell_type": "markdown",
   "id": "e7b0b2e1",
   "metadata": {},
   "source": [
    "### 5. How do you write a string of newlines if you don't want to use the n character?\n",
    "\n",
    "**Ans:** By enclosing string inside `triple quotes` and using multiple lines inside triple quotes. **For example**"
   ]
  },
  {
   "cell_type": "code",
   "execution_count": 56,
   "id": "523f2661",
   "metadata": {},
   "outputs": [
    {
     "name": "stdout",
     "output_type": "stream",
     "text": [
      "I want to become\n",
      "a data scientist with \n",
      "good knowledge of \n",
      "Python, SQL, ML, DL, etc.\n",
      "\n"
     ]
    }
   ],
   "source": [
    "s = \"\"\"I want to become\n",
    "a data scientist with \n",
    "good knowledge of \n",
    "Python, SQL, ML, DL, etc.\n",
    "\"\"\"\n",
    "print(s)"
   ]
  },
  {
   "cell_type": "markdown",
   "id": "40c840af",
   "metadata": {},
   "source": [
    "### 6. What are the values of the given expressions?\n",
    "\n",
    "**Ans:**\n",
    "\n",
    "1. `'Hello, world!'[1]`     :: Value will be `'e'`\n",
    "\n",
    "2. `'Hello, world!'[0:5]`   :: Value will be `'Hello'`\n",
    "\n",
    "3. `'Hello, world!'[:5]`    :: Value will be `'Hello'`\n",
    "\n",
    "4. `'Hello, world!'[3:]`    :: Value will be `'lo, world!'`"
   ]
  },
  {
   "cell_type": "markdown",
   "id": "bb5722bf",
   "metadata": {},
   "source": [
    "### 7. What are the values of the following expressions?\n",
    "**Ans:**\n",
    "    \n",
    "1. 'Hello'.upper() :: Value will be `'HELLO'`\n",
    "2. 'Hello'.upper().isupper() :: Value will be `True`\n",
    "3. 'Hello'.upper().lower() :: Value will be `'hello'`"
   ]
  },
  {
   "cell_type": "markdown",
   "id": "1c055ce7",
   "metadata": {},
   "source": [
    "### 8. What are the values of the following expressions?\n",
    "\n",
    "1. `'Remember, remember, the fifth of July.'.split()` will be `['Remember,', 'remember,', 'the', 'fifth', 'of', 'July.']`\n",
    "\n",
    "2. `'-'.join('There can only one.'.split())` will be `'There-can-only-one.'`\n",
    "\n",
    "The Execution is as shown below: "
   ]
  },
  {
   "cell_type": "code",
   "execution_count": 67,
   "id": "e7f92e22",
   "metadata": {},
   "outputs": [
    {
     "data": {
      "text/plain": [
       "['Remember,', 'remember,', 'the', 'fifth', 'of', 'July.']"
      ]
     },
     "execution_count": 67,
     "metadata": {},
     "output_type": "execute_result"
    }
   ],
   "source": [
    "'Remember, remember, the fifth of July.'.split()"
   ]
  },
  {
   "cell_type": "code",
   "execution_count": 68,
   "id": "d4cc1ddb",
   "metadata": {},
   "outputs": [
    {
     "data": {
      "text/plain": [
       "'There-can-only-one.'"
      ]
     },
     "execution_count": 68,
     "metadata": {},
     "output_type": "execute_result"
    }
   ],
   "source": [
    "'-'.join('There can only one.'.split())"
   ]
  },
  {
   "cell_type": "markdown",
   "id": "087d9caf",
   "metadata": {},
   "source": [
    "### 9. What are the methods for right-justifying, left-justifying, and centering a string?\n",
    "**Ans:**\n",
    "\n",
    "1. `rjust()`\n",
    "2. `ljust()`\n",
    "3. `center()`\n",
    "\n",
    "**For Example**"
   ]
  },
  {
   "cell_type": "code",
   "execution_count": 72,
   "id": "6b102c61",
   "metadata": {},
   "outputs": [
    {
     "data": {
      "text/plain": [
       "'************My name is shubham'"
      ]
     },
     "execution_count": 72,
     "metadata": {},
     "output_type": "execute_result"
    }
   ],
   "source": [
    "# rjust here fillchar * is optional\n",
    "s = \"My name is shubham\"\n",
    "s.rjust(30, '*')"
   ]
  },
  {
   "cell_type": "code",
   "execution_count": 76,
   "id": "300fbe7c",
   "metadata": {},
   "outputs": [
    {
     "data": {
      "text/plain": [
       "'My name is shubham$$$$$$$$$$$$'"
      ]
     },
     "execution_count": 76,
     "metadata": {},
     "output_type": "execute_result"
    }
   ],
   "source": [
    "# ljust here fillchar $ is optional\n",
    "s.ljust(30,'$')"
   ]
  },
  {
   "cell_type": "code",
   "execution_count": 77,
   "id": "667a0209",
   "metadata": {},
   "outputs": [
    {
     "data": {
      "text/plain": [
       "'######My name is shubham######'"
      ]
     },
     "execution_count": 77,
     "metadata": {},
     "output_type": "execute_result"
    }
   ],
   "source": [
    "# center here fillchar # is optional\n",
    "s.center(30,'#')"
   ]
  },
  {
   "cell_type": "markdown",
   "id": "9ea4f0a8",
   "metadata": {},
   "source": [
    "### 10. What is the best way to remove whitespace characters from the start or end?\n",
    "\n",
    "**Ans:** Best way to remove whitespace characters from the start or end of string is `lstrip()` and `rstrip()` respectively. Also one more function is there called `strip()` which removes whitespaces from start and beginning of string.\n",
    "\n",
    "**For example:**"
   ]
  },
  {
   "cell_type": "code",
   "execution_count": 79,
   "id": "8cd965a8",
   "metadata": {},
   "outputs": [
    {
     "data": {
      "text/plain": [
       "'My name is shubham     '"
      ]
     },
     "execution_count": 79,
     "metadata": {},
     "output_type": "execute_result"
    }
   ],
   "source": [
    "# lstrip() is used to remove whitespace from start of string\n",
    "s = \"    My name is shubham     \"\n",
    "s.lstrip()"
   ]
  },
  {
   "cell_type": "code",
   "execution_count": 80,
   "id": "e18da56b",
   "metadata": {},
   "outputs": [
    {
     "data": {
      "text/plain": [
       "'    My name is shubham'"
      ]
     },
     "execution_count": 80,
     "metadata": {},
     "output_type": "execute_result"
    }
   ],
   "source": [
    "# rstrip() is used to remove whitespace from end of string\n",
    "s = \"    My name is shubham     \"\n",
    "s.rstrip()"
   ]
  },
  {
   "cell_type": "code",
   "execution_count": 81,
   "id": "f2a24bb2",
   "metadata": {},
   "outputs": [
    {
     "data": {
      "text/plain": [
       "'My name is shubham'"
      ]
     },
     "execution_count": 81,
     "metadata": {},
     "output_type": "execute_result"
    }
   ],
   "source": [
    "# strip() is used to remove whitespace from start and end of string\n",
    "s = \"    My name is shubham     \"\n",
    "s.strip()"
   ]
  }
 ],
 "metadata": {
  "kernelspec": {
   "display_name": "Python 3 (ipykernel)",
   "language": "python",
   "name": "python3"
  },
  "language_info": {
   "codemirror_mode": {
    "name": "ipython",
    "version": 3
   },
   "file_extension": ".py",
   "mimetype": "text/x-python",
   "name": "python",
   "nbconvert_exporter": "python",
   "pygments_lexer": "ipython3",
   "version": "3.9.12"
  }
 },
 "nbformat": 4,
 "nbformat_minor": 5
}
