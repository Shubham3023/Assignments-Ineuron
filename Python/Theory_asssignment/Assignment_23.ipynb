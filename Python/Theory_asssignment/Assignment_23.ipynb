{
 "cells": [
  {
   "cell_type": "markdown",
   "id": "2add0e0b",
   "metadata": {},
   "source": [
    "### 1. What is the result of the code, and why?\n",
    "`>>> def func(a, b=6, c=8):`\n",
    "\n",
    "`print(a, b, c)`\n",
    "\n",
    "`>>> func(1, 2)`\n",
    "\n",
    "**Ans:** The output of the code will be `1 2 8` as during function call the user is providing value of `a and b` variable and the function takes the default value of variable `c` from function defination as the value of variable `b and c` is declared. Below is the execution of code:"
   ]
  },
  {
   "cell_type": "code",
   "execution_count": 7,
   "id": "ec60b928",
   "metadata": {},
   "outputs": [
    {
     "name": "stdout",
     "output_type": "stream",
     "text": [
      "1 2 8\n"
     ]
    }
   ],
   "source": [
    "def func(a, b=6, c=8):\n",
    "    print(a, b, c)\n",
    "func(1, 2)"
   ]
  },
  {
   "cell_type": "markdown",
   "id": "ec3db9ff",
   "metadata": {},
   "source": [
    "### 2. What is the result of this code, and why?\n",
    "`>>> def func(a, b, c=5):`\n",
    "    \n",
    "`print(a, b, c)`\n",
    "\n",
    "`>>> func(1, c=3, b=2)`\n",
    "\n",
    "**Ans:** The output of the code will be `1 2 3` as during function call the user is providing value of arguments `a, b and c` and since bidder is providing values of all the arguments the function is ignoring default value of `c`. Also since name of argument is provided the interpretor is ignoring the order of arguments, but the result is printed according to the print statement.Below is the execution of code:"
   ]
  },
  {
   "cell_type": "code",
   "execution_count": 10,
   "id": "3167a4c8",
   "metadata": {},
   "outputs": [
    {
     "name": "stdout",
     "output_type": "stream",
     "text": [
      "1 2 3\n"
     ]
    }
   ],
   "source": [
    "def func(a, b, c=5):\n",
    "    print(a, b, c)\n",
    "func(1, c=3, b=2)"
   ]
  },
  {
   "cell_type": "markdown",
   "id": "6a45344a",
   "metadata": {},
   "source": [
    "### 3. How about this code: what is its result, and why?\n",
    "`>>> def func(a, *pargs):`\n",
    "\n",
    "`print(a, pargs)`\n",
    "\n",
    "`>>> func(1, 2, 3)`\n",
    "\n",
    "**Ans:** The output will be `1 (2,3)`. This is because argument `*pargs` in python is used when we are not sure about the input values. `*pargs`is used to pass variable length non-keyword argument. The values of `*pargs` is stored in form of \n",
    "`tuple`.Below is the execution of code:"
   ]
  },
  {
   "cell_type": "code",
   "execution_count": 12,
   "id": "c8929ee4",
   "metadata": {},
   "outputs": [
    {
     "name": "stdout",
     "output_type": "stream",
     "text": [
      "1 (2, 3)\n"
     ]
    }
   ],
   "source": [
    "def func(a, *pargs):\n",
    "    print(a, pargs)\n",
    "\n",
    "func(1, 2, 3)"
   ]
  },
  {
   "cell_type": "markdown",
   "id": "1f59e3e0",
   "metadata": {},
   "source": [
    "### 4. What does this code print, and why?\n",
    "`>>> def func(a, **kargs):`\n",
    "    \n",
    "`print(a, kargs)`\n",
    "\n",
    "`>>> func(a=1, c=3, b=2)`\n",
    "\n",
    "**Ans:** The output will be `1 {'c' : 3 , 'b' : 2}`. `**kargs`is used to pass variable length keyword argument. The values of `**kargs` is stored in form of `dictionary`.Below is the execution of code:"
   ]
  },
  {
   "cell_type": "code",
   "execution_count": 14,
   "id": "b5c36491",
   "metadata": {},
   "outputs": [
    {
     "name": "stdout",
     "output_type": "stream",
     "text": [
      "1 {'c': 3, 'b': 2}\n"
     ]
    }
   ],
   "source": [
    "def func(a, **kargs):\n",
    "    print(a, kargs)\n",
    "\n",
    "func(a=1, c=3, b=2)"
   ]
  },
  {
   "cell_type": "markdown",
   "id": "4145a8fe",
   "metadata": {},
   "source": [
    "### 5. What gets printed by this, and explain?\n",
    "\n",
    "`>>> def func(a, b, c=8, d=5): print(a, b, c, d)`\n",
    "    \n",
    "`>>> func(1, *(5, 6))`\n",
    "\n",
    "**Ans:** The output will be `1 5 6 5`. During function declaration the value of arguments `c and d` is declared. When function is called user provides value of argument `a` and `*(5,6)`, the functions takes value of argument `b and c` by\n",
    "unpacking this tuple. Below is the execution of code:"
   ]
  },
  {
   "cell_type": "code",
   "execution_count": 19,
   "id": "309f3bc7",
   "metadata": {},
   "outputs": [
    {
     "name": "stdout",
     "output_type": "stream",
     "text": [
      "1 5 6 5\n"
     ]
    }
   ],
   "source": [
    "def func(a, b, c=8, d=5): print(a, b, c, d)\n",
    "    \n",
    "func(1, *(5,6))"
   ]
  },
  {
   "cell_type": "markdown",
   "id": "e6534060",
   "metadata": {},
   "source": [
    "### 6. what is the result of this, and explain?\n",
    "`>>> def func(a, b, c): a = 2; b[0] = 'x'; c['a'] = 'y'`\n",
    "    \n",
    "`>>> l=1; m=[1]; n={'a':0}`\n",
    "\n",
    "`>>> func(l, m, n)`\n",
    "\n",
    "`>>> l, m, n`\n",
    "\n",
    "**Ans:** Here function is defined in a line where the body of function is written by using `;` as spperator.\n",
    "when function is called and `l, m and n` is used as arguments then the function modifies the existing value of \n",
    "`l, m and n` i.e. `1, [1] and {'a' : 0}` to new values `1, ['x'] and {'x' : 'y'}.`"
   ]
  },
  {
   "cell_type": "code",
   "execution_count": 34,
   "id": "ae6d039d",
   "metadata": {},
   "outputs": [
    {
     "data": {
      "text/plain": [
       "(1, ['x'], {'a': 'y'})"
      ]
     },
     "execution_count": 34,
     "metadata": {},
     "output_type": "execute_result"
    }
   ],
   "source": [
    "def func(a, b, c): a = 2; b[0] = 'x'; c['a'] = 'y'\n",
    "\n",
    "l=1; m=[1]; n={'a':0}\n",
    "\n",
    "func(l, m, n)\n",
    "\n",
    "l, m, n\n"
   ]
  }
 ],
 "metadata": {
  "kernelspec": {
   "display_name": "Python 3 (ipykernel)",
   "language": "python",
   "name": "python3"
  },
  "language_info": {
   "codemirror_mode": {
    "name": "ipython",
    "version": 3
   },
   "file_extension": ".py",
   "mimetype": "text/x-python",
   "name": "python",
   "nbconvert_exporter": "python",
   "pygments_lexer": "ipython3",
   "version": "3.9.12"
  }
 },
 "nbformat": 4,
 "nbformat_minor": 5
}
