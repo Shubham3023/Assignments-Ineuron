{
 "cells": [
  {
   "cell_type": "markdown",
   "id": "8a5c6ca7",
   "metadata": {},
   "source": [
    "### 1. What is the relationship between def statements and lambda expressions?"
   ]
  },
  {
   "cell_type": "markdown",
   "id": "6c053e97",
   "metadata": {},
   "source": [
    "**Ans: a)**\n",
    "def keyword is used to define a function,functions created using def need not to return anything unless a return, print or yield is used. \n",
    "\n",
    "**For example**"
   ]
  },
  {
   "cell_type": "code",
   "execution_count": 1,
   "id": "4aaf891c",
   "metadata": {},
   "outputs": [
    {
     "data": {
      "text/plain": [
       "'mahbuhs'"
      ]
     },
     "execution_count": 1,
     "metadata": {},
     "output_type": "execute_result"
    }
   ],
   "source": [
    "def ret_rev(n):\n",
    "    return n[::-1]\n",
    "\n",
    "ret_rev(\"shubham\")"
   ]
  },
  {
   "cell_type": "markdown",
   "id": "52ef73a6",
   "metadata": {},
   "source": [
    "**b)**\n",
    "lambda keyword is used to create an any anonymous function which returns an object, lambda cannot be used for complicated tasks and is single line or in-line function. \n",
    "\n",
    "**For example**"
   ]
  },
  {
   "cell_type": "code",
   "execution_count": 20,
   "id": "2a3357a2",
   "metadata": {},
   "outputs": [
    {
     "data": {
      "text/plain": [
       "81"
      ]
     },
     "execution_count": 20,
     "metadata": {},
     "output_type": "execute_result"
    }
   ],
   "source": [
    "square = lambda x : x**2 \n",
    "square(9)"
   ]
  },
  {
   "cell_type": "markdown",
   "id": "038e823f",
   "metadata": {},
   "source": [
    "### 2. What is the benefit of lambda?"
   ]
  },
  {
   "cell_type": "markdown",
   "id": "5ca889f1",
   "metadata": {},
   "source": [
    "**Ans: Benefits of lambda are as follows:**\n",
    "1. It creates small, single line and single use function, also saving time and memory.\n",
    "2. No need to use return statement.\n",
    "3. Can be used with functions which require func as argument, such as with map(), filter() and reduce() functions.\n",
    "4. lambda is an anonymous function, i.e. no function name is stored in memory.\n"
   ]
  },
  {
   "cell_type": "markdown",
   "id": "7cd7671c",
   "metadata": {},
   "source": [
    "### 3. Compare and contrast map, filter, and reduce."
   ]
  },
  {
   "cell_type": "markdown",
   "id": "1a5e8123",
   "metadata": {},
   "source": [
    "**Ans: a) map() function**\n",
    "Map is a function which takes two args, first a function and second an iterable, map object(which is an iterator) returns\n",
    "output after mapping function to each value in iterable.\n",
    "\n",
    "**For example**, below map function has a lambda function and a list as an argument and it returns a list where each element is squared of element in original list."
   ]
  },
  {
   "cell_type": "code",
   "execution_count": 21,
   "id": "26be7975",
   "metadata": {},
   "outputs": [
    {
     "data": {
      "text/plain": [
       "[1, 4, 9, 16, 25]"
      ]
     },
     "execution_count": 21,
     "metadata": {},
     "output_type": "execute_result"
    }
   ],
   "source": [
    "list(map(lambda x : x ** 2,[1,2,3,4,5])) "
   ]
  },
  {
   "cell_type": "markdown",
   "id": "46f2aeb5",
   "metadata": {},
   "source": [
    "Here a set is used as an iterable and upper() function is used to convertall elements of set to uppercase"
   ]
  },
  {
   "cell_type": "code",
   "execution_count": 13,
   "id": "507c8e40",
   "metadata": {},
   "outputs": [
    {
     "data": {
      "text/plain": [
       "['DOG', 'CAT', 'PARROT']"
      ]
     },
     "execution_count": 13,
     "metadata": {},
     "output_type": "execute_result"
    }
   ],
   "source": [
    "set = {\"dog\",\"cat\",\"parrot\"}\n",
    "list(map(str.upper, set))"
   ]
  },
  {
   "cell_type": "markdown",
   "id": "e24693d0",
   "metadata": {},
   "source": [
    "Number of iterable depends on the arguments required in function. For example"
   ]
  },
  {
   "cell_type": "code",
   "execution_count": 15,
   "id": "b18d95c8",
   "metadata": {},
   "outputs": [
    {
     "data": {
      "text/plain": [
       "[('Superhero', 'Arch enemy'),\n",
       " ('Batman', 'Joker'),\n",
       " ('Superman', 'Lex Luthor'),\n",
       " ('Ironman', 'Mandrin'),\n",
       " ('Daredevil', 'Kingpin')]"
      ]
     },
     "execution_count": 15,
     "metadata": {},
     "output_type": "execute_result"
    }
   ],
   "source": [
    "superhero = [\"Superhero\",\"Batman\",\"Superman\",\"Ironman\",\"Daredevil\"]\n",
    "\n",
    "arch_enemis = [\"Arch enemy\",\"Joker\",\"Lex Luthor\",\"Mandrin\",\"Kingpin\"]\n",
    "\n",
    "list(map(lambda x,y : (x,y), superhero, arch_enemis))\n"
   ]
  },
  {
   "cell_type": "markdown",
   "id": "51689853",
   "metadata": {},
   "source": [
    "**b) filter() function**\n",
    "filter is a function that takes two arguments, first a function whose return should be a boolean type. second argument is an iterable. It passes each element through function and returns those which evaluates to true. If function return is not boolean type then filter retuns the iterable.\n",
    "\n",
    "**For example**, in the below example, a filter function has two args, first a lambda function that returns True if a number is even and second arg is list comprehension of numbers from 1 to 10. filter passes each element through lambda function and returns a list of even numbers"
   ]
  },
  {
   "cell_type": "code",
   "execution_count": 17,
   "id": "b16a06e3",
   "metadata": {},
   "outputs": [
    {
     "data": {
      "text/plain": [
       "[2, 4, 6, 8]"
      ]
     },
     "execution_count": 17,
     "metadata": {},
     "output_type": "execute_result"
    }
   ],
   "source": [
    "list(filter(lambda x : x % 2 == 0, [i for i in range(1,10)]))"
   ]
  },
  {
   "cell_type": "markdown",
   "id": "e9a85e75",
   "metadata": {},
   "source": [
    "Here the function's return is not a boolean type and hence filter function \n",
    "returned the iterable"
   ]
  },
  {
   "cell_type": "code",
   "execution_count": 21,
   "id": "5fa7ed81",
   "metadata": {},
   "outputs": [
    {
     "data": {
      "text/plain": [
       "[1, 2, 3, 4, 5, 6, 7, 8, 9]"
      ]
     },
     "execution_count": 21,
     "metadata": {},
     "output_type": "execute_result"
    }
   ],
   "source": [
    "list(filter(lambda x : x**2, [i for i in range(1,10)]))"
   ]
  },
  {
   "cell_type": "markdown",
   "id": "8d2478b8",
   "metadata": {},
   "source": [
    "**For example**, filtering palindrome using filter"
   ]
  },
  {
   "cell_type": "code",
   "execution_count": 23,
   "id": "6afc8392",
   "metadata": {},
   "outputs": [
    {
     "data": {
      "text/plain": [
       "['1221', 'sarras', 'madam']"
      ]
     },
     "execution_count": 23,
     "metadata": {},
     "output_type": "execute_result"
    }
   ],
   "source": [
    "l = [\"1221\", \"sarras\", \"madam\",\"hasdh\",\"4567\",\"maunjulika\"]\n",
    "\n",
    "list(filter(lambda i : i == i[::-1], l))"
   ]
  },
  {
   "cell_type": "markdown",
   "id": "86abc6a4",
   "metadata": {},
   "source": [
    "**c) reduce() function**\n",
    "reduce function takes two arguments, first a function which itself takes two arguments and second arg is an iterable. The reduce function applies the argument function cumulatively to the iterable, i.e it will take first two element of iterable as an argument, the result of this will be the first argument in next step. This continues till the iterable is exhausted.\n",
    "\n",
    "**For example**, below l is the list of integers and product is the two argument function. reduce function uses first two elememts from list and applies the product function to it and its result is used as first argument in next step with third element of list as second argument. This continues till the list is exhausted."
   ]
  },
  {
   "cell_type": "code",
   "execution_count": 22,
   "id": "9ca602ba",
   "metadata": {},
   "outputs": [
    {
     "data": {
      "text/plain": [
       "120"
      ]
     },
     "execution_count": 22,
     "metadata": {},
     "output_type": "execute_result"
    }
   ],
   "source": [
    "from functools import reduce\n",
    "\n",
    "l = [1,2,3,4,5]\n",
    "\n",
    "def product(x: int,y: int) -> int:\n",
    "    \"\"\"This func returns product of two arguments\"\"\"\n",
    "    return x * y\n",
    "\n",
    "reduce(product, l)"
   ]
  },
  {
   "cell_type": "code",
   "execution_count": 24,
   "id": "07003cee",
   "metadata": {},
   "outputs": [
    {
     "data": {
      "text/plain": [
       "'shubham verma'"
      ]
     },
     "execution_count": 24,
     "metadata": {},
     "output_type": "execute_result"
    }
   ],
   "source": [
    "l1 = ['s','h','u','b','h','a','m',' ','v','e','r','m','a']\n",
    "\n",
    "def aggreator(i,j) :\n",
    "    \"\"\"This func returns summation of two arguments\"\"\"\n",
    "    return i + j\n",
    "\n",
    "reduce(aggreator, l1)"
   ]
  },
  {
   "cell_type": "markdown",
   "id": "c01b8110",
   "metadata": {},
   "source": [
    "**d)** \n",
    "1. map(), filter() and reduce() functions take two arguments(a function and an iterable).\n",
    "2. map() func maps the argument function to each element of iterable, whereas filter function filters iterable elements on boolean result of argument function, whereas reduce function applies argument function cumulatively to iterable elements.\n"
   ]
  },
  {
   "cell_type": "markdown",
   "id": "538c798b",
   "metadata": {},
   "source": [
    "### 4. What are function annotations, and how are they used?"
   ]
  },
  {
   "cell_type": "markdown",
   "id": "8f4a9f6f",
   "metadata": {},
   "source": [
    "**Ans:**\n",
    "Function annotations is a way of associating the type of variable to variable while creating function. This helps in type checking while writing a code. These annotations are given to help the coder understand more about data types used inside a function.\n",
    "\n",
    "**For example**, in the below function defination both parameters a and b has int data type, whereas since the function is not returning anything so its output is None type"
   ]
  },
  {
   "cell_type": "code",
   "execution_count": 7,
   "id": "76ed28e6",
   "metadata": {},
   "outputs": [
    {
     "name": "stdout",
     "output_type": "stream",
     "text": [
      "9\n"
     ]
    },
    {
     "data": {
      "text/plain": [
       "NoneType"
      ]
     },
     "execution_count": 7,
     "metadata": {},
     "output_type": "execute_result"
    }
   ],
   "source": [
    "def sum(a : int, b : int) -> None :\n",
    "    \"\"\"This function prints the sum of twom numbers\"\"\"\n",
    "    print(a+b)\n",
    "\n",
    "type(sum(3,6))"
   ]
  },
  {
   "cell_type": "markdown",
   "id": "29391d38",
   "metadata": {},
   "source": [
    "In the below function defination both parameters a and b has int data type\n",
    "whereas the function return is also int typ"
   ]
  },
  {
   "cell_type": "code",
   "execution_count": 9,
   "id": "0337ba0c",
   "metadata": {},
   "outputs": [
    {
     "data": {
      "text/plain": [
       "int"
      ]
     },
     "execution_count": 9,
     "metadata": {},
     "output_type": "execute_result"
    }
   ],
   "source": [
    "def sum(a : int, b : int) -> int :\n",
    "    \"\"\"This function prints the sum of twom numbers\"\"\"\n",
    "    return a+b\n",
    "\n",
    "type(sum(3,6))"
   ]
  },
  {
   "cell_type": "markdown",
   "id": "bb0b1102",
   "metadata": {},
   "source": [
    "In the below function defination parameter l can be sequence \n",
    "whereas the function return is int typ"
   ]
  },
  {
   "cell_type": "code",
   "execution_count": 15,
   "id": "ee2fa794",
   "metadata": {},
   "outputs": [
    {
     "data": {
      "text/plain": [
       "15"
      ]
     },
     "execution_count": 15,
     "metadata": {},
     "output_type": "execute_result"
    }
   ],
   "source": [
    "from typing import Sequence\n",
    "l = (1,2,3,4,5)\n",
    "\n",
    "def sum(l: Sequence[int] = []) -> int:\n",
    "    \"\"\"This function returns sum of elements in a \n",
    "    sequence i.e. list or tuple \"\"\"\n",
    "    count = 0\n",
    "    for i in l:\n",
    "        count += i\n",
    "    return count\n",
    "sum(l)   "
   ]
  },
  {
   "cell_type": "markdown",
   "id": "86d79dd2",
   "metadata": {},
   "source": [
    "### 5. What are recursive functions, and how are they used?"
   ]
  },
  {
   "cell_type": "markdown",
   "id": "48b0fa13",
   "metadata": {},
   "source": [
    "**Ans:**\n",
    "Recursion is a process in which function call itself while its execution. The process terminates itself after \n",
    "limiting condition is reached."
   ]
  },
  {
   "cell_type": "code",
   "execution_count": 17,
   "id": "491ef4c9",
   "metadata": {},
   "outputs": [
    {
     "data": {
      "text/plain": [
       "720"
      ]
     },
     "execution_count": 17,
     "metadata": {},
     "output_type": "execute_result"
    }
   ],
   "source": [
    "def rec_factorial(n: int) -> int :\n",
    "    \"\"\"This function returns the factorial of a \n",
    "    number using recursion\"\"\"\n",
    "    if n == 1:\n",
    "        return n\n",
    "    else:\n",
    "        return n * rec_factorial(n-1)\n"
   ]
  },
  {
   "cell_type": "markdown",
   "id": "c9054cc6",
   "metadata": {},
   "source": [
    "### 6. What are some general design guidelines for coding functions?"
   ]
  },
  {
   "cell_type": "markdown",
   "id": "060d8bdc",
   "metadata": {},
   "source": [
    "**Ans:**\n",
    "The General guidelines for coding a function is as follows(as per PEP8 style guidelines documentation):\n",
    "1. Function names should be lowercase, with words separated by underscores to improve readability.\n",
    "2. Use proper Indentation to improve code redability.\n",
    "3. Use Doc Strings to explain the purpose and functionality of function.\n",
    "4. Variable used in functions follow the same naming convention as function names.\n",
    "5. Constants used in functions are written in all capital letters with underscores separating words.\n",
    "6. Use proper function annotations to improve the overall function understanding of coder.\n",
    "7. Use exception handeling to catch any errors.\n",
    "8. Avoid using Global variables."
   ]
  },
  {
   "cell_type": "code",
   "execution_count": 16,
   "id": "645fad4d",
   "metadata": {},
   "outputs": [
    {
     "data": {
      "text/plain": [
       "120"
      ]
     },
     "execution_count": 16,
     "metadata": {},
     "output_type": "execute_result"
    }
   ],
   "source": [
    "\"\"\" For example\"\"\"\n",
    "\n",
    "from typing import Sequence\n",
    "l = (1,2,3,4,5)\n",
    "\n",
    "def product(l: Sequence[int] = []) -> int:\n",
    "    \"\"\"This function returns Multiplication of elements in a \n",
    "    sequence i.e. list or tuple \"\"\"\n",
    "    temp = 1\n",
    "    for i in l:\n",
    "        temp *= i\n",
    "    return temp\n",
    "product(l)   "
   ]
  },
  {
   "cell_type": "markdown",
   "id": "b5f7f39b",
   "metadata": {},
   "source": [
    "### 7. Name three or more ways that functions can communicate results to a caller."
   ]
  },
  {
   "cell_type": "markdown",
   "id": "1e12367d",
   "metadata": {},
   "source": [
    "**Ans:**\n",
    "Ways that functions can communicate results to a caller is:\n",
    "1. print()\n",
    "2. return keyword\n",
    "3. yield keyword\n"
   ]
  }
 ],
 "metadata": {
  "kernelspec": {
   "display_name": "Python 3 (ipykernel)",
   "language": "python",
   "name": "python3"
  },
  "language_info": {
   "codemirror_mode": {
    "name": "ipython",
    "version": 3
   },
   "file_extension": ".py",
   "mimetype": "text/x-python",
   "name": "python",
   "nbconvert_exporter": "python",
   "pygments_lexer": "ipython3",
   "version": "3.9.12"
  }
 },
 "nbformat": 4,
 "nbformat_minor": 5
}
