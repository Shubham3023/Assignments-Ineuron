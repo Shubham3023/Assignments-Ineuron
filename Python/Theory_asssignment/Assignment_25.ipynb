{
 "cells": [
  {
   "cell_type": "markdown",
   "id": "21942317",
   "metadata": {},
   "source": [
    "### 1) What is the difference between enclosing a list comprehension in square brackets and parentheses?"
   ]
  },
  {
   "cell_type": "markdown",
   "id": "26f77d98",
   "metadata": {},
   "source": [
    "**Ans: a)**\n",
    "When `list comprehension` is enclosed in `square brackets`, it creates a `list` based on the statement written inside square brackets.\n",
    "For example, the below list comprehension returns a list after executing the statement inside square brackets."
   ]
  },
  {
   "cell_type": "code",
   "execution_count": 1,
   "id": "b5b1d471",
   "metadata": {},
   "outputs": [
    {
     "data": {
      "text/plain": [
       "[4, 16, 36, 64]"
      ]
     },
     "execution_count": 1,
     "metadata": {},
     "output_type": "execute_result"
    }
   ],
   "source": [
    "[x**2 for x in range(1,10) if x % 2 == 0]"
   ]
  },
  {
   "cell_type": "markdown",
   "id": "564d6c20",
   "metadata": {},
   "source": [
    "**b)**\n",
    "    Whereas when `list comprehension` is enclosed inside `parenthesis`, it creates a `generator`, this is called `generator expression`. For example, the below is an example of generator expression, this doesn't create a list like the example in previous cell, instead it creates a generator."
   ]
  },
  {
   "cell_type": "code",
   "execution_count": 2,
   "id": "672daf37",
   "metadata": {},
   "outputs": [
    {
     "name": "stdout",
     "output_type": "stream",
     "text": [
      "4 16 36 64 "
     ]
    }
   ],
   "source": [
    "for i in (x**2 for x in range(1,10) if x % 2 == 0 ):\n",
    "    print(i, end = ' ')"
   ]
  },
  {
   "cell_type": "markdown",
   "id": "d9b7d295",
   "metadata": {},
   "source": [
    "### 2) What is the relationship between generators and iterators?"
   ]
  },
  {
   "cell_type": "markdown",
   "id": "5a644a54",
   "metadata": {},
   "source": [
    "**Ans: a)** \n",
    "`Iterator`: iterator is an `object` which is used to `iterate` over an `iterable` like `list, tuples, etc`. It contains a countable no of values.\n",
    "\n",
    "For example, in below example list, l is an iterable, by using `iter()`, we can convert an iterable into an iterator and by using `next()`, we can get all the values. "
   ]
  },
  {
   "cell_type": "code",
   "execution_count": 3,
   "id": "2dea20be",
   "metadata": {},
   "outputs": [
    {
     "data": {
      "text/plain": [
       "'shubham'"
      ]
     },
     "execution_count": 3,
     "metadata": {},
     "output_type": "execute_result"
    }
   ],
   "source": [
    "l = ['shubham', 'sahil', 'sandeep']\n",
    "iterator = iter(l)\n",
    "next(iterator)"
   ]
  },
  {
   "cell_type": "code",
   "execution_count": 4,
   "id": "1a803b1a",
   "metadata": {},
   "outputs": [
    {
     "data": {
      "text/plain": [
       "'sahil'"
      ]
     },
     "execution_count": 4,
     "metadata": {},
     "output_type": "execute_result"
    }
   ],
   "source": [
    "next(iterator)"
   ]
  },
  {
   "cell_type": "markdown",
   "id": "c3cd9500",
   "metadata": {},
   "source": [
    "**b)**\n",
    "`Generator` is `another way of creating an iterator`, generator is created by using `yield` in place of `return` while defining a function. For example:"
   ]
  },
  {
   "cell_type": "code",
   "execution_count": 17,
   "id": "d2f04856",
   "metadata": {},
   "outputs": [],
   "source": [
    "def gen_exmple(n):\n",
    "    for i in range(n,n+4):\n",
    "        yield i**2\n",
    "\n",
    "obj = gen_exmple(3)"
   ]
  },
  {
   "cell_type": "code",
   "execution_count": 18,
   "id": "eaf228c8",
   "metadata": {},
   "outputs": [
    {
     "data": {
      "text/plain": [
       "9"
      ]
     },
     "execution_count": 18,
     "metadata": {},
     "output_type": "execute_result"
    }
   ],
   "source": [
    "next(obj)"
   ]
  },
  {
   "cell_type": "code",
   "execution_count": 19,
   "id": "855d5468",
   "metadata": {},
   "outputs": [
    {
     "data": {
      "text/plain": [
       "16"
      ]
     },
     "execution_count": 19,
     "metadata": {},
     "output_type": "execute_result"
    }
   ],
   "source": [
    "next(obj)"
   ]
  },
  {
   "cell_type": "markdown",
   "id": "8f27aa87",
   "metadata": {},
   "source": [
    "**c)** So `generator` is an `iterator`, but `every iterator` is `not a generator`."
   ]
  },
  {
   "cell_type": "markdown",
   "id": "82bf1b46",
   "metadata": {},
   "source": [
    "### 3) What are the signs that a function is a generator function?"
   ]
  },
  {
   "cell_type": "markdown",
   "id": "5b60f382",
   "metadata": {},
   "source": [
    "**Ans:**\n",
    "If a function contains `'yeild'` in place of `'return'` then that function is a `generator`. For example"
   ]
  },
  {
   "cell_type": "code",
   "execution_count": 22,
   "id": "ed8d8acf",
   "metadata": {},
   "outputs": [],
   "source": [
    "def sqr_func(n):\n",
    "    print(\"This is an example of function\")\n",
    "    return n**2\n",
    "\n",
    "def sqr_gen(n):\n",
    "    print(\"This is an example of generator\")\n",
    "    for i in range(n, n+10):\n",
    "        yield i**2"
   ]
  },
  {
   "cell_type": "code",
   "execution_count": 23,
   "id": "69a0a4a2",
   "metadata": {},
   "outputs": [
    {
     "name": "stdout",
     "output_type": "stream",
     "text": [
      "This is an example of function\n"
     ]
    },
    {
     "data": {
      "text/plain": [
       "81"
      ]
     },
     "execution_count": 23,
     "metadata": {},
     "output_type": "execute_result"
    }
   ],
   "source": [
    "sqr_func(9)"
   ]
  },
  {
   "cell_type": "code",
   "execution_count": 24,
   "id": "cfacec19",
   "metadata": {},
   "outputs": [
    {
     "name": "stdout",
     "output_type": "stream",
     "text": [
      "This is an example of generator\n"
     ]
    },
    {
     "data": {
      "text/plain": [
       "25"
      ]
     },
     "execution_count": 24,
     "metadata": {},
     "output_type": "execute_result"
    }
   ],
   "source": [
    "obj1 = sqr_gen(5)\n",
    "next(obj1)"
   ]
  },
  {
   "cell_type": "markdown",
   "id": "3910c4c5",
   "metadata": {},
   "source": [
    "### 4) What is the purpose of a yield statement?"
   ]
  },
  {
   "cell_type": "markdown",
   "id": "7de5edf5",
   "metadata": {},
   "source": [
    "**Ans:**\n",
    "Purpose of `yeild` keyword is to return the object of generator when a function containing `yeild` keyword is called."
   ]
  },
  {
   "cell_type": "markdown",
   "id": "bcbe951a",
   "metadata": {},
   "source": [
    "### 5) What is the relationship between map calls and list comprehensions? Make a comparison and contrast between the two."
   ]
  },
  {
   "cell_type": "markdown",
   "id": "21308757",
   "metadata": {},
   "source": [
    "**Ans: a)**\n",
    "Map is a function which takes two args, first a function and second an iterable, map object(which is an iterator) returns\n",
    "output after mapping function to each value in iterable. For example"
   ]
  },
  {
   "cell_type": "code",
   "execution_count": 5,
   "id": "e8f33435",
   "metadata": {},
   "outputs": [
    {
     "data": {
      "text/plain": [
       "[1, 4, 9, 16, 25]"
      ]
     },
     "execution_count": 5,
     "metadata": {},
     "output_type": "execute_result"
    }
   ],
   "source": [
    "def square(num): # function\n",
    "    return num**2\n",
    "\n",
    "l = [1,2,3,4,5] # iterable\n",
    "\n",
    "map_obj = map(square,l) # map object\n",
    "\n",
    "[x for x in map_obj] # list comprehension\n",
    "    "
   ]
  },
  {
   "cell_type": "markdown",
   "id": "fff1f5ad",
   "metadata": {},
   "source": [
    "**b)** \n",
    "1. list comprehension return a list after evaluating statement inside list comprehension, whereas a map call returns a map object as shown in above example. \n",
    "2. we can use conditional statement in list comprehension, whereas conditional statements cannot be used with map function."
   ]
  }
 ],
 "metadata": {
  "kernelspec": {
   "display_name": "Python 3 (ipykernel)",
   "language": "python",
   "name": "python3"
  },
  "language_info": {
   "codemirror_mode": {
    "name": "ipython",
    "version": 3
   },
   "file_extension": ".py",
   "mimetype": "text/x-python",
   "name": "python",
   "nbconvert_exporter": "python",
   "pygments_lexer": "ipython3",
   "version": "3.9.12"
  }
 },
 "nbformat": 4,
 "nbformat_minor": 5
}
