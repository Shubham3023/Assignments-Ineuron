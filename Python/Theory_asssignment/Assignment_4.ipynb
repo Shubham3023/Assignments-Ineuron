{
 "cells": [
  {
   "cell_type": "markdown",
   "id": "4524109d",
   "metadata": {},
   "source": [
    "### 1. What exactly is []?"
   ]
  },
  {
   "cell_type": "markdown",
   "id": "97634a94",
   "metadata": {},
   "source": [
    "**Ans:** `[]` is used to create an `empty list`. \n",
    "\n",
    "**For example**"
   ]
  },
  {
   "cell_type": "code",
   "execution_count": 3,
   "id": "d6ff7d63",
   "metadata": {},
   "outputs": [
    {
     "name": "stdout",
     "output_type": "stream",
     "text": [
      "<class 'list'>\n",
      "0\n"
     ]
    }
   ],
   "source": [
    "l = []\n",
    "print(type(l))\n",
    "print(len(l))"
   ]
  },
  {
   "cell_type": "markdown",
   "id": "a320b57a",
   "metadata": {},
   "source": [
    "### 2. In a list of values stored in a variable called spam, how would you assign the value 'hello' as the third value? (Assume [2, 4, 6, 8, 10] are in spam.)"
   ]
  },
  {
   "cell_type": "code",
   "execution_count": 4,
   "id": "5e57386b",
   "metadata": {},
   "outputs": [
    {
     "name": "stdout",
     "output_type": "stream",
     "text": [
      "[2, 4, 'hello', 8, 10]\n"
     ]
    }
   ],
   "source": [
    "spam = [2, 4, 6, 8, 10]\n",
    "spam[2] = 'hello'\n",
    "print(spam)"
   ]
  },
  {
   "cell_type": "markdown",
   "id": "94ee7548",
   "metadata": {},
   "source": [
    "# Let's pretend the spam includes the list ['a', 'b', 'c', 'd'] for the next three queries."
   ]
  },
  {
   "cell_type": "code",
   "execution_count": 8,
   "id": "763ad73d",
   "metadata": {},
   "outputs": [],
   "source": [
    "spam = ['a', 'b', 'c', 'd']"
   ]
  },
  {
   "cell_type": "markdown",
   "id": "b6e8b12d",
   "metadata": {},
   "source": [
    "### 3. What is the value of spam[int(int('3' * 2) / 11)]?\n",
    "\n",
    "**Ans:** The value of above expression `int(int('3' * 2) / 11)` evaluates to `3` and the value spam[3] will be `'d'`. The code execution is shown below:"
   ]
  },
  {
   "cell_type": "code",
   "execution_count": 9,
   "id": "17b9c4ff",
   "metadata": {},
   "outputs": [
    {
     "data": {
      "text/plain": [
       "'d'"
      ]
     },
     "execution_count": 9,
     "metadata": {},
     "output_type": "execute_result"
    }
   ],
   "source": [
    "spam[int(int('3' * 2) / 11)]"
   ]
  },
  {
   "cell_type": "markdown",
   "id": "f90e9f98",
   "metadata": {},
   "source": [
    "### 4. What is the value of spam[-1]?\n",
    "\n",
    "**Ans:** The value of `spam[-1]` will be `'d'`. This is because of use of negative index. Negative index `-1`\n",
    "    starts from last element of iterable. The code execution is shown below:"
   ]
  },
  {
   "cell_type": "code",
   "execution_count": 11,
   "id": "edf709a5",
   "metadata": {},
   "outputs": [
    {
     "data": {
      "text/plain": [
       "'d'"
      ]
     },
     "execution_count": 11,
     "metadata": {},
     "output_type": "execute_result"
    }
   ],
   "source": [
    "spam[-1]"
   ]
  },
  {
   "cell_type": "markdown",
   "id": "6dc19f7d",
   "metadata": {},
   "source": [
    "### 5. What is the value of spam[:2]?\n",
    "\n",
    "**Ans:** The value of `spam[:2]` will be ['a','b']. This operation is called slicing. list[`initial value`: `final value`: `step`] is the syntax. Slicing operation excludes `final value` while displaying the result of slicing operation.The code execution is shown below:"
   ]
  },
  {
   "cell_type": "code",
   "execution_count": 13,
   "id": "bbc06407",
   "metadata": {},
   "outputs": [
    {
     "data": {
      "text/plain": [
       "['a', 'b']"
      ]
     },
     "execution_count": 13,
     "metadata": {},
     "output_type": "execute_result"
    }
   ],
   "source": [
    "spam[:2]"
   ]
  },
  {
   "cell_type": "markdown",
   "id": "68e0cc5a",
   "metadata": {},
   "source": [
    "# Let's pretend bacon has the list [3.14, 'cat,' 11, 'cat,' True] for the next three questions."
   ]
  },
  {
   "cell_type": "code",
   "execution_count": 22,
   "id": "6e8e1cbb",
   "metadata": {},
   "outputs": [
    {
     "name": "stdout",
     "output_type": "stream",
     "text": [
      "5\n"
     ]
    }
   ],
   "source": [
    "bacon = [3.14, 'cat', 11, 'cat', True]\n",
    "print(len(bacon))"
   ]
  },
  {
   "cell_type": "markdown",
   "id": "ef7f27f5",
   "metadata": {},
   "source": [
    "### 6. What is the value of bacon.index('cat')?\n",
    "\n",
    "**Ans:** The value of `bacon.index('cat')` will be 1. `index()` function is used too display index of parameter passed in it. The code execution is shown below:"
   ]
  },
  {
   "cell_type": "code",
   "execution_count": 18,
   "id": "9e883501",
   "metadata": {},
   "outputs": [
    {
     "data": {
      "text/plain": [
       "1"
      ]
     },
     "execution_count": 18,
     "metadata": {},
     "output_type": "execute_result"
    }
   ],
   "source": [
    "bacon.index('cat')"
   ]
  },
  {
   "cell_type": "markdown",
   "id": "d67e8d2f",
   "metadata": {},
   "source": [
    "### 7. How does bacon.append(99) change the look of the list value in bacon?\n",
    "\n",
    "**Ans:** list after `append()` will be `[3.14, 'cat', 11, 'cat', True, 99]`, because `append()` function appends \n",
    "    object in the `end of the list`, `list length is increased`. This function `permanently changes the list`.\n",
    "    The code execution is shown below:"
   ]
  },
  {
   "cell_type": "code",
   "execution_count": 23,
   "id": "feaafddb",
   "metadata": {},
   "outputs": [
    {
     "name": "stdout",
     "output_type": "stream",
     "text": [
      "[3.14, 'cat', 11, 'cat', True, 99]\n",
      "6\n"
     ]
    }
   ],
   "source": [
    "bacon.append(99)\n",
    "print(bacon)\n",
    "print(len(bacon))"
   ]
  },
  {
   "cell_type": "markdown",
   "id": "ff816386",
   "metadata": {},
   "source": [
    "### 8. How does bacon.remove('cat') change the look of the list in bacon?\n",
    "\n",
    "**Ans:** list after `remove()` will be `[3.14, 11, 'cat', True, 99]`, `remove()` function `removes first occurrence` of \n",
    "    object`, list `length is decreased`. This function permanently changes the list. The code execution is shown below:"
   ]
  },
  {
   "cell_type": "code",
   "execution_count": 24,
   "id": "074014fb",
   "metadata": {},
   "outputs": [
    {
     "name": "stdout",
     "output_type": "stream",
     "text": [
      "[3.14, 11, 'cat', True, 99]\n",
      "5\n"
     ]
    }
   ],
   "source": [
    "bacon.remove('cat')\n",
    "print(bacon)\n",
    "print(len(bacon))"
   ]
  },
  {
   "cell_type": "markdown",
   "id": "3d14e270",
   "metadata": {},
   "source": [
    "### 9. What are the list concatenation and list replication operators?\n",
    "\n",
    "**Ans:**\n",
    "1. List concatenation operator: + \n",
    "2. List replication operator: *\n",
    "\n",
    "**For Example**"
   ]
  },
  {
   "cell_type": "code",
   "execution_count": 31,
   "id": "df5a5f00",
   "metadata": {},
   "outputs": [
    {
     "name": "stdout",
     "output_type": "stream",
     "text": [
      "Concatenation operation result: \n",
      " [1, 2, 3, 4, 5, 'a', 'b', 'c', 'd', 'e']\n",
      "Replication operation result: \n",
      " ['a', 'b', 'c', 'd', 'e', 'a', 'b', 'c', 'd', 'e', 'a', 'b', 'c', 'd', 'e']\n"
     ]
    }
   ],
   "source": [
    "list1 = [1,2,3,4,5]\n",
    "list2 = ['a','b','c','d','e']\n",
    "\n",
    "print(\"Concatenation operation result: \\n\", list1 + list2)\n",
    "\n",
    "print(\"Replication operation result: \\n\",list2 * 3)"
   ]
  },
  {
   "cell_type": "markdown",
   "id": "2bd6ff21",
   "metadata": {},
   "source": [
    "### 10. What is difference between the list methods append() and insert()?\n",
    "\n",
    "**Ans:** The append() method appends the object to the end of the list. Whereas insert() method insert the object before a specified index and moves the other list objects forward. Both methods increase the length of list.\n",
    "\n",
    "**For Example**"
   ]
  },
  {
   "cell_type": "code",
   "execution_count": 36,
   "id": "95c4a491",
   "metadata": {},
   "outputs": [
    {
     "name": "stdout",
     "output_type": "stream",
     "text": [
      "[1, 2, 3, 4, 5, 6, 'Hello']\n"
     ]
    }
   ],
   "source": [
    "# append() \n",
    "\n",
    "list_int = [1,2,3,4,5,6]\n",
    "list_int.append(\"Hello\")\n",
    "print(list_int)"
   ]
  },
  {
   "cell_type": "code",
   "execution_count": 37,
   "id": "5103f772",
   "metadata": {},
   "outputs": [
    {
     "name": "stdout",
     "output_type": "stream",
     "text": [
      "['a', 'b', 'c', 'Shubham_Verma', 'd', 'e']\n"
     ]
    }
   ],
   "source": [
    "# insert()\n",
    "\n",
    "list_alpha = ['a','b','c','d','e']\n",
    "list_alpha.insert(3,\"Shubham_Verma\")\n",
    "print(list_alpha)"
   ]
  },
  {
   "cell_type": "markdown",
   "id": "f88d8636",
   "metadata": {},
   "source": [
    "### 11. What are the two methods for removing items from a list?\n",
    "\n",
    "**Ans:** \n",
    "1. remove()\n",
    "2. del keyword\n",
    "\n",
    "**For Example**"
   ]
  },
  {
   "cell_type": "code",
   "execution_count": 39,
   "id": "8a1e8e4e",
   "metadata": {},
   "outputs": [
    {
     "name": "stdout",
     "output_type": "stream",
     "text": [
      "original list:  [1, 2, 3, 4, 5, 'a', 'b', 'c', 'd', 'e']\n",
      "list after remove():  [1, 2, 3, 4, 5, 'b', 'c', 'd', 'e']\n",
      "list after del:  [1, 2, 3, 4, 'b', 'c', 'd', 'e']\n"
     ]
    }
   ],
   "source": [
    "list = [1, 2, 3, 4, 5, 'a', 'b', 'c', 'd', 'e']\n",
    "print(\"original list: \",list)\n",
    "list.remove('a')\n",
    "print(\"list after remove(): \",list)\n",
    "del list[4]\n",
    "print(\"list after del: \",list)"
   ]
  },
  {
   "cell_type": "markdown",
   "id": "0d287c99",
   "metadata": {},
   "source": [
    "### 12. Describe how list values and string values are identical.\n",
    "\n",
    "**Ans:**\n",
    "1. Both `list` and `string` can be `concatenated` and `replicated`.\n",
    "2. Both `list` and `string` are `iterables` and loops can be used.\n",
    "3. Both `list` and `string` can be passed to a `len()` method.\n",
    "4. Both `list` and `string` have `index` and can be `sliced`."
   ]
  },
  {
   "cell_type": "markdown",
   "id": "e112d960",
   "metadata": {},
   "source": [
    "### 13. What's the difference between tuples and lists?\n",
    "\n",
    "**Ans** The difference between tuples and list is that list is mutable while tuples are immutable, hence tuple can be used to store password."
   ]
  },
  {
   "cell_type": "markdown",
   "id": "aa071721",
   "metadata": {},
   "source": [
    "### 14. How do you type a tuple value that only contains the integer 42?\n",
    "\n",
    "**Ans:**"
   ]
  },
  {
   "cell_type": "code",
   "execution_count": 50,
   "id": "c05fe71f",
   "metadata": {},
   "outputs": [
    {
     "name": "stdout",
     "output_type": "stream",
     "text": [
      "(42,)\n"
     ]
    }
   ],
   "source": [
    "tuple1 = (42,)\n",
    "print(tuple1)"
   ]
  },
  {
   "cell_type": "markdown",
   "id": "8f5e24cd",
   "metadata": {},
   "source": [
    "### 15. How do you get a list value's tuple form? How do you get a tuple value's list form?\n",
    "\n",
    "**Ans:** This can be done using type casting.\n",
    "1. list() \n",
    "2. tuple()"
   ]
  },
  {
   "cell_type": "markdown",
   "id": "1ac25a8c",
   "metadata": {},
   "source": [
    "### 16. Variables that “contain” list values are not necessarily lists themselves. Instead, what do they\n",
    "contain?\n",
    "\n",
    "**Ans:** Variables that contain list values are not necessarily lists themselves. Instead, they contain references to list values."
   ]
  },
  {
   "cell_type": "markdown",
   "id": "0f3dd0d3",
   "metadata": {},
   "source": [
    "### 17. How do you distinguish between copy.copy() and copy.deepcopy()?\n",
    "\n",
    "**Ans:** `copy.copy()` creates a `shallow copy` of the list, i.e if changes are made in copy of original list changes are also reflected in the original list. Whereas `copy,deepcopy()` creates a `new list` and `does real copy of items`."
   ]
  }
 ],
 "metadata": {
  "kernelspec": {
   "display_name": "Python 3 (ipykernel)",
   "language": "python",
   "name": "python3"
  },
  "language_info": {
   "codemirror_mode": {
    "name": "ipython",
    "version": 3
   },
   "file_extension": ".py",
   "mimetype": "text/x-python",
   "name": "python",
   "nbconvert_exporter": "python",
   "pygments_lexer": "ipython3",
   "version": "3.9.12"
  }
 },
 "nbformat": 4,
 "nbformat_minor": 5
}
