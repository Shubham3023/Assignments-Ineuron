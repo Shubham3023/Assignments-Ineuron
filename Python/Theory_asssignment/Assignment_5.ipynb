{
 "cells": [
  {
   "cell_type": "markdown",
   "id": "e58c4388",
   "metadata": {},
   "source": [
    "### 1. What does an empty dictionary's code look like?\n",
    "\n",
    "**Ans:** empty dictionary's code is `{}` or `d = dict()`."
   ]
  },
  {
   "cell_type": "code",
   "execution_count": 2,
   "id": "75548f0e",
   "metadata": {},
   "outputs": [
    {
     "data": {
      "text/plain": [
       "dict"
      ]
     },
     "execution_count": 2,
     "metadata": {},
     "output_type": "execute_result"
    }
   ],
   "source": [
    "type({})"
   ]
  },
  {
   "cell_type": "code",
   "execution_count": 3,
   "id": "356b415e",
   "metadata": {},
   "outputs": [
    {
     "data": {
      "text/plain": [
       "dict"
      ]
     },
     "execution_count": 3,
     "metadata": {},
     "output_type": "execute_result"
    }
   ],
   "source": [
    "d = dict()\n",
    "type(d)"
   ]
  },
  {
   "cell_type": "markdown",
   "id": "bfb10c94",
   "metadata": {},
   "source": [
    "### 2. What is the value of a dictionary value with the key 'foo' and the value 42?\n",
    "\n",
    "**Ans:** The dictionary will be `{'foo' : 42}`"
   ]
  },
  {
   "cell_type": "code",
   "execution_count": 4,
   "id": "f7f9a3bd",
   "metadata": {},
   "outputs": [
    {
     "name": "stdout",
     "output_type": "stream",
     "text": [
      "{'foo': 42}\n"
     ]
    }
   ],
   "source": [
    "d1 = {'foo' : 42}\n",
    "print(d1)"
   ]
  },
  {
   "cell_type": "markdown",
   "id": "fd81b941",
   "metadata": {},
   "source": [
    "### 3. What is the most significant distinction between a dictionary and a list?\n",
    "\n",
    "**Ans:**\n",
    "1. `dictionary` is created using `{'keys' : 'values'}` whereas `list`is created using `[] with elements seperated by commas`.\n",
    "2. `dictionary` is `key and value pairs` hashed structure which stores map data whereas `list` is collection of `index and value pairs`.\n",
    "3. `dictionary keys` can be of `any datatype` whereas `list index` is `integers starting from zero`.\n",
    "4. `dictionary` is accessed using `key and value pairs` whereas `list` is accessed using `indices`.\n",
    "5. In dictionary there is `no guarentee for maintining order` of entered data whereas in list the `order of entered data is maintained`."
   ]
  },
  {
   "cell_type": "markdown",
   "id": "031b63fd",
   "metadata": {},
   "source": [
    "### 4. What happens if you try to access spam['foo'] if spam is {'bar': 100}?\n",
    "\n",
    "**Ans** This will throw a key error as given below:"
   ]
  },
  {
   "cell_type": "code",
   "execution_count": 8,
   "id": "7937ba09",
   "metadata": {},
   "outputs": [
    {
     "ename": "KeyError",
     "evalue": "'foo'",
     "output_type": "error",
     "traceback": [
      "\u001b[1;31m---------------------------------------------------------------------------\u001b[0m",
      "\u001b[1;31mKeyError\u001b[0m                                  Traceback (most recent call last)",
      "Input \u001b[1;32mIn [8]\u001b[0m, in \u001b[0;36m<cell line: 2>\u001b[1;34m()\u001b[0m\n\u001b[0;32m      1\u001b[0m spam \u001b[38;5;241m=\u001b[39m {\u001b[38;5;124m'\u001b[39m\u001b[38;5;124mbar\u001b[39m\u001b[38;5;124m'\u001b[39m : \u001b[38;5;241m100\u001b[39m}\n\u001b[1;32m----> 2\u001b[0m \u001b[43mspam\u001b[49m\u001b[43m[\u001b[49m\u001b[38;5;124;43m'\u001b[39;49m\u001b[38;5;124;43mfoo\u001b[39;49m\u001b[38;5;124;43m'\u001b[39;49m\u001b[43m]\u001b[49m\n",
      "\u001b[1;31mKeyError\u001b[0m: 'foo'"
     ]
    }
   ],
   "source": [
    "spam = {'bar' : 100}\n",
    "spam['foo']\n"
   ]
  },
  {
   "cell_type": "code",
   "execution_count": 9,
   "id": "c2b4a02f",
   "metadata": {},
   "outputs": [
    {
     "name": "stdout",
     "output_type": "stream",
     "text": [
      "The key error occured is:  'foo'\n"
     ]
    }
   ],
   "source": [
    "try: \n",
    "    spam['foo']\n",
    "except Exception as e:\n",
    "    print(\"The key error occured is: \",e)"
   ]
  },
  {
   "cell_type": "markdown",
   "id": "3241e6bc",
   "metadata": {},
   "source": [
    "### 5. If a dictionary is stored in spam, what is the difference between the expressions 'cat' in spam and 'cat' in spam.keys()?\n",
    "\n",
    "**Ans:** The expression `'cat' in spam` and `'cat' in spam.keys()` are both equal execution wise, as both these expression\n",
    "look for `'cat'` in `keys` of dictionary `spam`. **For Example**"
   ]
  },
  {
   "cell_type": "code",
   "execution_count": 7,
   "id": "057d14bf",
   "metadata": {},
   "outputs": [
    {
     "name": "stdout",
     "output_type": "stream",
     "text": [
      "True\n"
     ]
    }
   ],
   "source": [
    "spam = {'cat': 'Billi', 'dog' : 'kutta', 'parrot' : 'mitthu'}\n",
    "\n",
    "if 'cat' in spam:\n",
    "    print(True)\n",
    "else:\n",
    "    print(False)"
   ]
  },
  {
   "cell_type": "code",
   "execution_count": 8,
   "id": "c28d1400",
   "metadata": {},
   "outputs": [
    {
     "name": "stdout",
     "output_type": "stream",
     "text": [
      "True\n"
     ]
    }
   ],
   "source": [
    "if 'cat' in spam.keys():\n",
    "    print(True)\n",
    "else:\n",
    "    print(False)"
   ]
  },
  {
   "cell_type": "code",
   "execution_count": 11,
   "id": "10ab1769",
   "metadata": {},
   "outputs": [
    {
     "name": "stdout",
     "output_type": "stream",
     "text": [
      "False\n"
     ]
    }
   ],
   "source": [
    "\"\"\"But this does not hold True, if we place cat in value instead of keys, so this implies \n",
    "that both expression looks for string in keys only \"\"\"\n",
    "\n",
    "spam = {'Billi': 'cat', 'dog' : 'kutta', 'parrot' : 'mitthu'}\n",
    "\n",
    "if 'cat' in spam:\n",
    "    print(True)\n",
    "else:\n",
    "    print(False)"
   ]
  },
  {
   "cell_type": "markdown",
   "id": "9353e35c",
   "metadata": {},
   "source": [
    "### 6. If a dictionary is stored in spam, what is the difference between the expressions 'cat' in spam and 'cat' in spam.values()?\n",
    "\n",
    "**Ans:** As explained in previous question `'cat' in spam` will only look for `'cat'` in keys of dictionary. Whereas `'cat' in spam.values()` will look for `'cat'` in values of dictionary. **For example** "
   ]
  },
  {
   "cell_type": "code",
   "execution_count": 12,
   "id": "e971347b",
   "metadata": {},
   "outputs": [
    {
     "name": "stdout",
     "output_type": "stream",
     "text": [
      "False\n"
     ]
    }
   ],
   "source": [
    "spam = {'Billi': 'cat', 'dog' : 'kutta', 'parrot' : 'mitthu'}\n",
    "\n",
    "if 'cat' in spam:\n",
    "    print(True)\n",
    "else:\n",
    "    print(False)"
   ]
  },
  {
   "cell_type": "code",
   "execution_count": 13,
   "id": "71cffb36",
   "metadata": {},
   "outputs": [
    {
     "name": "stdout",
     "output_type": "stream",
     "text": [
      "True\n"
     ]
    }
   ],
   "source": [
    "if 'cat' in spam.values():\n",
    "    print(True)\n",
    "else:\n",
    "    print(False)"
   ]
  },
  {
   "cell_type": "markdown",
   "id": "e5748df9",
   "metadata": {},
   "source": [
    "### 7. What is a shortcut for the following code?\n",
    "\n",
    "`if 'color' not in spam:`\n",
    "    \n",
    "`spam['color'] = 'black'`\n",
    "\n",
    "**Ans:** shortcut for `if 'color' not in spam : spam['color'] = 'black'` is `spam.setdefault('color','black')` as shown below:"
   ]
  },
  {
   "cell_type": "code",
   "execution_count": 18,
   "id": "0ca6cdfb",
   "metadata": {},
   "outputs": [
    {
     "name": "stdout",
     "output_type": "stream",
     "text": [
      "{'cat': 'Billi', 'dog': 'kutta', 'parrot': 'mitthu', 'color': 'black'}\n"
     ]
    }
   ],
   "source": [
    "spam = {'cat': 'Billi', 'dog' : 'kutta', 'parrot' : 'mitthu'}\n",
    "spam.setdefault('color','black')\n",
    "print(spam)"
   ]
  },
  {
   "cell_type": "markdown",
   "id": "2aa57282",
   "metadata": {},
   "source": [
    "### 8. How do you \"pretty print\" dictionary values using which module and function?\n",
    "\n",
    "**Ans:** By using `pprint()` method of `pprint module`. **For example**"
   ]
  },
  {
   "cell_type": "code",
   "execution_count": 19,
   "id": "14d81daa",
   "metadata": {},
   "outputs": [
    {
     "name": "stdout",
     "output_type": "stream",
     "text": [
      "[{'Name': 'Sachin Tendulkar', 'played for': {'Ranji': 'Maharashtra', 'country': 'India', 'Ipl': 'MI'}}, {'Name': 'Stephen Curry', 'played for': {'College': 'Davidson', 'country': 'USA', 'Franchise': 'GSW'}}, {'Name': 'Derrick Rose', 'played for': {'College': 'Memphis', 'country': 'USA', 'Franchise': 'Bulls'}}]\n"
     ]
    }
   ],
   "source": [
    "my_dict = [\n",
    "    {'Name' : 'Sachin Tendulkar', 'played for' : {'Ranji' : 'Maharashtra', 'country' : 'India', 'Ipl' : 'MI'}},\n",
    "    {'Name' : 'Stephen Curry', 'played for' : {'College' : 'Davidson', 'country' : 'USA', 'Franchise' : 'GSW'}},\n",
    "    {'Name' : 'Derrick Rose', 'played for' : {'College' : 'Memphis', 'country' : 'USA', 'Franchise' : 'Bulls'}}\n",
    "]\n",
    "print(my_dict)"
   ]
  },
  {
   "cell_type": "code",
   "execution_count": 21,
   "id": "939c9cfe",
   "metadata": {},
   "outputs": [
    {
     "name": "stdout",
     "output_type": "stream",
     "text": [
      "[{'Name': 'Sachin Tendulkar',\n",
      "  'played for': {'Ipl': 'MI', 'Ranji': 'Maharashtra', 'country': 'India'}},\n",
      " {'Name': 'Stephen Curry',\n",
      "  'played for': {'College': 'Davidson', 'Franchise': 'GSW', 'country': 'USA'}},\n",
      " {'Name': 'Derrick Rose',\n",
      "  'played for': {'College': 'Memphis', 'Franchise': 'Bulls', 'country': 'USA'}}]\n"
     ]
    }
   ],
   "source": [
    "import pprint as pp\n",
    "pp.pprint(my_dict)"
   ]
  }
 ],
 "metadata": {
  "kernelspec": {
   "display_name": "Python 3 (ipykernel)",
   "language": "python",
   "name": "python3"
  },
  "language_info": {
   "codemirror_mode": {
    "name": "ipython",
    "version": 3
   },
   "file_extension": ".py",
   "mimetype": "text/x-python",
   "name": "python",
   "nbconvert_exporter": "python",
   "pygments_lexer": "ipython3",
   "version": "3.9.12"
  }
 },
 "nbformat": 4,
 "nbformat_minor": 5
}
