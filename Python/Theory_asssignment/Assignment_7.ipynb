{
 "cells": [
  {
   "cell_type": "markdown",
   "id": "d1534e8c",
   "metadata": {},
   "source": [
    "### 1. What is the name of the feature responsible for generating Regex objects?"
   ]
  },
  {
   "cell_type": "markdown",
   "id": "c334e20e",
   "metadata": {},
   "source": [
    "**Ans**\n",
    "`compile()` feature is responsible for generating RegEx objects.\n",
    "\n",
    "**For Example**\n",
    "In below example a pattern object is created using `compile()` "
   ]
  },
  {
   "cell_type": "code",
   "execution_count": 9,
   "id": "cde60ae5",
   "metadata": {},
   "outputs": [
    {
     "name": "stdout",
     "output_type": "stream",
     "text": [
      "shubham@gmail.com\n"
     ]
    }
   ],
   "source": [
    "import re\n",
    "my_string = \"shubham@gmail.com\"\n",
    "pattern = re.compile(r\"([a-zA-Z]+)@([a-zA-Z]+)\\.([a-zA-Z]+)\")\n",
    "\n",
    "matches = pattern.finditer(my_string)\n",
    "for match in matches:\n",
    "    print(match.group(0))"
   ]
  },
  {
   "cell_type": "markdown",
   "id": "bdbaecda",
   "metadata": {},
   "source": [
    "### 2. Why do raw strings often appear in Regex objects?"
   ]
  },
  {
   "cell_type": "markdown",
   "id": "f62a2b71",
   "metadata": {},
   "source": [
    "**Ans**\n",
    "RegEx use the backslash ('\\') for Metacharacters [. ^ $ * + ? { } \\ | ( )] or speical sequences [\\s, \\S, \\w, \\W, etc]. But in python ('\\') is also used to escape characters. so to avoid this we use raw strings.\n",
    "\n",
    "**For example**"
   ]
  },
  {
   "cell_type": "code",
   "execution_count": 13,
   "id": "4f897d54",
   "metadata": {},
   "outputs": [
    {
     "name": "stdout",
     "output_type": "stream",
     "text": [
      "\tramesh\n",
      "\\tramesh\n"
     ]
    }
   ],
   "source": [
    "s = \"\\tramesh\"\n",
    "print(s)\n",
    "s1 = r\"\\tramesh\"\n",
    "print(s1)"
   ]
  },
  {
   "cell_type": "markdown",
   "id": "9e492c27",
   "metadata": {},
   "source": [
    "### 3. What is the return value of the search() method?\n",
    "\n",
    "**Ans** Return value of a `search()` method is a `match object` or `None` if no match found.\n",
    "\n",
    "**For Example**"
   ]
  },
  {
   "cell_type": "code",
   "execution_count": 15,
   "id": "4145ddc3",
   "metadata": {},
   "outputs": [
    {
     "name": "stdout",
     "output_type": "stream",
     "text": [
      "<re.Match object; span=(0, 17), match='shubham@gmail.com'>\n"
     ]
    }
   ],
   "source": [
    "my_string = \"shubham@gmail.com\"\n",
    "pattern = re.compile(r\"([a-zA-Z]+)@([a-zA-Z]+)\\.([a-zA-Z]+)\")\n",
    "\n",
    "match = pattern.search(my_string)\n",
    "print(match)"
   ]
  },
  {
   "cell_type": "code",
   "execution_count": 17,
   "id": "fc2222e7",
   "metadata": {},
   "outputs": [
    {
     "name": "stdout",
     "output_type": "stream",
     "text": [
      "None\n"
     ]
    }
   ],
   "source": [
    "my_string = \"shubham@gmail.com\"\n",
    "pattern = re.compile(r\"^rty\")\n",
    "\n",
    "match = pattern.search(my_string)\n",
    "print(match)"
   ]
  },
  {
   "cell_type": "markdown",
   "id": "60113bda",
   "metadata": {},
   "source": [
    "### 4. From a Match item, how do you get the actual strings that match the pattern?\n",
    "\n",
    "**Ans** `group()` method is used to get he actual strings that match object.\n",
    "\n",
    "**For Example**"
   ]
  },
  {
   "cell_type": "code",
   "execution_count": 19,
   "id": "feb8340c",
   "metadata": {},
   "outputs": [
    {
     "name": "stdout",
     "output_type": "stream",
     "text": [
      "@1234\n"
     ]
    }
   ],
   "source": [
    "my_string = \"shubham@1234\"\n",
    "pattern = re.compile(r\"@\\d+\")\n",
    "\n",
    "match = pattern.search(my_string)\n",
    "print(match.group(0))"
   ]
  },
  {
   "cell_type": "markdown",
   "id": "bb3baed2",
   "metadata": {},
   "source": [
    "### 5. In the regex which created from the r'(\\d\\d\\d)-(\\d\\d\\d-\\d\\d\\d\\d)', what does group zero cover? Group 2? Group 1?\n",
    "\n",
    "**Ans**\n",
    "1. `group(0)` covers entire pattern i.e `(\\d\\d\\d)-(\\d\\d\\d-\\d\\d\\d\\d)`\n",
    "2. `group(1)` covers first part i.e. `(\\d\\d\\d)`\n",
    "3. `group(2)` covers second part i.e. `(\\d\\d\\d-\\d\\d\\d\\d)`\n",
    "\n",
    "**For Example**"
   ]
  },
  {
   "cell_type": "code",
   "execution_count": 22,
   "id": "fa69c72a",
   "metadata": {},
   "outputs": [
    {
     "name": "stdout",
     "output_type": "stream",
     "text": [
      "group zero:\t 999-345-3456\n",
      "group one:\t 999\n",
      "group two:\t 345-3456\n"
     ]
    }
   ],
   "source": [
    "my_str = \"\"\"\n",
    "999-345-3456\n",
    "1234-123-345\n",
    "123-4565-456\n",
    "\"\"\"\n",
    "pattern = re.compile(r\"(\\d\\d\\d)-(\\d\\d\\d-\\d\\d\\d\\d)\")\n",
    "\n",
    "matches = pattern.finditer(my_str)\n",
    "\n",
    "for match in matches:\n",
    "    print(\"group zero:\\t\",match.group(0))\n",
    "    print(\"group one:\\t\",match.group(1))\n",
    "    print(\"group two:\\t\",match.group(2))"
   ]
  },
  {
   "cell_type": "markdown",
   "id": "787e4b91",
   "metadata": {},
   "source": [
    "### 6. In standard expression syntax, parentheses and intervals have distinct meanings. How can you tell a regex that you want it to fit real parentheses and periods?\n",
    "\n",
    "**Ans** `'\\'` along with parenthesis and period will be used to fit real parentheses and periods in a RegEx pattern.\n",
    "\n",
    "**For Example** `'\\('`, `'\\)'` and `'\\.'`"
   ]
  },
  {
   "cell_type": "code",
   "execution_count": 34,
   "id": "e30a4f15",
   "metadata": {},
   "outputs": [
    {
     "name": "stdout",
     "output_type": "stream",
     "text": [
      "999-(345)-3456.\n"
     ]
    }
   ],
   "source": [
    "my_str = \"\"\"\n",
    "999-(345)-3456.\n",
    "1234-123-345\n",
    "123-4565-456\n",
    "\"\"\"\n",
    "pattern = re.compile(r\"(\\d\\d\\d)-(\\(\\d\\d\\d\\)-\\d\\d\\d\\d)\\.\")\n",
    "\n",
    "matches = pattern.finditer(my_str)\n",
    "\n",
    "for match in matches:\n",
    "    print(match.group(0))"
   ]
  },
  {
   "cell_type": "markdown",
   "id": "fe75acbc",
   "metadata": {},
   "source": [
    "### 7. The findall() method returns a string list or a list of string tuples. What causes it to return one of the two options?\n",
    "\n",
    "**Ans** If RegEx object has no groups then a list containing matching strings is returned. whereas if group is present then a list containing tuple of strings is returned.\n",
    "\n",
    "**For Example**"
   ]
  },
  {
   "cell_type": "code",
   "execution_count": 48,
   "id": "681bf98a",
   "metadata": {},
   "outputs": [
    {
     "name": "stdout",
     "output_type": "stream",
     "text": [
      "[('999', '345-3456')]\n",
      "['999-345-3456']\n"
     ]
    }
   ],
   "source": [
    "my_str = \"\"\"\n",
    "999-345-3456\n",
    "\"\"\"\n",
    "pattern1 = re.compile(r\"(\\d\\d\\d)-(\\d\\d\\d-\\d\\d\\d\\d)\")\n",
    "match1 = pattern1.findall(my_str)\n",
    "print(match1)\n",
    "\n",
    "pattern2 = re.compile(r\"\\d\\d\\d-\\d\\d\\d-\\d\\d\\d\\d\")\n",
    "match2 = pattern2.findall(my_str)\n",
    "print(match2)\n"
   ]
  },
  {
   "cell_type": "markdown",
   "id": "d61680d0",
   "metadata": {},
   "source": [
    "### 8. In standard expressions, what does the | character mean?\n",
    "\n",
    "**Ans:** `|` character means `or` in standard expresion."
   ]
  },
  {
   "cell_type": "markdown",
   "id": "b7b168c9",
   "metadata": {},
   "source": [
    "### 9. In regular expressions, what does the character stand for?\n",
    "**Ans:** `?` stands for `\"zero or one occurances and is used when a character can be optional\"` in regular expression.\n",
    "\n",
    "**For Example** In below example `?` is used to make `.` optional"
   ]
  },
  {
   "cell_type": "code",
   "execution_count": 54,
   "id": "614aea32",
   "metadata": {},
   "outputs": [
    {
     "name": "stdout",
     "output_type": "stream",
     "text": [
      "<re.Match object; span=(1, 10), match='Mr. Kumar'>\n",
      "<re.Match object; span=(11, 20), match='Mrs Kumar'>\n",
      "<re.Match object; span=(21, 32), match='Mr Abhishek'>\n",
      "<re.Match object; span=(33, 45), match='Ms. jeetisha'>\n"
     ]
    }
   ],
   "source": [
    "my_string = \"\"\"\n",
    "Mr. Kumar\n",
    "Mrs Kumar\n",
    "Mr Abhishek\n",
    "Ms. jeetisha\n",
    "\"\"\"\n",
    "\n",
    "pattern = re.compile(r\"(Mr|Ms|Mrs)\\.?\\s\\w+\")  \n",
    "matches = pattern.finditer(my_string)\n",
    "\n",
    "for match in matches:\n",
    "    print(match)"
   ]
  },
  {
   "cell_type": "markdown",
   "id": "a45ebb39",
   "metadata": {},
   "source": [
    "### 10. In regular expressions, what is the difference between the + and * characters?\n",
    "\n",
    "**Ans:** `+` and `*` are both quantifiers\n",
    "\n",
    "1. `+` indicates one or more occurances of a preceding group.\n",
    "2. `*` indicates zero or more occurances of a preceding group.\n",
    "\n",
    "**For Example**"
   ]
  },
  {
   "cell_type": "code",
   "execution_count": 64,
   "id": "f8a1d24c",
   "metadata": {},
   "outputs": [
    {
     "name": "stdout",
     "output_type": "stream",
     "text": [
      "None\n",
      "<re.Match object; span=(0, 9), match='Wonderman'>\n"
     ]
    }
   ],
   "source": [
    "my_string = \"Wonderman\"\n",
    "\n",
    "patt1 = re.compile(r\"Wonder(wo)+man\")\n",
    "\n",
    "match1 = patt1.search(my_string)\n",
    "print(match1)\n",
    "\n",
    "patt2 = re.compile(r\"Wonder(wo)*man\")\n",
    "\n",
    "match2 = patt2.search(my_string)\n",
    "print(match2)"
   ]
  },
  {
   "cell_type": "markdown",
   "id": "867bf2ca",
   "metadata": {},
   "source": [
    "### 11. What is the difference between {4} and {4,5} in regular expression?\n",
    "\n",
    "**Ans:**\n",
    "1. `{4}` This means that the preceding character or group should occur 4 times.\n",
    "2. `{4,5}` This means that the preceding character or group should occur minimum 4 times and maximum 5 times.\n",
    "\n",
    "**For Example**"
   ]
  },
  {
   "cell_type": "code",
   "execution_count": 66,
   "id": "1f392358",
   "metadata": {},
   "outputs": [
    {
     "name": "stdout",
     "output_type": "stream",
     "text": [
      "['2022-08-26']\n"
     ]
    }
   ],
   "source": [
    "string1 = \"2022-08-26\"\n",
    "\n",
    "pattern1 = re.compile(r\"\\d{4}-\\d{1,3}-\\d{2}\")\n",
    "\n",
    "match = pattern1.findall(string1)\n",
    "print(match)"
   ]
  },
  {
   "cell_type": "markdown",
   "id": "c639c026",
   "metadata": {},
   "source": [
    "### 12. What do you mean by the \\d, \\w, and \\s shorthand character classes signify in regular expressions?\n",
    "**Ans:**\n",
    "1. `\\d` : Matches any digit; this is equivalent to the class [0-9].\n",
    "2. `\\s` : Matches any whitespace character;\n",
    "3. `\\w` : Matches any alphanumeric (word) character; this is equivalent to the class [a-zA-Z0-9_]."
   ]
  },
  {
   "cell_type": "markdown",
   "id": "6c125593",
   "metadata": {},
   "source": [
    "### 13. What do means by \\D, \\W, and \\S shorthand character classes signify in regular expressions?\n",
    "**Ans**\n",
    "1. `\\D` : Matches any non-digit character; this is equivalent to the class [^0-9].\n",
    "2. `\\S` : Matches any non-whitespace character;\n",
    "3. `\\W` : Matches any non-alphanumeric character; this is equivalent to the class [^a-zA-Z0-9_]."
   ]
  },
  {
   "cell_type": "markdown",
   "id": "d4584ac8",
   "metadata": {},
   "source": [
    "### 14. What is the difference between .*? and .*?\n",
    "**Ans** `.*?` is a non greedy mode which returns the shortest string that matches the pattern. Whereas `.*` is a Greedy mode, which returns the longest string that matches the pattern. "
   ]
  },
  {
   "cell_type": "markdown",
   "id": "fdec066c",
   "metadata": {},
   "source": [
    "### 15. What is the syntax for matching both numbers and lowercase letters with a character class?\n",
    "**Ans:** `re.compile(r\"[a-z0-9]\")` or `re.compile(r\"[0-9a-z]\")` is the syntax for matching both numbers and lowercase letters with a character class"
   ]
  },
  {
   "cell_type": "markdown",
   "id": "4a221725",
   "metadata": {},
   "source": [
    "### 16. What is the procedure for making a normal expression in regax case insensitive?\n",
    "**Ans** `IGNORECASE` (`re.IGNORECASE` or `re.I`) flag can be used to make normal expression in regax case insensitive.\n",
    "\n",
    "**For Example**"
   ]
  },
  {
   "cell_type": "code",
   "execution_count": 69,
   "id": "d1257402",
   "metadata": {},
   "outputs": [
    {
     "name": "stdout",
     "output_type": "stream",
     "text": [
      "['ShUbHaM']\n"
     ]
    }
   ],
   "source": [
    "string = \"ShUbHaM\"\n",
    "\n",
    "pattern = re.compile(r\"shubham\", re.I)\n",
    "\n",
    "match = pattern.findall(string)\n",
    "print(match)"
   ]
  },
  {
   "cell_type": "markdown",
   "id": "8be908b7",
   "metadata": {},
   "source": [
    "### 17. What does the . character normally match? What does it match if re.DOTALL is passed as 2nd argument in re.compile()?\n",
    "\n",
    "**Ans:** \n",
    "1. `.` character matches any character except newline character.\n",
    "2. `re.DOTALL` is a flag that is used to match any character including newline character.   "
   ]
  },
  {
   "cell_type": "markdown",
   "id": "736d4675",
   "metadata": {},
   "source": [
    "### 18. If numReg = re.compile(r'\\d+'), what will numRegex.sub('X', '11 drummers, 10 pipers, five rings, 4 hen') return?\n",
    "**Ans:** It will return `'X drummers, X pipers, X rings, X hen'` \n",
    "**Below is the execution of code**"
   ]
  },
  {
   "cell_type": "code",
   "execution_count": 71,
   "id": "49130989",
   "metadata": {},
   "outputs": [
    {
     "data": {
      "text/plain": [
       "'X drummers, X pipers, five rings, X hen'"
      ]
     },
     "execution_count": 71,
     "metadata": {},
     "output_type": "execute_result"
    }
   ],
   "source": [
    "numReg = re.compile(r'\\d+')\n",
    "numReg.sub('X', '11 drummers, 10 pipers, five rings, 4 hen') "
   ]
  },
  {
   "cell_type": "markdown",
   "id": "b1ebf250",
   "metadata": {},
   "source": [
    "### 19. What does passing re.VERBOSE as the 2nd argument to re.compile() allow to do?\n",
    "**Ans** `re.VERBOSE` or `re.X` flag enables us to pass pattern as multiline comment and include whitespace.\n",
    "\n",
    "**For Example**"
   ]
  },
  {
   "cell_type": "code",
   "execution_count": 81,
   "id": "63cc8e96",
   "metadata": {},
   "outputs": [],
   "source": [
    "emails = \"\"\"\n",
    "pythonengineer@gmail.com\n",
    "Python-engineer@gmx.de\n",
    "python-engineer123@my-domain.org\n",
    "\"\"\"\n",
    "# return all emails"
   ]
  },
  {
   "cell_type": "code",
   "execution_count": 80,
   "id": "f90f6189",
   "metadata": {},
   "outputs": [
    {
     "name": "stdout",
     "output_type": "stream",
     "text": [
      "pythonengineer@gmail.com\n",
      "Python-engineer@gmx.de\n",
      "python-engineer123@my-domain.org\n"
     ]
    }
   ],
   "source": [
    "# without VERBOSE\n",
    "\n",
    "pattern = re.compile(r\"[a-zA-z0-9-]+@[a-zA-Z-]+\\.(com|de|org)\")  \n",
    "matches = pattern.finditer(emails)\n",
    "\n",
    "for match in matches:\n",
    "    print(match.group(0))"
   ]
  },
  {
   "cell_type": "code",
   "execution_count": 78,
   "id": "67b03373",
   "metadata": {},
   "outputs": [
    {
     "name": "stdout",
     "output_type": "stream",
     "text": [
      "pythonengineer@gmail.com\n",
      "Python-engineer@gmx.de\n",
      "python-engineer123@my-domain.org\n"
     ]
    }
   ],
   "source": [
    "# with VERBOSE\n",
    "\n",
    "pattern = re.compile(r\"\"\"[a-zA-z0-9-]+\n",
    "                         @\n",
    "                         [a-zA-Z-]+\n",
    "                         \\.\n",
    "                         (com|de|org)\n",
    "                         \"\"\", re.X)  \n",
    "matches = pattern.finditer(emails)\n",
    "\n",
    "for match in matches:\n",
    "    print(match.group(0))"
   ]
  },
  {
   "cell_type": "markdown",
   "id": "120339b0",
   "metadata": {},
   "source": [
    "### 20. How would you write a regex that match a number with comma for every three digits? It must match the given following:\n",
    "'42'\n",
    "\n",
    "'1,234'\n",
    "\n",
    "'6,368,745'\n",
    "\n",
    "but not the following:\n",
    "\n",
    "'12,34,567' (which has only two digits between the commas)\n",
    "\n",
    "'1234' (which lacks commas)\n",
    "\n",
    "**Ans:**"
   ]
  },
  {
   "cell_type": "code",
   "execution_count": 99,
   "id": "27e4b171",
   "metadata": {},
   "outputs": [
    {
     "name": "stdout",
     "output_type": "stream",
     "text": [
      "<re.Match object; span=(0, 2), match='42'>\n",
      "<re.Match object; span=(0, 5), match='1,234'>\n",
      "<re.Match object; span=(0, 9), match='6,368,745'>\n",
      "None\n",
      "None\n"
     ]
    }
   ],
   "source": [
    "l =  ['42', '1,234', '6,368,745', '12,34,567', '1234']\n",
    "\n",
    "pattern = re.compile(r\"^\\d{1,2}(,\\d{3})*$\")\n",
    "for i in l: \n",
    "    match = pattern.search(i)\n",
    "    print(match)\n"
   ]
  },
  {
   "cell_type": "markdown",
   "id": "03b5aab0",
   "metadata": {},
   "source": [
    "### 21. How would you write a regex that matches the full name of someone whose last name is Watanabe? You can assume that the first name that comes before it will always be one word that begins with a capital letter. The regex must match the following:\n",
    "'Haruto Watanabe'\n",
    "\n",
    "'Alice Watanabe'\n",
    "\n",
    "'RoboCop Watanabe'\n",
    "\n",
    "but not the following:\n",
    "\n",
    "'haruto Watanabe' (where the first name is not capitalized)\n",
    "\n",
    "'Mr. Watanabe' (where the preceding word has a nonletter character)\n",
    "\n",
    "'Watanabe' (which has no first name)\n",
    "\n",
    "'Haruto watanabe' (where Watanabe is not capitalized)\n",
    "\n",
    "**Ans:**"
   ]
  },
  {
   "cell_type": "code",
   "execution_count": 111,
   "id": "2807337c",
   "metadata": {},
   "outputs": [
    {
     "name": "stdout",
     "output_type": "stream",
     "text": [
      "<re.Match object; span=(0, 15), match='Haruto Watanabe'>\n",
      "<re.Match object; span=(0, 14), match='Alice Watanabe'>\n",
      "<re.Match object; span=(0, 16), match='RoboCop Watanabe'>\n",
      "None\n",
      "None\n",
      "None\n",
      "None\n"
     ]
    }
   ],
   "source": [
    "names = ['Haruto Watanabe', 'Alice Watanabe', 'RoboCop Watanabe','haruto Watanabe', 'Mr. Watanabe', \n",
    "         'Watanabe', 'Haruto watanabe']\n",
    "\n",
    "pattern = re.compile(r\"([A-Z]{1}[a-z]*|[A-Z]{1}[a-z]*[A-Z]{1}[a-z]*)\\sW{1}[a-z]*\")\n",
    "\n",
    "for name in names:\n",
    "    match = pattern.search(name)\n",
    "    print(match)"
   ]
  },
  {
   "cell_type": "markdown",
   "id": "f118d4e2",
   "metadata": {},
   "source": [
    "### 22. How would you write a regex that matches a sentence where the first word is either Alice, Bob, or Carol; the second word is either eats, pets, or throws; the third word is apples, cats, or baseballs; and the sentence ends with a period? This regex should be case-insensitive. It must match the following:\n",
    "'Alice eats apples.'\n",
    "\n",
    "'Bob pets cats.'\n",
    "\n",
    "'Carol throws baseballs.'\n",
    "\n",
    "'Alice throws Apples.'\n",
    "\n",
    "'BOB EATS CATS.'\n",
    "\n",
    "but not the following:\n",
    "\n",
    "'RoboCop eats apples.'\n",
    "\n",
    "'ALICE THROWS FOOTBALLS.'\n",
    "\n",
    "'Carol eats 7 cats.'\n",
    "\n",
    "**Ans:**"
   ]
  },
  {
   "cell_type": "code",
   "execution_count": 114,
   "id": "c0cee356",
   "metadata": {},
   "outputs": [
    {
     "name": "stdout",
     "output_type": "stream",
     "text": [
      "<re.Match object; span=(0, 18), match='Alice eats apples.'>\n",
      "<re.Match object; span=(0, 14), match='Bob pets cats.'>\n",
      "<re.Match object; span=(0, 23), match='Carol throws baseballs.'>\n",
      "<re.Match object; span=(0, 20), match='Alice throws Apples.'>\n",
      "<re.Match object; span=(0, 14), match='BOB EATS CATS.'>\n",
      "None\n",
      "None\n",
      "None\n"
     ]
    }
   ],
   "source": [
    "sentences = ['Alice eats apples.','Bob pets cats.','Carol throws baseballs.','Alice throws Apples.',\n",
    "            'BOB EATS CATS.','RoboCop eats apples.','ALICE THROWS FOOTBALLS.','Carol eats 7 cats.']\n",
    "\n",
    "pattern = re.compile(r\"(Alice|Bob|Carol)\\s(eats|pets|throws)\\s(apples|cats|baseballs)\\.\", re.I)\n",
    "\n",
    "for i in sentences:\n",
    "    match = pattern.search(i)\n",
    "    print(match)"
   ]
  }
 ],
 "metadata": {
  "kernelspec": {
   "display_name": "Python 3 (ipykernel)",
   "language": "python",
   "name": "python3"
  },
  "language_info": {
   "codemirror_mode": {
    "name": "ipython",
    "version": 3
   },
   "file_extension": ".py",
   "mimetype": "text/x-python",
   "name": "python",
   "nbconvert_exporter": "python",
   "pygments_lexer": "ipython3",
   "version": "3.9.12"
  }
 },
 "nbformat": 4,
 "nbformat_minor": 5
}
