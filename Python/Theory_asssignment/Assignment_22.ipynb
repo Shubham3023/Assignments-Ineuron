{
 "cells": [
  {
   "cell_type": "markdown",
   "id": "f8d5f76a",
   "metadata": {},
   "source": [
    "### 1. What is the result of the code, and explain?\n",
    "`>>> X = 'iNeuron'`\n",
    "\n",
    "`>>> def func():`\n",
    "\n",
    "`print(X)`\n",
    "\n",
    "`>>> func()`\n",
    "\n",
    "**Ans:** The output will be `'iNeuron'`. The variable `X` is defined in `global space` and there is no local variable \n",
    "in function that has same variable name `X`, hence there is no conflict. Hence when print(X) is called inside\n",
    "function `func()` it prints `X`. The code is executed below."
   ]
  },
  {
   "cell_type": "code",
   "execution_count": 1,
   "id": "a713f5f4",
   "metadata": {},
   "outputs": [
    {
     "name": "stdout",
     "output_type": "stream",
     "text": [
      "iNeuron\n"
     ]
    }
   ],
   "source": [
    "X = 'iNeuron'\n",
    "\n",
    "def func():\n",
    "    print(X)\n",
    "    \n",
    "func()"
   ]
  },
  {
   "cell_type": "markdown",
   "id": "4fd19be8",
   "metadata": {},
   "source": [
    "### 2. What is the result of the code, and explain?\n",
    "`>>> X = 'iNeuron'`\n",
    "\n",
    "`>>> def func():`\n",
    "    \n",
    "`X = 'NI!'`\n",
    "\n",
    "`>>> func()`\n",
    "\n",
    "`>>> print(X)`\n",
    "\n",
    "**Ans:** The output will be `'NI!'`. The function has variable `X` in local scope, so when function func() is called \n",
    "it considers variable in local scope before variable in global scope. Hence the func() call print variable `X` in local scope. The code is executed below."
   ]
  },
  {
   "cell_type": "code",
   "execution_count": 4,
   "id": "982e046f",
   "metadata": {},
   "outputs": [
    {
     "name": "stdout",
     "output_type": "stream",
     "text": [
      "NI!\n"
     ]
    }
   ],
   "source": [
    "X = 'iNeuron'\n",
    "def func():\n",
    "    X = 'NI!'\n",
    "    print(X)\n",
    "func()"
   ]
  },
  {
   "cell_type": "markdown",
   "id": "7fdba867",
   "metadata": {},
   "source": [
    "### 3. What does this code print, and why?\n",
    "`>>> X = 'iNeuron'`\n",
    "\n",
    "`>>> def func():`\n",
    "    \n",
    "`X = 'NI'`\n",
    "\n",
    "`print(X)`\n",
    "\n",
    "`>>> func()`\n",
    "\n",
    "`>>> print(X)`\n",
    "\n",
    "**Ans:** The output will be `'IN'` and `'iNeuron'`. The func() has variable `X` in local scope and when func() is called\n",
    "    it prints `'IN'` then outside there is `print(X)` which is in global scope and hence print `'iNeuron'` which is a \n",
    "    variable in global scope. The execution of code is below."
   ]
  },
  {
   "cell_type": "code",
   "execution_count": 5,
   "id": "ef4a73bd",
   "metadata": {},
   "outputs": [
    {
     "name": "stdout",
     "output_type": "stream",
     "text": [
      "NI\n",
      "iNeuron\n"
     ]
    }
   ],
   "source": [
    "X = 'iNeuron'\n",
    "def func():\n",
    "    X = 'NI'\n",
    "    print(X)\n",
    "func()\n",
    "print(X)"
   ]
  },
  {
   "cell_type": "markdown",
   "id": "d2cddac1",
   "metadata": {},
   "source": [
    "### 4. What output does this code produce? Why?\n",
    "`>>> X = 'iNeuron'`\n",
    "\n",
    "`>>> def func():`\n",
    "    \n",
    "`global X`\n",
    "\n",
    "`X = 'NI'`\n",
    "\n",
    "`>>> func()`\n",
    "\n",
    "`>>> print(X)`\n",
    "\n",
    "**Ans:** The output will be `'IN'`. This is because in local scope variable `X` is converted to global variable\n",
    "using `global keyword`. Hence value of `X` in global scope is overwritten by `IN`, the value of variable `X `in \n",
    "local space. "
   ]
  },
  {
   "cell_type": "code",
   "execution_count": 7,
   "id": "02d350c8",
   "metadata": {},
   "outputs": [
    {
     "name": "stdout",
     "output_type": "stream",
     "text": [
      "NI\n"
     ]
    }
   ],
   "source": [
    "X = 'iNeuron'\n",
    "def func():\n",
    "    global X\n",
    "    X = 'NI'\n",
    "func()\n",
    "print(X)"
   ]
  },
  {
   "cell_type": "markdown",
   "id": "2150d68e",
   "metadata": {},
   "source": [
    "### 5. What about this code—what’s the output, and why?\n",
    "`>>> X = 'iNeuron'`\n",
    "\n",
    "`>>> def func():`\n",
    "    \n",
    "`X = 'NI'`\n",
    "\n",
    "`def nested():`\n",
    "    \n",
    "`print(X)`\n",
    "\n",
    "`nested()`\n",
    "\n",
    "`>>> func()`\n",
    "\n",
    "`>>> X`\n",
    "\n",
    "**Ans:** The output will be `NI` and `iNeuron`. The `func()` has variable `X` in local scope and the same is printed \n",
    "inside a nested function `nested()` and this `nested()` function is called inside `func()` so `NI` is printed first.\n",
    "Then variable `X` is called so it gives value `X` in global scope. The code Execution is below:"
   ]
  },
  {
   "cell_type": "code",
   "execution_count": 3,
   "id": "3aeae045",
   "metadata": {},
   "outputs": [
    {
     "name": "stdout",
     "output_type": "stream",
     "text": [
      "NI\n"
     ]
    },
    {
     "data": {
      "text/plain": [
       "'iNeuron'"
      ]
     },
     "execution_count": 3,
     "metadata": {},
     "output_type": "execute_result"
    }
   ],
   "source": [
    "X = 'iNeuron'\n",
    "def func():\n",
    "    X = 'NI'\n",
    "    def nested():\n",
    "        print(X)\n",
    "    nested()\n",
    "func()\n",
    "X"
   ]
  },
  {
   "cell_type": "markdown",
   "id": "9f03f577",
   "metadata": {},
   "source": [
    "### 6. How about this code: what is its output in Python 3, and explain?\n",
    "`>>> def func():`\n",
    "    \n",
    "`X = 'NI'`\n",
    "\n",
    "`def nested():`\n",
    "    \n",
    "`nonlocal X`\n",
    "\n",
    "`X = 'Spam'`\n",
    "\n",
    "`nested()`\n",
    "\n",
    "`print(X)`\n",
    "\n",
    "`>>> func()`\n",
    "\n",
    "**Ans:** The output will be `spam`. This is because `X = NI` will be ignored as using `nonlocal` keyword for variable `X`\n",
    "the new value `spam` is assigned to it and converted to global scope inside function."
   ]
  },
  {
   "cell_type": "code",
   "execution_count": 7,
   "id": "0dd3278c",
   "metadata": {},
   "outputs": [
    {
     "name": "stdout",
     "output_type": "stream",
     "text": [
      "Spam\n"
     ]
    }
   ],
   "source": [
    "def func():\n",
    "    X = 'NI'\n",
    "    def nested():\n",
    "        nonlocal X\n",
    "        X = 'Spam'\n",
    "    nested()\n",
    "    print(X)\n",
    "func()"
   ]
  }
 ],
 "metadata": {
  "kernelspec": {
   "display_name": "Python 3 (ipykernel)",
   "language": "python",
   "name": "python3"
  },
  "language_info": {
   "codemirror_mode": {
    "name": "ipython",
    "version": 3
   },
   "file_extension": ".py",
   "mimetype": "text/x-python",
   "name": "python",
   "nbconvert_exporter": "python",
   "pygments_lexer": "ipython3",
   "version": "3.9.12"
  }
 },
 "nbformat": 4,
 "nbformat_minor": 5
}
