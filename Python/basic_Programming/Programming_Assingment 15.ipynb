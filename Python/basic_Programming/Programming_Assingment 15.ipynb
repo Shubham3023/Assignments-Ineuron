{
 "cells": [
  {
   "cell_type": "markdown",
   "id": "4999b8c2",
   "metadata": {},
   "source": [
    "### Q1: Please write a program using generator to print the numbers which can be divisible by 5 and 7 between 0 and n in comma separated form while n is input by console.\n",
    "Example:\n",
    "    \n",
    "If the following n is given as input to the program: 100\n",
    "\n",
    "Then, the output of the program should be:  0,35,70\n"
   ]
  },
  {
   "cell_type": "code",
   "execution_count": 1,
   "id": "91b174b0",
   "metadata": {},
   "outputs": [
    {
     "name": "stdout",
     "output_type": "stream",
     "text": [
      "0,35,70,"
     ]
    }
   ],
   "source": [
    "def div_gen(n):\n",
    "    \"\"\"\n",
    "    This func takes a number as an argument and returns a generator which \n",
    "    can yeild number in range of zero to number which are divisible \n",
    "    by 5 and 7.\n",
    "    \"\"\"\n",
    "    for i in range(n+1):\n",
    "        if i % 5 == 0 and i % 7 == 0 :\n",
    "            yield i\n",
    "            \n",
    "for i in div_gen(100):\n",
    "    print(i, end = \",\")"
   ]
  },
  {
   "cell_type": "markdown",
   "id": "ab020b19",
   "metadata": {},
   "source": [
    "### Q2: Please write a program using generator to print the even numbers between 0 and n in comma separated form while n is input by console.\n",
    "Example:\n",
    "    \n",
    "If the following n is given as input to the program:   10\n",
    "Then, the output of the program should be:  0,2,4,6,8,10\n"
   ]
  },
  {
   "cell_type": "code",
   "execution_count": 2,
   "id": "07d34a3e",
   "metadata": {},
   "outputs": [
    {
     "name": "stdout",
     "output_type": "stream",
     "text": [
      "0,2,4,6,8,10,"
     ]
    }
   ],
   "source": [
    "def even_gen(n):\n",
    "    \"\"\"\n",
    "    This func takes a number as an argument and returns a generator which \n",
    "    can yeild even number in range of zero to the number.\n",
    "    \"\"\"    \n",
    "    for i in range(n+1):\n",
    "        if i % 2 == 0 :\n",
    "            yield i\n",
    "            \n",
    "for i in even_gen(10):\n",
    "    print(i, end = \",\")"
   ]
  },
  {
   "cell_type": "markdown",
   "id": "8e8dffae",
   "metadata": {},
   "source": [
    "### 3: Please write a program using list comprehension to print the Fibonacci Sequence in comma separated form with a given n input by console.\n",
    "The Fibonacci Sequence is computed based on the following formula:\n",
    "f(n)=0 if n=0\n",
    "\n",
    "f(n)=1 if n=1\n",
    "\n",
    "f(n)=f(n-1)+f(n-2) if n>1\n",
    "\n",
    "Example:\n",
    "    \n",
    "If the following n is given as input to the program:  7\n",
    "\n",
    "Then, the output of the program should be:  0,1,1,2,3,5,8,13\n"
   ]
  },
  {
   "cell_type": "code",
   "execution_count": 24,
   "id": "4aba936e",
   "metadata": {},
   "outputs": [
    {
     "name": "stdout",
     "output_type": "stream",
     "text": [
      "Enter no of iterations: 7\n",
      "0,1,1,2,3,5,8,13,"
     ]
    }
   ],
   "source": [
    "def f(n):\n",
    "    if n == 0:\n",
    "        return 0\n",
    "    elif n == 1:\n",
    "        return 1\n",
    "    else:\n",
    "        return f(n-1) + f(n-2)\n",
    "    \n",
    "n1 = int(input(\"Enter no of iterations: \"))\n",
    "l = [f(i) for i in range(n1 + 1)]\n",
    "for i in l:\n",
    "    print(i , end = \",\")"
   ]
  },
  {
   "cell_type": "markdown",
   "id": "b74db16f",
   "metadata": {},
   "source": [
    "### Q4:please write program to print the user name of a given email address. Both user names and company names are composed of letters only.\n",
    "Assuming that we have some email addresses in the \"username@companyname.com\" format, \n",
    "\n",
    "Example:\n",
    "\n",
    "If the following email address is given as input to the program:   john@google.com\n",
    "\n",
    "Then, the output of the program should be:  john\n"
   ]
  },
  {
   "cell_type": "code",
   "execution_count": 9,
   "id": "9a75a9a3",
   "metadata": {},
   "outputs": [],
   "source": [
    "def username(s):\n",
    "    \"\"\"\n",
    "    This func takes email address as arg and returns username.\n",
    "    \"\"\"\n",
    "    s1 = \"\"\n",
    "    for i in s:\n",
    "        if i != \"@\":\n",
    "            \n",
    "            s1 += i \n",
    "        else:\n",
    "            break\n",
    "    return s1"
   ]
  },
  {
   "cell_type": "code",
   "execution_count": 10,
   "id": "fe25a681",
   "metadata": {},
   "outputs": [
    {
     "data": {
      "text/plain": [
       "'john'"
      ]
     },
     "execution_count": 10,
     "metadata": {},
     "output_type": "execute_result"
    }
   ],
   "source": [
    "username(\"john@google.com\")"
   ]
  },
  {
   "cell_type": "code",
   "execution_count": 11,
   "id": "46fe122d",
   "metadata": {},
   "outputs": [
    {
     "data": {
      "text/plain": [
       "'sudhanshu'"
      ]
     },
     "execution_count": 11,
     "metadata": {},
     "output_type": "execute_result"
    }
   ],
   "source": [
    "username(\"sudhanshu@ineuron.ai\")"
   ]
  },
  {
   "cell_type": "markdown",
   "id": "e78ec810",
   "metadata": {},
   "source": [
    "### Q5: Define a class named Shape and its subclass Square. The Square class has an init function which takes a length as argument. Both classes have a area function which can print the area of the shape where Shape's area is 0 by default."
   ]
  },
  {
   "cell_type": "code",
   "execution_count": 4,
   "id": "af1bebb0",
   "metadata": {},
   "outputs": [
    {
     "name": "stdout",
     "output_type": "stream",
     "text": [
      "0\n",
      "144\n"
     ]
    }
   ],
   "source": [
    "class Shape:\n",
    "    \n",
    "    def area(self):\n",
    "        \"\"\"\n",
    "        This method returns area zero by default\n",
    "        \"\"\"\n",
    "        return 0\n",
    "    \n",
    "class Square(Shape):\n",
    "    \n",
    "    def __init__(self, length):\n",
    "        self.length = length\n",
    "        \n",
    "    def area(self):\n",
    "        \"\"\"\n",
    "        This method returns area of square.\n",
    "        \"\"\"\n",
    "        return self.length ** 2\n",
    "\n",
    "square = Square(12)\n",
    "shape = Shape()\n",
    "print(shape.area())\n",
    "print(square.area())"
   ]
  }
 ],
 "metadata": {
  "kernelspec": {
   "display_name": "Python 3 (ipykernel)",
   "language": "python",
   "name": "python3"
  },
  "language_info": {
   "codemirror_mode": {
    "name": "ipython",
    "version": 3
   },
   "file_extension": ".py",
   "mimetype": "text/x-python",
   "name": "python",
   "nbconvert_exporter": "python",
   "pygments_lexer": "ipython3",
   "version": "3.9.12"
  }
 },
 "nbformat": 4,
 "nbformat_minor": 5
}
