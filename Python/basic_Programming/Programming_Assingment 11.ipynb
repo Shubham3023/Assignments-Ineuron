{
 "cells": [
  {
   "cell_type": "markdown",
   "id": "54e62a3b",
   "metadata": {},
   "source": [
    "# 1.\tWrite a Python program to find words which are greater than given length k?"
   ]
  },
  {
   "cell_type": "code",
   "execution_count": 1,
   "id": "4f867f13",
   "metadata": {},
   "outputs": [],
   "source": [
    "s = \"shubham verma sourabh kashmir kullu-manali bhivapur a ab Goa Pune Seven\"\n",
    "\n",
    "\n",
    "def W_great_k(k,s):\n",
    "    \"\"\"This func takes no. and string as args and returns words \n",
    "    having length are greater than given number \"\"\"    \n",
    "    \n",
    "    print(\"Words with length greater than {} in given string are:\".format(k))\n",
    "    for i in s.split() :\n",
    "        \n",
    "        if len(i) > k:\n",
    "            \n",
    "            print(i)\n",
    "    "
   ]
  },
  {
   "cell_type": "code",
   "execution_count": 2,
   "id": "283d8173",
   "metadata": {},
   "outputs": [
    {
     "name": "stdout",
     "output_type": "stream",
     "text": [
      "Words with length greater than 5 in given string are:\n",
      "shubham\n",
      "sourabh\n",
      "kashmir\n",
      "kullu-manali\n",
      "bhivapur\n"
     ]
    }
   ],
   "source": [
    "W_great_k(5,s)"
   ]
  },
  {
   "cell_type": "markdown",
   "id": "2fa1c7bb",
   "metadata": {},
   "source": [
    "# 2.\tWrite a Python program for removing i-th character from a string?"
   ]
  },
  {
   "cell_type": "code",
   "execution_count": 27,
   "id": "02d17b67",
   "metadata": {},
   "outputs": [],
   "source": [
    "s = \"shubham\"\n",
    "\n",
    "def remove_ith_char(k,s):\n",
    "    \"\"\"This func takes position of character(i) and string as args and returns string \n",
    "    after removing ith character from it.\"\"\"\n",
    "    \n",
    "    for i in range(0,len(s)-1):\n",
    "        \n",
    "        if i == k:\n",
    "            \n",
    "            return 'Given string without {}th Character is \"{}\"'.format(k,s[0:k-1] + s[k: len(s)])\n"
   ]
  },
  {
   "cell_type": "code",
   "execution_count": 28,
   "id": "aaa7c807",
   "metadata": {},
   "outputs": [
    {
     "data": {
      "text/plain": [
       "'Given string without 4th Character is \"shuham\"'"
      ]
     },
     "execution_count": 28,
     "metadata": {},
     "output_type": "execute_result"
    }
   ],
   "source": [
    "remove_ith_char(4,s)"
   ]
  },
  {
   "cell_type": "markdown",
   "id": "533fbf8f",
   "metadata": {},
   "source": [
    "# 3.\tWrite a Python program to split and join a string?"
   ]
  },
  {
   "cell_type": "code",
   "execution_count": 11,
   "id": "c57efa3a",
   "metadata": {},
   "outputs": [],
   "source": [
    "s = \"My name is Shubham and i want to be a data scientist\"\n",
    "\n",
    "def split_join_str(s):\n",
    "    \"\"\"This func takes string as arg and returns splitted \n",
    "    and joined string of given string\"\"\"\n",
    "    \n",
    "    print(\"splitted string of given string is: \")\n",
    "    for i in s.split():\n",
    "        \n",
    "        print(i, end = \",\") \n",
    "        \n",
    "    return \"Joined string of splitted string is: {} \".format(\" \".join(s.split(\" \")))"
   ]
  },
  {
   "cell_type": "code",
   "execution_count": 12,
   "id": "028defa6",
   "metadata": {},
   "outputs": [
    {
     "name": "stdout",
     "output_type": "stream",
     "text": [
      "splitted string of given string is: \n",
      "My,name,is,Shubham,and,i,want,to,be,a,data,scientist,"
     ]
    },
    {
     "data": {
      "text/plain": [
       "'Joined string of splitted string is: My name is Shubham and i want to be a data scientist '"
      ]
     },
     "execution_count": 12,
     "metadata": {},
     "output_type": "execute_result"
    }
   ],
   "source": [
    "split_join_str(s)"
   ]
  },
  {
   "cell_type": "markdown",
   "id": "8a5bc116",
   "metadata": {},
   "source": [
    "# 4.\tWrite a Python to check if a given string is binary string or not?"
   ]
  },
  {
   "cell_type": "code",
   "execution_count": 13,
   "id": "c64d71c4",
   "metadata": {},
   "outputs": [],
   "source": [
    "s = \"asjdas9021jias\"\n",
    "s1 = \"1001010101\"\n",
    "\n",
    "\n",
    "def binary_str_check(s):\n",
    "    \"\"\"This func takes string as arg and checks \n",
    "    the string for binary string\"\"\"\n",
    "    binaryset = {'0','1'}\n",
    "    \n",
    "    if set(s) == binaryset or set(s) == {'0'} or set(s) == {'1'}:\n",
    "        \n",
    "        return \"Entered string {} is a binary string\".format(s)\n",
    "    \n",
    "    else:\n",
    "        return \"Entered string {} is not a binary string\".format(s)"
   ]
  },
  {
   "cell_type": "code",
   "execution_count": 14,
   "id": "56874bc2",
   "metadata": {},
   "outputs": [
    {
     "data": {
      "text/plain": [
       "'Entered string asjdas9021jias is not a binary string'"
      ]
     },
     "execution_count": 14,
     "metadata": {},
     "output_type": "execute_result"
    }
   ],
   "source": [
    "binary_str_check(s)"
   ]
  },
  {
   "cell_type": "code",
   "execution_count": 15,
   "id": "f4a3ecb2",
   "metadata": {},
   "outputs": [
    {
     "data": {
      "text/plain": [
       "'Entered string 1001010101 is a binary string'"
      ]
     },
     "execution_count": 15,
     "metadata": {},
     "output_type": "execute_result"
    }
   ],
   "source": [
    "binary_str_check(s1)"
   ]
  },
  {
   "cell_type": "markdown",
   "id": "072846e5",
   "metadata": {},
   "source": [
    "# 5.\tWrite a Python program to find uncommon words from two Strings?"
   ]
  },
  {
   "cell_type": "code",
   "execution_count": 18,
   "id": "d8ac5c01",
   "metadata": {},
   "outputs": [],
   "source": [
    "s1 = \"my surname is verma\"\n",
    "s2 = \"my name is shubham\"    \n",
    "\n",
    "def uncommon_string_word(s1,s2):\n",
    "    \"\"\"This func takes two strings as arg and returns \n",
    "    list containing uncommon words from both strings\"\"\"\n",
    "    \n",
    "    l1 = []\n",
    "    for i in s1.split():\n",
    "        \n",
    "        if i in s2.split():\n",
    "            \n",
    "            pass\n",
    "        else:\n",
    "            l1.append(i)\n",
    "            \n",
    "    for j in s2.split():\n",
    "        \n",
    "        if j in s1.split():\n",
    "            \n",
    "            pass\n",
    "        else:\n",
    "            l1.append(j)\n",
    "    return \"uncommon words from string '{}' and string '{}' are {}\".format(s1,s2,l1)"
   ]
  },
  {
   "cell_type": "code",
   "execution_count": 19,
   "id": "75eb3c11",
   "metadata": {},
   "outputs": [
    {
     "data": {
      "text/plain": [
       "\"uncommon words from string 'my surname is verma' and string 'my name is shubham' are ['surname', 'verma', 'name', 'shubham']\""
      ]
     },
     "execution_count": 19,
     "metadata": {},
     "output_type": "execute_result"
    }
   ],
   "source": [
    "uncommon_string_word(s1,s2)"
   ]
  },
  {
   "cell_type": "markdown",
   "id": "edd759e4",
   "metadata": {},
   "source": [
    "# 6.\tWrite a Python to find all duplicate characters in string?"
   ]
  },
  {
   "cell_type": "code",
   "execution_count": 27,
   "id": "e1919efa",
   "metadata": {},
   "outputs": [],
   "source": [
    "s = \"sshhuubbhamveerrmmaa\"\n",
    "\n",
    "def duplicate_stringchar(s):\n",
    "    \"\"\"This function takes a string as arg and returns \n",
    "    list of all duplicate characters in given string\"\"\"\n",
    "\n",
    "    l1= []\n",
    "    for i in s:\n",
    "        if s.count(i) > 1:\n",
    "            l1.append(i)\n",
    "    return \"list of all duplicate characters in given string '{}' is {}\".format(s,list(set(l1)))"
   ]
  },
  {
   "cell_type": "code",
   "execution_count": 28,
   "id": "0c183ae4",
   "metadata": {},
   "outputs": [
    {
     "data": {
      "text/plain": [
       "\"list of all duplicate characters in given string 'sshhuubbhamveerrmmaa' is ['m', 'e', 'b', 'r', 'a', 'h', 'u', 's']\""
      ]
     },
     "execution_count": 28,
     "metadata": {},
     "output_type": "execute_result"
    }
   ],
   "source": [
    "duplicate_stringchar(s)"
   ]
  },
  {
   "cell_type": "markdown",
   "id": "dc226fb1",
   "metadata": {},
   "source": [
    "# 7.\tWrite a Python Program to check if a string contains any special character?"
   ]
  },
  {
   "cell_type": "code",
   "execution_count": 47,
   "id": "309b2982",
   "metadata": {},
   "outputs": [],
   "source": [
    "s = \"b564654asdbsaddasd\"\n",
    "s1 = \"#kasdknd\"\n",
    "s2 = \"ccd^knaskd\"\n",
    "s3 = \"kaskdaksd&\"\n",
    "\n",
    "def specialchar_check(s):\n",
    "    \"\"\"This func takes string as arg and checks \n",
    "    if string contains a special character or not\"\"\"\n",
    "    \n",
    "    l = [\"!\",\"@\",\"#\",\"$\",\"%\",\"^\",\"&\",\"<\",\">\",\"?\",\"|\",\"~\",\"`\"]\n",
    "    \n",
    "    check  = False\n",
    "    \n",
    "    for i in s:\n",
    "        \n",
    "        if i in l:\n",
    "            \n",
    "            check = True\n",
    "\n",
    "    if check == True:\n",
    "        \n",
    "        print(\"Given string contains special character\")\n",
    "    else: \n",
    "        \n",
    "        print(\"Given string doesn't contain special character\")\n"
   ]
  },
  {
   "cell_type": "code",
   "execution_count": 48,
   "id": "c7ef8e37",
   "metadata": {},
   "outputs": [
    {
     "name": "stdout",
     "output_type": "stream",
     "text": [
      "Given string doesn't contain special character\n"
     ]
    }
   ],
   "source": [
    "specialchar_check(s)"
   ]
  },
  {
   "cell_type": "code",
   "execution_count": 49,
   "id": "2a348590",
   "metadata": {},
   "outputs": [
    {
     "name": "stdout",
     "output_type": "stream",
     "text": [
      "Given string contains special character\n"
     ]
    }
   ],
   "source": [
    "specialchar_check(s1)"
   ]
  },
  {
   "cell_type": "code",
   "execution_count": 50,
   "id": "118b0331",
   "metadata": {},
   "outputs": [
    {
     "name": "stdout",
     "output_type": "stream",
     "text": [
      "Given string contains special character\n"
     ]
    }
   ],
   "source": [
    "specialchar_check(s2)"
   ]
  },
  {
   "cell_type": "code",
   "execution_count": 51,
   "id": "1b2879ea",
   "metadata": {},
   "outputs": [
    {
     "name": "stdout",
     "output_type": "stream",
     "text": [
      "Given string contains special character\n"
     ]
    }
   ],
   "source": [
    "specialchar_check(s3)"
   ]
  }
 ],
 "metadata": {
  "kernelspec": {
   "display_name": "Python 3 (ipykernel)",
   "language": "python",
   "name": "python3"
  },
  "language_info": {
   "codemirror_mode": {
    "name": "ipython",
    "version": 3
   },
   "file_extension": ".py",
   "mimetype": "text/x-python",
   "name": "python",
   "nbconvert_exporter": "python",
   "pygments_lexer": "ipython3",
   "version": "3.9.12"
  }
 },
 "nbformat": 4,
 "nbformat_minor": 5
}
