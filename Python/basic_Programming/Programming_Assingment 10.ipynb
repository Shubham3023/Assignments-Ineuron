{
 "cells": [
  {
   "cell_type": "markdown",
   "id": "fc48548c",
   "metadata": {},
   "source": [
    "# 1.\tWrite a Python program to find sum of elements in list?"
   ]
  },
  {
   "cell_type": "code",
   "execution_count": 49,
   "id": "e8a323d3",
   "metadata": {},
   "outputs": [],
   "source": [
    "l = [1,2,3,4,5,99,8.9999,True, False, \"sameer\"]\n",
    "\n",
    "def sum_list(l):\n",
    "    \"\"\"This function takes list as arg and returns sum of all nos. in it\"\"\"\n",
    "    sum = 0\n",
    "    for i in l:\n",
    "        if type(i) == int or type(i) == float:\n",
    "            sum = sum + i\n",
    "    return \"Sum of all the numbers in given List is {}\".format(sum)  "
   ]
  },
  {
   "cell_type": "code",
   "execution_count": 50,
   "id": "26a083c9",
   "metadata": {},
   "outputs": [
    {
     "data": {
      "text/plain": [
       "'Sum of all the numbers in given List is 122.9999'"
      ]
     },
     "execution_count": 50,
     "metadata": {},
     "output_type": "execute_result"
    }
   ],
   "source": [
    "sum_list(l)"
   ]
  },
  {
   "cell_type": "markdown",
   "id": "f16500fa",
   "metadata": {},
   "source": [
    "# 2.\tWrite a Python program to Multiply all numbers in the list?"
   ]
  },
  {
   "cell_type": "code",
   "execution_count": 51,
   "id": "5cdb5c5e",
   "metadata": {},
   "outputs": [],
   "source": [
    "l = [1,2,3,4,5,99,8.9999,True, False, \"sameer\"]\n",
    "\n",
    "def prod_list(l):\n",
    "    \"\"\"This function takes list as arg and returns product of all nos. in it\"\"\"\n",
    "    prod = 1\n",
    "    for i in l:\n",
    "        if type(i) == int or type(i) == float:\n",
    "            prod = float(prod) * i\n",
    "    return \"product of all the numbers in given List is {}\".format(prod)      "
   ]
  },
  {
   "cell_type": "code",
   "execution_count": 52,
   "id": "f24940ff",
   "metadata": {},
   "outputs": [
    {
     "data": {
      "text/plain": [
       "'product of all the numbers in given List is 106918.812'"
      ]
     },
     "execution_count": 52,
     "metadata": {},
     "output_type": "execute_result"
    }
   ],
   "source": [
    "prod_list(l)"
   ]
  },
  {
   "cell_type": "markdown",
   "id": "3b78a20d",
   "metadata": {},
   "source": [
    "# 3.\tWrite a Python program to find smallest number in a list?"
   ]
  },
  {
   "cell_type": "code",
   "execution_count": 71,
   "id": "a0622a06",
   "metadata": {},
   "outputs": [],
   "source": [
    "l1 =[99,123,8,4,56,32421,123456576,435,234]\n",
    "\n",
    "\n",
    "def min_list(l):\n",
    "    \"\"\"This function takes list as arg and returns smallest no. in it\"\"\"\n",
    "    min = l1[0]\n",
    "    for i in range(len(l1)):\n",
    "        if l1[i] < min:\n",
    "            min = l1[i]\n",
    "    return \"Smallest Number in given list is {}\".format(min)      "
   ]
  },
  {
   "cell_type": "code",
   "execution_count": 72,
   "id": "19197c93",
   "metadata": {},
   "outputs": [
    {
     "data": {
      "text/plain": [
       "'Smallest Number in given list is 4'"
      ]
     },
     "execution_count": 72,
     "metadata": {},
     "output_type": "execute_result"
    }
   ],
   "source": [
    "min_list(l1)"
   ]
  },
  {
   "cell_type": "markdown",
   "id": "f23edf55",
   "metadata": {},
   "source": [
    "# 4.\tWrite a Python program to find largest number in a list?"
   ]
  },
  {
   "cell_type": "code",
   "execution_count": 73,
   "id": "534d5193",
   "metadata": {},
   "outputs": [],
   "source": [
    "l1 =[99,123,8,4,56,32421,123456576,435,234]\n",
    "\n",
    "\n",
    "def max_list(l):\n",
    "    \"\"\"This function takes list as arg and returns largest no. in it\"\"\"\n",
    "    max = l1[0]\n",
    "    for i in range(len(l1)):\n",
    "        if l1[i] > max:\n",
    "            max = l1[i]\n",
    "    return \"Largest Number in given list is {}\".format(max)         "
   ]
  },
  {
   "cell_type": "code",
   "execution_count": 74,
   "id": "732491a6",
   "metadata": {},
   "outputs": [
    {
     "data": {
      "text/plain": [
       "'Largest Number in given list is 123456576'"
      ]
     },
     "execution_count": 74,
     "metadata": {},
     "output_type": "execute_result"
    }
   ],
   "source": [
    "max_list(l1)"
   ]
  },
  {
   "cell_type": "markdown",
   "id": "670729fd",
   "metadata": {},
   "source": [
    "# 5.\tWrite a Python program to find second largest number in a list?"
   ]
  },
  {
   "cell_type": "code",
   "execution_count": 75,
   "id": "4cd446ec",
   "metadata": {},
   "outputs": [],
   "source": [
    "l1 =[99,123,8,4,56,32421,123456576,435,456123123,99999999988,9999999999999999999999999,234]\n",
    "\n",
    "def secondL_list(l):\n",
    "    \"\"\"This function takes list as arg and returns second largest no. in it\"\"\"\n",
    "    l2 = []\n",
    "    max = l1[0]\n",
    "    for i in range(len(l1)):\n",
    "        if l1[i] > max:\n",
    "            max = l1[i]\n",
    "            l2.append(max)\n",
    "    return \"second largest Number in given list is {}\".format(l2[len(l2)-2])      "
   ]
  },
  {
   "cell_type": "code",
   "execution_count": 76,
   "id": "9c65eb88",
   "metadata": {},
   "outputs": [
    {
     "data": {
      "text/plain": [
       "'second largest Number in given list is 99999999988'"
      ]
     },
     "execution_count": 76,
     "metadata": {},
     "output_type": "execute_result"
    }
   ],
   "source": [
    "secondL_list(l1)"
   ]
  },
  {
   "cell_type": "markdown",
   "id": "a15d08c7",
   "metadata": {},
   "source": [
    "# 6.\tWrite a Python program to find N largest elements from a list?"
   ]
  },
  {
   "cell_type": "code",
   "execution_count": 29,
   "id": "d6184ad3",
   "metadata": {},
   "outputs": [],
   "source": [
    "l1 =[99,123,8,4,56,32421,123456576,435,456123123,99999999988,9999999999999999999999999,234]\n",
    "\n",
    "def nthLNumber_list(n,l):\n",
    "    \"\"\"This function takes list as arg and returns nth largest no. in it\"\"\"\n",
    "    l.sort(reverse=True)\n",
    "    if n == 1:\n",
    "        th = \"st\"\n",
    "    elif n == 2:\n",
    "        th = \"nd\"\n",
    "    elif n == 3:\n",
    "        th = \"rd\"\n",
    "    else:\n",
    "        th = \"th\"\n",
    "    return \"{}{} largest number in the given list is {}\".format(n,th,l1[n-1])"
   ]
  },
  {
   "cell_type": "code",
   "execution_count": 30,
   "id": "7e2cc627",
   "metadata": {},
   "outputs": [
    {
     "data": {
      "text/plain": [
       "'2nd largest number in the given list is 99999999988'"
      ]
     },
     "execution_count": 30,
     "metadata": {},
     "output_type": "execute_result"
    }
   ],
   "source": [
    "nthLNumber_list(2,l1)"
   ]
  },
  {
   "cell_type": "code",
   "execution_count": 31,
   "id": "e8c6af09",
   "metadata": {},
   "outputs": [
    {
     "data": {
      "text/plain": [
       "'1st largest number in the given list is 9999999999999999999999999'"
      ]
     },
     "execution_count": 31,
     "metadata": {},
     "output_type": "execute_result"
    }
   ],
   "source": [
    "nthLNumber_list(1,l1)"
   ]
  },
  {
   "cell_type": "code",
   "execution_count": 32,
   "id": "6306b54d",
   "metadata": {},
   "outputs": [
    {
     "data": {
      "text/plain": [
       "'3rd largest number in the given list is 456123123'"
      ]
     },
     "execution_count": 32,
     "metadata": {},
     "output_type": "execute_result"
    }
   ],
   "source": [
    "nthLNumber_list(3,l1)"
   ]
  },
  {
   "cell_type": "code",
   "execution_count": 33,
   "id": "2b65e779",
   "metadata": {},
   "outputs": [
    {
     "data": {
      "text/plain": [
       "'4th largest number in the given list is 123456576'"
      ]
     },
     "execution_count": 33,
     "metadata": {},
     "output_type": "execute_result"
    }
   ],
   "source": [
    "nthLNumber_list(4,l1)"
   ]
  },
  {
   "cell_type": "markdown",
   "id": "96a6a0d3",
   "metadata": {},
   "source": [
    "# 7.\tWrite a Python program to print even numbers in a list?"
   ]
  },
  {
   "cell_type": "code",
   "execution_count": 9,
   "id": "814d15e7",
   "metadata": {},
   "outputs": [],
   "source": [
    "l1 = [1,2,3,4,5,6,7,8,9,10]\n",
    "\n",
    "def even_list(l):\n",
    "    \"\"\"This function takes list as arg and returns even numbers in the list\"\"\"\n",
    "    print(\"even numbers in the given list are as follows: \")\n",
    "    for i in l:\n",
    "        if i % 2 == 0:   \n",
    "            print( i, end = \" \")   "
   ]
  },
  {
   "cell_type": "code",
   "execution_count": 10,
   "id": "50c4b458",
   "metadata": {},
   "outputs": [
    {
     "name": "stdout",
     "output_type": "stream",
     "text": [
      "even numbers in the given list are as follows: \n",
      "2 4 6 8 10 "
     ]
    }
   ],
   "source": [
    "even_list(l1)"
   ]
  },
  {
   "cell_type": "markdown",
   "id": "3e9c050f",
   "metadata": {},
   "source": [
    "# 8.\tWrite a Python program to print odd numbers in a List?"
   ]
  },
  {
   "cell_type": "code",
   "execution_count": 12,
   "id": "fbe6ae43",
   "metadata": {},
   "outputs": [],
   "source": [
    "l1 = [1,2,3,4,5,6,7,8,9,10]\n",
    "\n",
    "def odd_list(l):\n",
    "    \"\"\"This function takes list as arg and returns odd numbers in the list\"\"\"\n",
    "    print(\"odd numbers in the given list are as follows: \")\n",
    "    for i in l:\n",
    "        if i % 2 != 0:   \n",
    "            print( i, end = \" \")   "
   ]
  },
  {
   "cell_type": "code",
   "execution_count": 13,
   "id": "6498ee82",
   "metadata": {},
   "outputs": [
    {
     "name": "stdout",
     "output_type": "stream",
     "text": [
      "odd numbers in the given list are as follows: \n",
      "1 3 5 7 9 "
     ]
    }
   ],
   "source": [
    "odd_list(l1)"
   ]
  },
  {
   "cell_type": "markdown",
   "id": "a3c50561",
   "metadata": {},
   "source": [
    "# 9.\tWrite a Python program to Remove empty List from List?"
   ]
  },
  {
   "cell_type": "code",
   "execution_count": 18,
   "id": "ce045a75",
   "metadata": {},
   "outputs": [],
   "source": [
    "l1 = [1,2,3,4,5,6,7,8,[],9,10,[],11,[]]\n",
    "\n",
    "def emptyL_remover(l):\n",
    "    \"\"\"This func takes list as arg and returns list after removing empty list in it.\"\"\"\n",
    "    for i in l:\n",
    "        if type(i) == list:\n",
    "                if i == []:\n",
    "                    l.remove(i)\n",
    "    return \"Given list without empty list in it is {}\".format(l)"
   ]
  },
  {
   "cell_type": "code",
   "execution_count": 19,
   "id": "122829f9",
   "metadata": {},
   "outputs": [
    {
     "data": {
      "text/plain": [
       "'Given list without empty list in it is [1, 2, 3, 4, 5, 6, 7, 8, 9, 10, 11]'"
      ]
     },
     "execution_count": 19,
     "metadata": {},
     "output_type": "execute_result"
    }
   ],
   "source": [
    "emptyL_remover(l1)"
   ]
  },
  {
   "cell_type": "markdown",
   "id": "1e1299fc",
   "metadata": {},
   "source": [
    "# 10.\tWrite a Python program to Cloning or Copying a list?"
   ]
  },
  {
   "cell_type": "code",
   "execution_count": 22,
   "id": "844e981c",
   "metadata": {},
   "outputs": [],
   "source": [
    "l1 = [1,2,3,4,5,6,7,8,9,10]\n",
    "\n",
    "def clone_list(l):\n",
    "    \"\"\"This func takes list as arg and returns copy of the original list\"\"\"\n",
    "    l1 = []\n",
    "    for i in l:\n",
    "        l1.append(i)\n",
    "    return \"Cloning or Copying of original list is {}\".format(l1)"
   ]
  },
  {
   "cell_type": "code",
   "execution_count": 23,
   "id": "addd1438",
   "metadata": {},
   "outputs": [
    {
     "data": {
      "text/plain": [
       "'Cloning or Copying of original list is [1, 2, 3, 4, 5, 6, 7, 8, 9, 10]'"
      ]
     },
     "execution_count": 23,
     "metadata": {},
     "output_type": "execute_result"
    }
   ],
   "source": [
    "clone_list(l1)"
   ]
  },
  {
   "cell_type": "markdown",
   "id": "c28ef1bf",
   "metadata": {},
   "source": [
    "# 11.\tWrite a Python program to Count occurrences of an element in a list?"
   ]
  },
  {
   "cell_type": "code",
   "execution_count": 1,
   "id": "f9c358b0",
   "metadata": {},
   "outputs": [],
   "source": [
    "l1 = [1,1,2,3,3,4,4,4,4,4,3,3,2,2,6,6,7,7,\"sudh\"]\n",
    "\n",
    "def count_occur(l):\n",
    "    \"\"\"This func takes list as arg and returns count of occurance of elements in it\"\"\"\n",
    "    for i in set(l1):\n",
    "        p = l1.count(i)\n",
    "        print(\"{} occured {} times in the list\".format(i,p))  "
   ]
  },
  {
   "cell_type": "code",
   "execution_count": 2,
   "id": "0ff4bc06",
   "metadata": {},
   "outputs": [
    {
     "name": "stdout",
     "output_type": "stream",
     "text": [
      "1 occured 2 times in the list\n",
      "2 occured 3 times in the list\n",
      "3 occured 4 times in the list\n",
      "4 occured 5 times in the list\n",
      "6 occured 2 times in the list\n",
      "7 occured 2 times in the list\n",
      "sudh occured 1 times in the list\n"
     ]
    }
   ],
   "source": [
    "count_occur(l1)"
   ]
  }
 ],
 "metadata": {
  "kernelspec": {
   "display_name": "Python 3 (ipykernel)",
   "language": "python",
   "name": "python3"
  },
  "language_info": {
   "codemirror_mode": {
    "name": "ipython",
    "version": 3
   },
   "file_extension": ".py",
   "mimetype": "text/x-python",
   "name": "python",
   "nbconvert_exporter": "python",
   "pygments_lexer": "ipython3",
   "version": "3.9.12"
  }
 },
 "nbformat": 4,
 "nbformat_minor": 5
}
