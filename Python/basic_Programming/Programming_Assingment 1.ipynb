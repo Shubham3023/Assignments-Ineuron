{
 "cells": [
  {
   "cell_type": "markdown",
   "id": "b7fc0b27",
   "metadata": {},
   "source": [
    "# 1.\tWrite a Python program to print \"Hello Python\"?"
   ]
  },
  {
   "cell_type": "code",
   "execution_count": 1,
   "id": "1d94c01e",
   "metadata": {},
   "outputs": [
    {
     "name": "stdout",
     "output_type": "stream",
     "text": [
      "Hello Python\n"
     ]
    }
   ],
   "source": [
    "print(\"Hello Python\")"
   ]
  },
  {
   "cell_type": "markdown",
   "id": "fea6422d",
   "metadata": {},
   "source": [
    "# 2.\tWrite a Python program to do arithmetical operations addition and division.?"
   ]
  },
  {
   "cell_type": "markdown",
   "id": "4f7f3eb6",
   "metadata": {},
   "source": [
    "a= int(input(\"Enter the first number: \"))\n",
    "b= int(input(\"Enter the second number: \"))\n",
    "Addition = a + b\n",
    "Division = a / b\n",
    "print(\"addition and division of\", a ,\" and \", b , \" is \", Addition , \" and \", Division)"
   ]
  },
  {
   "cell_type": "code",
   "execution_count": 2,
   "id": "7e9eb55e",
   "metadata": {},
   "outputs": [],
   "source": [
    "def ad(a,b):\n",
    "    \"\"\"This function takes two numbers and returns its addition and division\"\"\"\n",
    "    add = a+b\n",
    "    print(\"Addition of \",a,\"and\",b, \" is \", add)\n",
    "    try:\n",
    "        div = a/b\n",
    "        print(\"Division of \",a,\"and\",b, \" is \", div)\n",
    "    except ZeroDivisionError:\n",
    "        print(\"enter non zero demominator value\")\n",
    "    \n",
    "        "
   ]
  },
  {
   "cell_type": "code",
   "execution_count": 3,
   "id": "c6a84ef8",
   "metadata": {},
   "outputs": [
    {
     "name": "stdout",
     "output_type": "stream",
     "text": [
      "Addition of  56 and 8  is  64\n",
      "Division of  56 and 8  is  7.0\n"
     ]
    }
   ],
   "source": [
    "ad(56,8)"
   ]
  },
  {
   "cell_type": "code",
   "execution_count": 4,
   "id": "49de608f",
   "metadata": {},
   "outputs": [
    {
     "name": "stdout",
     "output_type": "stream",
     "text": [
      "Addition of  56 and 0  is  56\n",
      "enter non zero demominator value\n"
     ]
    }
   ],
   "source": [
    "ad(56,0)"
   ]
  },
  {
   "cell_type": "markdown",
   "id": "4fe52c1f",
   "metadata": {},
   "source": [
    "# 3.\tWrite a Python program to find the area of a triangle?"
   ]
  },
  {
   "cell_type": "markdown",
   "id": "72f93869",
   "metadata": {},
   "source": [
    "a= int(input(\"Enter the first side of triangle: \"))\n",
    "b= int(input(\"Enter the second side of triangle: \"))\n",
    "c= int(input(\"Enter the third side of triangle: \"))\n",
    "s = (a+b+c)/2\n",
    "area = (s*(s-a)*(s-b)*(s-c))** 0.5\n",
    "print(\"area of triangle with sides \", a ,\"units\", b ,\"units\" , c ,\"units is \", area, \"square units\" )"
   ]
  },
  {
   "cell_type": "code",
   "execution_count": 7,
   "id": "7078681d",
   "metadata": {},
   "outputs": [],
   "source": [
    "def areat(a,b,c):\n",
    "    \"function takes length of sthree sides of triangle as arg and returns area\"\n",
    "    s = (a+b+c)/2\n",
    "    area = (s*(s-a)*(s-b)*(s-c))** 0.5\n",
    "    print(\"area of triangle with sides {} units {} units {} units is {} square units\".format(a,b,c,area) )"
   ]
  },
  {
   "cell_type": "code",
   "execution_count": 8,
   "id": "22e3bc9c",
   "metadata": {},
   "outputs": [
    {
     "name": "stdout",
     "output_type": "stream",
     "text": [
      "area of triangle with sides 3 units 4 units 5 units is 6.0 square units\n"
     ]
    }
   ],
   "source": [
    "areat(3,4,5)"
   ]
  },
  {
   "cell_type": "markdown",
   "id": "370d6689",
   "metadata": {},
   "source": [
    "# 4.\tWrite a Python program to swap two variables?"
   ]
  },
  {
   "cell_type": "markdown",
   "id": "1beed47d",
   "metadata": {},
   "source": [
    "A = int(input(\"Enter the first number A: \"))\n",
    "B = int(input(\"Enter the second number B: \"))\n",
    "temp = 0\n",
    "temp = A\n",
    "A = B\n",
    "B = temp\n",
    "print(\"Swapped values of A and B are \", A ,\" and \", B)"
   ]
  },
  {
   "cell_type": "code",
   "execution_count": 9,
   "id": "318cd80d",
   "metadata": {},
   "outputs": [],
   "source": [
    "def swap(A,B):\n",
    "    \"\"\"This function takes 2 nos as arg and returns swapped values\"\"\"\n",
    "    temp = 0\n",
    "    temp = A\n",
    "    A = B\n",
    "    B = temp\n",
    "    print(\"Swapped values of A and B is {} and {}\".format(A,B))"
   ]
  },
  {
   "cell_type": "code",
   "execution_count": 10,
   "id": "9e2de0b6",
   "metadata": {},
   "outputs": [
    {
     "name": "stdout",
     "output_type": "stream",
     "text": [
      "Swapped values of A and B is 3 and 2\n"
     ]
    }
   ],
   "source": [
    "swap(2,3)"
   ]
  },
  {
   "cell_type": "markdown",
   "id": "f2627f96",
   "metadata": {},
   "source": [
    "# 5.\tWrite a Python program to generate a random number?"
   ]
  },
  {
   "cell_type": "code",
   "execution_count": 24,
   "id": "26697bed",
   "metadata": {},
   "outputs": [],
   "source": [
    "import random\n",
    "def rannum():\n",
    "    \"\"\"This function returns a random integer\"\"\"\n",
    "    return random.randint(0,1000000)"
   ]
  },
  {
   "cell_type": "code",
   "execution_count": 25,
   "id": "e78063b7",
   "metadata": {},
   "outputs": [
    {
     "data": {
      "text/plain": [
       "164435"
      ]
     },
     "execution_count": 25,
     "metadata": {},
     "output_type": "execute_result"
    }
   ],
   "source": [
    "rannum()"
   ]
  },
  {
   "cell_type": "markdown",
   "id": "d85a739d",
   "metadata": {},
   "source": [
    "random number two integers"
   ]
  },
  {
   "cell_type": "code",
   "execution_count": 26,
   "id": "39fa162e",
   "metadata": {},
   "outputs": [],
   "source": [
    "import random\n",
    "def rannum1(a,b):\n",
    "    \"\"\"This function takes 2 args and returns a random integer in range of args\"\"\"\n",
    "    return random.randint(a,b)"
   ]
  },
  {
   "cell_type": "code",
   "execution_count": 27,
   "id": "bfd3e15b",
   "metadata": {},
   "outputs": [
    {
     "data": {
      "text/plain": [
       "733"
      ]
     },
     "execution_count": 27,
     "metadata": {},
     "output_type": "execute_result"
    }
   ],
   "source": [
    "rannum1(1,999)"
   ]
  }
 ],
 "metadata": {
  "kernelspec": {
   "display_name": "Python 3 (ipykernel)",
   "language": "python",
   "name": "python3"
  },
  "language_info": {
   "codemirror_mode": {
    "name": "ipython",
    "version": 3
   },
   "file_extension": ".py",
   "mimetype": "text/x-python",
   "name": "python",
   "nbconvert_exporter": "python",
   "pygments_lexer": "ipython3",
   "version": "3.9.12"
  }
 },
 "nbformat": 4,
 "nbformat_minor": 5
}
