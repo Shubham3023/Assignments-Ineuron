{
 "cells": [
  {
   "cell_type": "markdown",
   "id": "38619e53",
   "metadata": {},
   "source": [
    "# 1.\tWrite a Python Program to find sum of array?"
   ]
  },
  {
   "cell_type": "code",
   "execution_count": 5,
   "id": "29e683e0",
   "metadata": {},
   "outputs": [],
   "source": [
    "import array\n",
    "a = array.array('i',[1,10000,2,3,4,5,45,99])\n",
    "\n",
    "def sum_array(a):\n",
    "    \"\"\"\n",
    "    This func takes an array as an arg and returns sum of elements in it.\n",
    "    \"\"\"\n",
    "    \n",
    "    sum = 0\n",
    "    for i in a:\n",
    "        sum += i\n",
    "        \n",
    "    return \"sum of elements in {} is {} \".format(a,sum)   "
   ]
  },
  {
   "cell_type": "code",
   "execution_count": 6,
   "id": "c0831000",
   "metadata": {},
   "outputs": [
    {
     "data": {
      "text/plain": [
       "\"sum of elements in array('i', [1, 10000, 2, 3, 4, 5, 45, 99]) is 10159 \""
      ]
     },
     "execution_count": 6,
     "metadata": {},
     "output_type": "execute_result"
    }
   ],
   "source": [
    "sum_array(a)"
   ]
  },
  {
   "cell_type": "markdown",
   "id": "38c40fd0",
   "metadata": {},
   "source": [
    "# 2. Write a Python Program to find largest element in an array?"
   ]
  },
  {
   "cell_type": "code",
   "execution_count": 9,
   "id": "f6f5b807",
   "metadata": {},
   "outputs": [],
   "source": [
    "def Largest_no_array(a):\n",
    "    \"\"\"\n",
    "    This func takes an arrayas an arg and returns \n",
    "    the largest number in an array.\n",
    "    \"\"\"\n",
    "    \n",
    "    max = a[0]\n",
    "    for i in range(len(a)):\n",
    "        if a[i] > max:\n",
    "            max = a[i]\n",
    "        \n",
    "    return \"largest element in {} is {} \".format(a,max)       "
   ]
  },
  {
   "cell_type": "code",
   "execution_count": 10,
   "id": "dbfe8edf",
   "metadata": {},
   "outputs": [
    {
     "data": {
      "text/plain": [
       "\"largest element in array('i', [1, 10000, 2, 3, 4, 5, 45, 99]) is 10000 \""
      ]
     },
     "execution_count": 10,
     "metadata": {},
     "output_type": "execute_result"
    }
   ],
   "source": [
    "a = array.array('i',[1,10000,2,3,4,5,45,99])\n",
    "\n",
    "Largest_no_array(a)\n"
   ]
  },
  {
   "cell_type": "markdown",
   "id": "c527f3c3",
   "metadata": {},
   "source": [
    "# 3.\tWrite a Python Program for array rotation?"
   ]
  },
  {
   "cell_type": "code",
   "execution_count": 18,
   "id": "be6257d3",
   "metadata": {},
   "outputs": [],
   "source": [
    "def left_rotation_array(a,n):\n",
    "    \"\"\"\n",
    "    This func takes an array and no. of rotations as an \n",
    "    arg and returns left rotation of array.\n",
    "    \"\"\"\n",
    "    \n",
    "    l = a[n:] + a[0:n]\n",
    "    print(\"Left rotation of given array is: \")\n",
    "    for i in l:\n",
    "        print(i, end = \" \")\n",
    "        \n",
    "    \n",
    "b = array.array('i',[1,3,5,7,9,11])    "
   ]
  },
  {
   "cell_type": "code",
   "execution_count": 19,
   "id": "feeff929",
   "metadata": {},
   "outputs": [
    {
     "name": "stdout",
     "output_type": "stream",
     "text": [
      "Left rotation of given array is: \n",
      "7 9 11 1 3 5 "
     ]
    }
   ],
   "source": [
    "left_rotation_array(b,3)"
   ]
  },
  {
   "cell_type": "code",
   "execution_count": 21,
   "id": "99c5c3f1",
   "metadata": {},
   "outputs": [],
   "source": [
    "def right_rotation_array(a,n):\n",
    "    \"\"\"\n",
    "    This func takes an array and no. of rotations as an \n",
    "    arg and returns left rotation of array.\n",
    "    \"\"\"\n",
    "    \n",
    "    l = a[-n:] + a[0:-n]\n",
    "    print(\"Right rotation of given array is: \")   \n",
    "    for i in l:\n",
    "        print(i, end = \" \")\n"
   ]
  },
  {
   "cell_type": "code",
   "execution_count": 22,
   "id": "b121e794",
   "metadata": {},
   "outputs": [
    {
     "name": "stdout",
     "output_type": "stream",
     "text": [
      "Right rotation of given array is: \n",
      "9 11 1 3 5 7 "
     ]
    }
   ],
   "source": [
    "b = array.array('i',[1,3,5,7,9,11]) \n",
    "\n",
    "right_rotation_array(b,2)\n"
   ]
  },
  {
   "cell_type": "markdown",
   "id": "ba16afc6",
   "metadata": {},
   "source": [
    "# 4.\tWrite a Python Program to Split the array and add the first part to the end?"
   ]
  },
  {
   "cell_type": "code",
   "execution_count": 27,
   "id": "13bd1057",
   "metadata": {},
   "outputs": [],
   "source": [
    "def Split_array_add_ftol(a,n):\n",
    "    \"\"\"\n",
    "    This func takes an array and a index no. at which array is to be splitted as arg \n",
    "    and returns the array after adding first part to the end. \n",
    "    \"\"\"\n",
    "    \n",
    "    l =  a[n:] + a[0:n]\n",
    "    print(\"first part of array: \", a[n:])\n",
    "    print(\"second part of array: \", a[0:n])\n",
    "    print(\"first part of array added to the end of second part of array is: \")\n",
    "    \n",
    "    for i in l:\n",
    "        print(i, end = \" \")\n"
   ]
  },
  {
   "cell_type": "code",
   "execution_count": 28,
   "id": "f2cf4ebd",
   "metadata": {},
   "outputs": [
    {
     "name": "stdout",
     "output_type": "stream",
     "text": [
      "first part of array:  array('i', [7, 9, 11])\n",
      "second part of array:  array('i', [1, 3, 5])\n",
      "first part of array added to the end of second part of array is: \n",
      "7 9 11 1 3 5 "
     ]
    }
   ],
   "source": [
    "b = array.array('i',[1,3,5,7,9,11])  \n",
    "\n",
    "Split_array_add_ftol(b,3)"
   ]
  },
  {
   "cell_type": "markdown",
   "id": "2916b27f",
   "metadata": {},
   "source": [
    "# 5.\tWrite a Python Program to check if given array is Monotonic?"
   ]
  },
  {
   "cell_type": "code",
   "execution_count": 89,
   "id": "77b7c0e6",
   "metadata": {},
   "outputs": [],
   "source": [
    "def is_monotonic(a):\n",
    "    \"\"\"\n",
    "    This func takes an array as an arg and checks if it \n",
    "    is monotonic or not.\n",
    "    \"\"\"\n",
    "    \n",
    "    l = list(a)\n",
    "    if l == sorted(l) or l[::-1] == sorted(l):\n",
    "        return \"array {} is monotonic\".format(l)\n",
    "    else:\n",
    "        return \"array {} is not monotonic\".format(l)\n",
    "        "
   ]
  },
  {
   "cell_type": "code",
   "execution_count": 90,
   "id": "9f8c7f63",
   "metadata": {},
   "outputs": [],
   "source": [
    "c= array.array('i',[10,9,8,7,6,5,4,3,2,1]) \n",
    "d = array.array('i',[1,2,3,4,5,6,7,8,9,10])\n",
    "e = array.array('i',[1,2,5,4,6,88,78])"
   ]
  },
  {
   "cell_type": "code",
   "execution_count": 91,
   "id": "cbb449b3",
   "metadata": {},
   "outputs": [
    {
     "data": {
      "text/plain": [
       "'array [10, 9, 8, 7, 6, 5, 4, 3, 2, 1] is monotonic'"
      ]
     },
     "execution_count": 91,
     "metadata": {},
     "output_type": "execute_result"
    }
   ],
   "source": [
    "is_monotonic(c)"
   ]
  },
  {
   "cell_type": "code",
   "execution_count": 92,
   "id": "2c4c2f70",
   "metadata": {},
   "outputs": [
    {
     "data": {
      "text/plain": [
       "'array [1, 2, 3, 4, 5, 6, 7, 8, 9, 10] is monotonic'"
      ]
     },
     "execution_count": 92,
     "metadata": {},
     "output_type": "execute_result"
    }
   ],
   "source": [
    "is_monotonic(d)"
   ]
  },
  {
   "cell_type": "code",
   "execution_count": 93,
   "id": "fc87534d",
   "metadata": {},
   "outputs": [
    {
     "data": {
      "text/plain": [
       "'array [1, 2, 5, 4, 6, 88, 78] is not monotonic'"
      ]
     },
     "execution_count": 93,
     "metadata": {},
     "output_type": "execute_result"
    }
   ],
   "source": [
    "is_monotonic(e)"
   ]
  }
 ],
 "metadata": {
  "kernelspec": {
   "display_name": "Python 3 (ipykernel)",
   "language": "python",
   "name": "python3"
  },
  "language_info": {
   "codemirror_mode": {
    "name": "ipython",
    "version": 3
   },
   "file_extension": ".py",
   "mimetype": "text/x-python",
   "name": "python",
   "nbconvert_exporter": "python",
   "pygments_lexer": "ipython3",
   "version": "3.9.12"
  }
 },
 "nbformat": 4,
 "nbformat_minor": 5
}
