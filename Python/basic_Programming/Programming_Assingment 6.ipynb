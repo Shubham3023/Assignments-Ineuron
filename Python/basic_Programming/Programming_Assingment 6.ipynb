{
 "cells": [
  {
   "cell_type": "markdown",
   "id": "6651f889",
   "metadata": {},
   "source": [
    "# 1.\tWrite a Python Program to Display Fibonacci Sequence Using Recursion?"
   ]
  },
  {
   "cell_type": "code",
   "execution_count": 3,
   "id": "32f52e4d",
   "metadata": {
    "scrolled": true
   },
   "outputs": [
    {
     "name": "stdout",
     "output_type": "stream",
     "text": [
      "Enter no of iterations: 10\n",
      "0\n",
      "1\n",
      "1\n",
      "2\n",
      "3\n",
      "5\n",
      "8\n",
      "13\n",
      "21\n",
      "34\n"
     ]
    }
   ],
   "source": [
    "def fib_recursion(n):\n",
    "    \"\"\"\n",
    "    This func returns fibonacci sequence using recursion\n",
    "    \"\"\"\n",
    "    if n == 0:\n",
    "        return 0\n",
    "    elif n == 1:\n",
    "        return 1\n",
    "    else:\n",
    "        return fib_recursion(n-1) + fib_recursion(n-2)\n",
    "    \n",
    "n1 = int(input(\"Enter no of iterations: \"))\n",
    "l = [fib_recursion(i) for i in range(n1)]\n",
    "for i in l:\n",
    "    print(i)\n",
    "    \n",
    "    "
   ]
  },
  {
   "cell_type": "markdown",
   "id": "0fee57ff",
   "metadata": {},
   "source": [
    "# 2.\tWrite a Python Program to Find Factorial of Number Using Recursion?"
   ]
  },
  {
   "cell_type": "code",
   "execution_count": 9,
   "id": "3cbd91a6",
   "metadata": {},
   "outputs": [],
   "source": [
    "def fact_recursion(n):\n",
    "    \"\"\"\n",
    "    This func takes no. as args and returns its factorial using recursion\n",
    "    \"\"\"\n",
    "    fact = 1\n",
    "    if n == 0 or n ==1 :\n",
    "        return fact\n",
    "    else:\n",
    "        fact = n * fact_recursion(n-1)\n",
    "        return fact\n",
    "    "
   ]
  },
  {
   "cell_type": "code",
   "execution_count": 10,
   "id": "ce18205c",
   "metadata": {},
   "outputs": [
    {
     "data": {
      "text/plain": [
       "120"
      ]
     },
     "execution_count": 10,
     "metadata": {},
     "output_type": "execute_result"
    }
   ],
   "source": [
    "fact_recursion(5)"
   ]
  },
  {
   "cell_type": "code",
   "execution_count": 11,
   "id": "56fd4af9",
   "metadata": {},
   "outputs": [
    {
     "data": {
      "text/plain": [
       "1"
      ]
     },
     "execution_count": 11,
     "metadata": {},
     "output_type": "execute_result"
    }
   ],
   "source": [
    "fact_recursion(1)"
   ]
  },
  {
   "cell_type": "code",
   "execution_count": 12,
   "id": "e0ceb793",
   "metadata": {},
   "outputs": [
    {
     "data": {
      "text/plain": [
       "1"
      ]
     },
     "execution_count": 12,
     "metadata": {},
     "output_type": "execute_result"
    }
   ],
   "source": [
    "fact_recursion(0)"
   ]
  },
  {
   "cell_type": "markdown",
   "id": "6981d00e",
   "metadata": {},
   "source": [
    "# 3.\tWrite a Python Program to calculate your Body Mass Index?"
   ]
  },
  {
   "cell_type": "code",
   "execution_count": 8,
   "id": "e4d8dcee",
   "metadata": {},
   "outputs": [],
   "source": [
    "def BMI_calc(w,h):\n",
    "    \"\"\"\n",
    "    This func takes weight in kgs and height in cms of a person as an arg and\n",
    "    returns BMI of that Person.\n",
    "    \"\"\"\n",
    "    \n",
    "    bmi = float((w/(h/100)**2))\n",
    "    \n",
    "    if bmi < 18.5:\n",
    "        print(\"Your BMI is \", round(bmi,2), \" and you are underweight\")\n",
    "    elif bmi>= 25:\n",
    "        print(\"Your BMI is \", round(bmi,2), \" and you have over weight\")\n",
    "    else :\n",
    "        print(\"Your BMI is \", round(bmi,2), \" and you have healthy weight\")\n",
    "   "
   ]
  },
  {
   "cell_type": "code",
   "execution_count": 9,
   "id": "db917519",
   "metadata": {},
   "outputs": [
    {
     "name": "stdout",
     "output_type": "stream",
     "text": [
      "Your BMI is  23.44  and you have healthy weight\n"
     ]
    }
   ],
   "source": [
    "BMI_calc(60,160)"
   ]
  },
  {
   "cell_type": "code",
   "execution_count": 10,
   "id": "5efb5c8b",
   "metadata": {},
   "outputs": [
    {
     "name": "stdout",
     "output_type": "stream",
     "text": [
      "Your BMI is  15.62  and you are underweight\n"
     ]
    }
   ],
   "source": [
    "BMI_calc(40,160)"
   ]
  },
  {
   "cell_type": "code",
   "execution_count": 12,
   "id": "67c00fb7",
   "metadata": {},
   "outputs": [
    {
     "name": "stdout",
     "output_type": "stream",
     "text": [
      "Your BMI is  39.06  and you have over weight\n"
     ]
    }
   ],
   "source": [
    "BMI_calc(100,160)"
   ]
  },
  {
   "cell_type": "markdown",
   "id": "914f8def",
   "metadata": {},
   "source": [
    "# 4.\tWrite a Python Program to calculate the natural logarithm of any number?"
   ]
  },
  {
   "cell_type": "code",
   "execution_count": 16,
   "id": "4080826a",
   "metadata": {},
   "outputs": [],
   "source": [
    "from math import log\n",
    "def natural_log(n):\n",
    "    \"\"\"\n",
    "    This func takes a no. as an arg and returns \n",
    "    its natural log.\n",
    "    \"\"\"\n",
    "    return round(log(n),2)"
   ]
  },
  {
   "cell_type": "code",
   "execution_count": 17,
   "id": "8fea0d77",
   "metadata": {},
   "outputs": [
    {
     "data": {
      "text/plain": [
       "4.61"
      ]
     },
     "execution_count": 17,
     "metadata": {},
     "output_type": "execute_result"
    }
   ],
   "source": [
    "natural_log(100)"
   ]
  },
  {
   "cell_type": "markdown",
   "id": "5829fb9b",
   "metadata": {},
   "source": [
    "# 5.\tWrite a Python Program for cube sum of first n natural numbers?"
   ]
  },
  {
   "cell_type": "code",
   "execution_count": 11,
   "id": "ccace649",
   "metadata": {},
   "outputs": [],
   "source": [
    "def sumcube(n):\n",
    "    print(\"entered natural number is: \", n)\n",
    "    sum = 0\n",
    "    for i in range(1, n+1):\n",
    "        p = i**3\n",
    "        sum = sum + p\n",
    "    print(\"sum cubes of first \", n ,\" natural numbers is: \")\n",
    "    return sum\n"
   ]
  },
  {
   "cell_type": "code",
   "execution_count": 12,
   "id": "d8173822",
   "metadata": {},
   "outputs": [
    {
     "name": "stdout",
     "output_type": "stream",
     "text": [
      "entered natural number is:  100\n",
      "sum cubes of first  100  natural numbers is: \n"
     ]
    },
    {
     "data": {
      "text/plain": [
       "25502500"
      ]
     },
     "execution_count": 12,
     "metadata": {},
     "output_type": "execute_result"
    }
   ],
   "source": [
    "sumcube(100)"
   ]
  },
  {
   "cell_type": "code",
   "execution_count": 15,
   "id": "e51d732d",
   "metadata": {},
   "outputs": [],
   "source": [
    "def sumcubes(n):\n",
    "    print(\"entered natural number is: \", n)\n",
    "    sum = ((n*(n+1))/2)**2\n",
    "    print(\"sum cubes of first \", n ,\" natural numbers is: \")\n",
    "    return int(sum)\n"
   ]
  },
  {
   "cell_type": "code",
   "execution_count": 16,
   "id": "fbeb74d4",
   "metadata": {},
   "outputs": [
    {
     "name": "stdout",
     "output_type": "stream",
     "text": [
      "entered natural number is:  100\n",
      "sum cubes of first  100  natural numbers is: \n"
     ]
    },
    {
     "data": {
      "text/plain": [
       "25502500"
      ]
     },
     "execution_count": 16,
     "metadata": {},
     "output_type": "execute_result"
    }
   ],
   "source": [
    "sumcubes(100)"
   ]
  },
  {
   "cell_type": "code",
   "execution_count": null,
   "id": "a255b3d0",
   "metadata": {},
   "outputs": [],
   "source": []
  }
 ],
 "metadata": {
  "kernelspec": {
   "display_name": "Python 3 (ipykernel)",
   "language": "python",
   "name": "python3"
  },
  "language_info": {
   "codemirror_mode": {
    "name": "ipython",
    "version": 3
   },
   "file_extension": ".py",
   "mimetype": "text/x-python",
   "name": "python",
   "nbconvert_exporter": "python",
   "pygments_lexer": "ipython3",
   "version": "3.9.12"
  }
 },
 "nbformat": 4,
 "nbformat_minor": 5
}
