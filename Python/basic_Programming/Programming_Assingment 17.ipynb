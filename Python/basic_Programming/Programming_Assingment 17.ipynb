{
 "cells": [
  {
   "cell_type": "markdown",
   "id": "cc8917d7",
   "metadata": {},
   "source": [
    "# Q1. Create a function that takes three arguments a, b, c and returns the sum of the numbers that are evenly divided by c from the range a, b inclusive.\n",
    "Examples\n",
    "\n",
    "evenly_divisible(1, 10, 20) ➞ 0\n",
    "\n",
    " No number between 1 and 10 can be evenly divided by 20.\n",
    "\n",
    "evenly_divisible(1, 10, 2) ➞ 30\n",
    "\n",
    " 2 + 4 + 6 + 8 + 10 = 30\n",
    "\n",
    "evenly_divisible(1, 10, 3) ➞ 18\n",
    "\n",
    " 3 + 6 + 9 = 18\n"
   ]
  },
  {
   "cell_type": "code",
   "execution_count": 100,
   "id": "4e36a00c",
   "metadata": {},
   "outputs": [],
   "source": [
    "def evenly_divisible(a,b,c):\n",
    "    \"\"\"\n",
    "    This func takes three nos. a,b,c as args and returns sum of all \n",
    "    nos. in range of a and b(inclusive) which are divisible by c completely. \n",
    "    \"\"\"\n",
    "    \n",
    "    sum  = 0\n",
    "    for i in range(a, b+1):\n",
    "        if i % c == 0:\n",
    "            sum += i\n",
    "    return sum        "
   ]
  },
  {
   "cell_type": "code",
   "execution_count": 101,
   "id": "539f78f3",
   "metadata": {},
   "outputs": [
    {
     "data": {
      "text/plain": [
       "0"
      ]
     },
     "execution_count": 101,
     "metadata": {},
     "output_type": "execute_result"
    }
   ],
   "source": [
    "evenly_divisible(1, 10, 20)"
   ]
  },
  {
   "cell_type": "code",
   "execution_count": 102,
   "id": "b02da79e",
   "metadata": {},
   "outputs": [
    {
     "data": {
      "text/plain": [
       "30"
      ]
     },
     "execution_count": 102,
     "metadata": {},
     "output_type": "execute_result"
    }
   ],
   "source": [
    "evenly_divisible(1, 10, 2)"
   ]
  },
  {
   "cell_type": "code",
   "execution_count": 103,
   "id": "9904303c",
   "metadata": {},
   "outputs": [
    {
     "data": {
      "text/plain": [
       "18"
      ]
     },
     "execution_count": 103,
     "metadata": {},
     "output_type": "execute_result"
    }
   ],
   "source": [
    "evenly_divisible(1, 10, 3)"
   ]
  },
  {
   "cell_type": "markdown",
   "id": "9637779d",
   "metadata": {},
   "source": [
    "# Q2. Create a function that returns True if a given inequality expression is correct and False otherwise.\n",
    "Examples\n",
    "\n",
    "correct_signs(\"3 < 7 < 11\") ➞ True\n",
    "\n",
    "correct_signs(\"13 > 44 > 33 > 1\") ➞ False\n",
    "\n",
    "correct_signs(\"1 < 2 < 6 < 9 > 3\") ➞ True\n"
   ]
  },
  {
   "cell_type": "code",
   "execution_count": 104,
   "id": "e1b04aa7",
   "metadata": {},
   "outputs": [],
   "source": [
    "def correct_signs(s):\n",
    "    \"\"\"\n",
    "    This func takes inequality string as arg and returns boolean result of inequality.\n",
    "    \"\"\"\n",
    "   \n",
    "    return eval(s)   \n",
    "    \n",
    "        "
   ]
  },
  {
   "cell_type": "code",
   "execution_count": 105,
   "id": "815cc495",
   "metadata": {},
   "outputs": [
    {
     "data": {
      "text/plain": [
       "True"
      ]
     },
     "execution_count": 105,
     "metadata": {},
     "output_type": "execute_result"
    }
   ],
   "source": [
    "correct_signs(\"3 < 7 < 11\") "
   ]
  },
  {
   "cell_type": "code",
   "execution_count": 106,
   "id": "1f7603b2",
   "metadata": {},
   "outputs": [
    {
     "data": {
      "text/plain": [
       "False"
      ]
     },
     "execution_count": 106,
     "metadata": {},
     "output_type": "execute_result"
    }
   ],
   "source": [
    "correct_signs(\"13 > 44 > 33 > 1\")"
   ]
  },
  {
   "cell_type": "code",
   "execution_count": 107,
   "id": "141a0166",
   "metadata": {},
   "outputs": [
    {
     "data": {
      "text/plain": [
       "True"
      ]
     },
     "execution_count": 107,
     "metadata": {},
     "output_type": "execute_result"
    }
   ],
   "source": [
    "correct_signs(\"1 < 2 < 6 < 9 > 3\")"
   ]
  },
  {
   "cell_type": "markdown",
   "id": "7428a7b6",
   "metadata": {},
   "source": [
    "# Q3. Create a function that replaces all the vowels in a string with a specified character.\n",
    "Examples\n",
    "\n",
    "replace_vowels(\"the aardvark\", \"#\") ➞ \"th# ##rdv#rk\"\n",
    "\n",
    "replace_vowels(\"minnie mouse\", \"?\") ➞ \"m?nn?? m??s?\"\n",
    "\n",
    "replace_vowels(\"shakespeare\", \"*\") ➞ \"sh*k*sp**r*\"\n"
   ]
  },
  {
   "cell_type": "code",
   "execution_count": 108,
   "id": "391692f3",
   "metadata": {},
   "outputs": [],
   "source": [
    "def replace_vowels(s,char) :\n",
    "    \"\"\"\n",
    "    This func takes a string and character as args and returns string with\n",
    "    all the vowels in a string replaced with a specified character.\n",
    "    \"\"\"\n",
    "    \n",
    "    s1 = \"\"\n",
    "    for i in s:\n",
    "        if i.lower() in [\"a\", \"e\", \"i\", \"o\", \"u\"] :\n",
    "            s1 = s1 + char\n",
    "        else:\n",
    "            s1 = s1 + i\n",
    "    return s1\n",
    "            "
   ]
  },
  {
   "cell_type": "code",
   "execution_count": 109,
   "id": "38bce32d",
   "metadata": {},
   "outputs": [
    {
     "data": {
      "text/plain": [
       "'th# ##rdv#rk'"
      ]
     },
     "execution_count": 109,
     "metadata": {},
     "output_type": "execute_result"
    }
   ],
   "source": [
    "replace_vowels(\"the aardvark\", \"#\") "
   ]
  },
  {
   "cell_type": "code",
   "execution_count": 110,
   "id": "bb37a580",
   "metadata": {},
   "outputs": [
    {
     "data": {
      "text/plain": [
       "'m?nn?? m??s?'"
      ]
     },
     "execution_count": 110,
     "metadata": {},
     "output_type": "execute_result"
    }
   ],
   "source": [
    "replace_vowels(\"minnie mouse\", \"?\")"
   ]
  },
  {
   "cell_type": "code",
   "execution_count": 111,
   "id": "42d8734c",
   "metadata": {},
   "outputs": [
    {
     "data": {
      "text/plain": [
       "'sh*k*sp**r*'"
      ]
     },
     "execution_count": 111,
     "metadata": {},
     "output_type": "execute_result"
    }
   ],
   "source": [
    "replace_vowels(\"shakespeare\", \"*\")"
   ]
  },
  {
   "cell_type": "markdown",
   "id": "f8dc6603",
   "metadata": {},
   "source": [
    "# Q4. Write a function that calculates the factorial of a number recursively.\n",
    "Examples\n",
    "\n",
    "factorial(5) ➞ 120\n",
    "\n",
    "factorial(3) ➞ 6\n",
    "\n",
    "factorial(1) ➞ 1\n",
    "\n",
    "factorial(0) ➞ 1\n"
   ]
  },
  {
   "cell_type": "code",
   "execution_count": 112,
   "id": "b3ab1ee1",
   "metadata": {},
   "outputs": [],
   "source": [
    "def factorial(n) :\n",
    "    \"\"\"\n",
    "    This func takes no. as arg and returns its factorial using recursion.\n",
    "    \"\"\"\n",
    "    \n",
    "    fact = 1\n",
    "    if n == 0 or n == 1:\n",
    "        return fact\n",
    "    else:\n",
    "        fact = n * factorial(n - 1)\n",
    "        \n",
    "    return fact"
   ]
  },
  {
   "cell_type": "code",
   "execution_count": 113,
   "id": "29b42a76",
   "metadata": {},
   "outputs": [
    {
     "data": {
      "text/plain": [
       "120"
      ]
     },
     "execution_count": 113,
     "metadata": {},
     "output_type": "execute_result"
    }
   ],
   "source": [
    "factorial(5)"
   ]
  },
  {
   "cell_type": "code",
   "execution_count": 114,
   "id": "b42b2034",
   "metadata": {},
   "outputs": [
    {
     "data": {
      "text/plain": [
       "6"
      ]
     },
     "execution_count": 114,
     "metadata": {},
     "output_type": "execute_result"
    }
   ],
   "source": [
    "factorial(3)"
   ]
  },
  {
   "cell_type": "code",
   "execution_count": 115,
   "id": "20ce9490",
   "metadata": {},
   "outputs": [
    {
     "data": {
      "text/plain": [
       "1"
      ]
     },
     "execution_count": 115,
     "metadata": {},
     "output_type": "execute_result"
    }
   ],
   "source": [
    "factorial(1)"
   ]
  },
  {
   "cell_type": "code",
   "execution_count": 116,
   "id": "b02fe9c9",
   "metadata": {},
   "outputs": [
    {
     "data": {
      "text/plain": [
       "1"
      ]
     },
     "execution_count": 116,
     "metadata": {},
     "output_type": "execute_result"
    }
   ],
   "source": [
    "factorial(0)"
   ]
  },
  {
   "cell_type": "markdown",
   "id": "1cc60ead",
   "metadata": {},
   "source": [
    "# Q5. Create a function that computes the hamming distance between two strings.\n",
    "Hamming distance is the number of characters that differ between two strings. \n",
    "# Note: The character difference should be for a particular index and both strings should have equal lengths.\n",
    "\n",
    "To illustrate:\n",
    "String1: \"abcbba\"\n",
    "String2: \"abcbda\"\n",
    "\n",
    "Hamming Distance: 1 - \"b\" vs. \"d\" is the only difference.\n",
    "\n",
    "Examples\n",
    "\n",
    "hamming_distance(\"abcde\", \"bcdef\") ➞ 5\n",
    "\n",
    "hamming_distance(\"abcde\", \"abcde\") ➞ 0\n",
    "\n",
    "hamming_distance(\"strong\", \"strung\") ➞ 1\n"
   ]
  },
  {
   "cell_type": "code",
   "execution_count": 117,
   "id": "4449de1c",
   "metadata": {},
   "outputs": [],
   "source": [
    "def hamming_distance(s1, s2) :\n",
    "    \"\"\"\n",
    "    This func takes two strings as args and returns hamming distance between two strings.\n",
    "    \"\"\"\n",
    "    \n",
    "    count = 0\n",
    "    if len(s1) == len(s2): #to escape from index error\n",
    "        \n",
    "        for i in range(len(s1)):\n",
    "            if s1[i] != s2[i]:\n",
    "                count = count+1\n",
    "        return count\n",
    "    \n",
    "    else:\n",
    "        print(\"Both strings should be of equal lengths\") #to escape from index error\n",
    "    "
   ]
  },
  {
   "cell_type": "code",
   "execution_count": 118,
   "id": "30294bce",
   "metadata": {},
   "outputs": [
    {
     "data": {
      "text/plain": [
       "5"
      ]
     },
     "execution_count": 118,
     "metadata": {},
     "output_type": "execute_result"
    }
   ],
   "source": [
    "hamming_distance(\"abcde\", \"bcdef\") "
   ]
  },
  {
   "cell_type": "code",
   "execution_count": 119,
   "id": "a95217ab",
   "metadata": {},
   "outputs": [
    {
     "data": {
      "text/plain": [
       "0"
      ]
     },
     "execution_count": 119,
     "metadata": {},
     "output_type": "execute_result"
    }
   ],
   "source": [
    "hamming_distance(\"abcde\", \"abcde\")"
   ]
  },
  {
   "cell_type": "code",
   "execution_count": 120,
   "id": "62b9615d",
   "metadata": {},
   "outputs": [
    {
     "data": {
      "text/plain": [
       "1"
      ]
     },
     "execution_count": 120,
     "metadata": {},
     "output_type": "execute_result"
    }
   ],
   "source": [
    "hamming_distance(\"strong\", \"strung\")"
   ]
  }
 ],
 "metadata": {
  "kernelspec": {
   "display_name": "Python 3 (ipykernel)",
   "language": "python",
   "name": "python3"
  },
  "language_info": {
   "codemirror_mode": {
    "name": "ipython",
    "version": 3
   },
   "file_extension": ".py",
   "mimetype": "text/x-python",
   "name": "python",
   "nbconvert_exporter": "python",
   "pygments_lexer": "ipython3",
   "version": "3.9.12"
  }
 },
 "nbformat": 4,
 "nbformat_minor": 5
}
