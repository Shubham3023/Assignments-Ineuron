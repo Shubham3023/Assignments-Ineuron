{
 "cells": [
  {
   "cell_type": "markdown",
   "id": "d52d69e5",
   "metadata": {},
   "source": [
    "### 1.Write a Python Program to Add Two Matrices?"
   ]
  },
  {
   "cell_type": "code",
   "execution_count": 5,
   "id": "cd666fc8",
   "metadata": {},
   "outputs": [
    {
     "data": {
      "text/plain": [
       "[[11, 22, 33], [44, 55, 66], [77, 88, 99]]"
      ]
     },
     "execution_count": 5,
     "metadata": {},
     "output_type": "execute_result"
    }
   ],
   "source": [
    "x = [[1,2,3],[4,5,6],[7,8,9]]\n",
    "y = [[10,20,30],[40,50,60],[70,80,90]]\n",
    "\n",
    "def matrices_add(a,b):\n",
    "    \"\"\"\n",
    "    This func takes two matrices as an argument and returns\n",
    "    addition of two matrices.\n",
    "    \"\"\"\n",
    "    Addition = [[0,0,0],[0,0,0],[0,0,0]]\n",
    "    for i in range(len(a)):\n",
    "        for j in range(len(b[0])):\n",
    "            Addition[i][j] = a[i][j] + b[i][j]\n",
    "    return Addition\n",
    "\n",
    "matrices_add(x,y)"
   ]
  },
  {
   "cell_type": "markdown",
   "id": "238ebaa1",
   "metadata": {},
   "source": [
    "### 2. Write a Python Program to Multiply Two Matrices?"
   ]
  },
  {
   "cell_type": "code",
   "execution_count": 6,
   "id": "c8c5995a",
   "metadata": {},
   "outputs": [
    {
     "data": {
      "text/plain": [
       "[[300, 360, 420], [660, 810, 960], [1020, 1260, 1500]]"
      ]
     },
     "execution_count": 6,
     "metadata": {},
     "output_type": "execute_result"
    }
   ],
   "source": [
    "x = [[1,2,3],[4,5,6],[7,8,9]]\n",
    "y = [[10,20,30],[40,50,60],[70,80,90]]\n",
    "\n",
    "def matrices_multp(a,b):\n",
    "    \"\"\"\n",
    "    This func takes two matrices as an argument and returns\n",
    "    multiplication of two matrices.\n",
    "    \"\"\"\n",
    "    \n",
    "    Multiplication = [[0,0,0],[0,0,0],[0,0,0]]\n",
    "    for i in range(len(a)):\n",
    "        for j in range(len(b[0])):\n",
    "            for k in range(len(b)):\n",
    "                Multiplication[i][j] += a[i][k] * b[k][j]\n",
    "    return  Multiplication\n",
    "\n",
    "matrices_multp(x,y)"
   ]
  },
  {
   "cell_type": "markdown",
   "id": "4f8befe3",
   "metadata": {},
   "source": [
    "### 3. Write a Python Program to Transpose a Matrix?"
   ]
  },
  {
   "cell_type": "code",
   "execution_count": 9,
   "id": "36c413ec",
   "metadata": {},
   "outputs": [
    {
     "data": {
      "text/plain": [
       "[[1, 4, 7], [2, 5, 8], [3, 6, 9]]"
      ]
     },
     "execution_count": 9,
     "metadata": {},
     "output_type": "execute_result"
    }
   ],
   "source": [
    "x = [[1,2,3],[4,5,6],[7,8,9]]\n",
    "\n",
    "def matrix_transpose(a):\n",
    "    \"\"\"\n",
    "    This func takes a matrix as an argument and returns the\n",
    "    transpose of that matrix.\n",
    "    \"\"\"\n",
    "    Transpose = [[0,0,0],[0,0,0],[0,0,0]]\n",
    "    for i in range(len(a)):\n",
    "        for j in range(len(a[0])):\n",
    "            Transpose[j][i] = a[i][j]\n",
    "    return Transpose\n",
    "\n",
    "matrix_transpose(x)"
   ]
  },
  {
   "cell_type": "markdown",
   "id": "f717f623",
   "metadata": {},
   "source": [
    "### 4.Write a Python Program to Sort Words in Alphabetic Order?"
   ]
  },
  {
   "cell_type": "markdown",
   "id": "b4d22b6d",
   "metadata": {},
   "source": [
    "**Case sensitive sort**"
   ]
  },
  {
   "cell_type": "code",
   "execution_count": 11,
   "id": "cad0ca42",
   "metadata": {},
   "outputs": [],
   "source": [
    "l = ['apple', 'orange', 'Banana', 'cherry', 'Pineapple']"
   ]
  },
  {
   "cell_type": "code",
   "execution_count": 12,
   "id": "d1960fe6",
   "metadata": {},
   "outputs": [
    {
     "data": {
      "text/plain": [
       "['Banana', 'Pineapple', 'apple', 'cherry', 'orange']"
      ]
     },
     "execution_count": 12,
     "metadata": {},
     "output_type": "execute_result"
    }
   ],
   "source": [
    "def sort_alpha_sensitive(l):\n",
    "    \"\"\"\n",
    "    This func takes a list of strings as an argument\n",
    "    and returns a case sensetive sorted list.\n",
    "    \"\"\"\n",
    "    return sorted(l, key= lambda x : x)\n",
    "    \n",
    "sort_alpha_sensitive(l)"
   ]
  },
  {
   "cell_type": "markdown",
   "id": "26cc2e0d",
   "metadata": {},
   "source": [
    "**Case in-sensitive sort**"
   ]
  },
  {
   "cell_type": "code",
   "execution_count": 13,
   "id": "585c1683",
   "metadata": {},
   "outputs": [
    {
     "data": {
      "text/plain": [
       "['apple', 'Banana', 'cherry', 'orange', 'Pineapple']"
      ]
     },
     "execution_count": 13,
     "metadata": {},
     "output_type": "execute_result"
    }
   ],
   "source": [
    "def sort_alpha_insensitive(l):\n",
    "    \"\"\"\n",
    "    This func takes a list of strings as an argument\n",
    "    and returns a case in-sensetive sorted list.\n",
    "    \"\"\"\n",
    "    return sorted(l, key= lambda x : x.lower())\n",
    "    \n",
    "sort_alpha_insensitive(l)"
   ]
  },
  {
   "cell_type": "markdown",
   "id": "06ff83cd",
   "metadata": {},
   "source": [
    "### 5.Write a Python Program to Remove Punctuation From a String?"
   ]
  },
  {
   "cell_type": "code",
   "execution_count": 15,
   "id": "9a0339d5",
   "metadata": {},
   "outputs": [
    {
     "data": {
      "text/plain": [
       "'My name is Shubham'"
      ]
     },
     "execution_count": 15,
     "metadata": {},
     "output_type": "execute_result"
    }
   ],
   "source": [
    "def punc_remover(s):\n",
    "    \"\"\"\n",
    "    This function takes string as an argument and returns \n",
    "    a string after removing all punctuation marks.\n",
    "    \"\"\"\n",
    "    punctuation_marks = ['.', '?', '!', ',', ':', ';', '-', '_', '(', ')', '[', ']', '{', '}', \"'\", '\"', '...']\n",
    "    s1 = \"\"\n",
    "    for i in s:\n",
    "        if i not in punctuation_marks:\n",
    "            s1 += i\n",
    "    return s1\n",
    "\n",
    "s = \".My?!,:;- _name(] is{' Shubham...\"\n",
    "\n",
    "punc_remover(s)"
   ]
  }
 ],
 "metadata": {
  "kernelspec": {
   "display_name": "Python 3 (ipykernel)",
   "language": "python",
   "name": "python3"
  },
  "language_info": {
   "codemirror_mode": {
    "name": "ipython",
    "version": 3
   },
   "file_extension": ".py",
   "mimetype": "text/x-python",
   "name": "python",
   "nbconvert_exporter": "python",
   "pygments_lexer": "ipython3",
   "version": "3.9.12"
  }
 },
 "nbformat": 4,
 "nbformat_minor": 5
}
