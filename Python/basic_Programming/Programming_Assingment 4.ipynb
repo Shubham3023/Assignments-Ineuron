{
 "cells": [
  {
   "cell_type": "markdown",
   "id": "f97b4cba",
   "metadata": {},
   "source": [
    "# 1.\tWrite a Python Program to Find the Factorial of a Number?"
   ]
  },
  {
   "cell_type": "code",
   "execution_count": 5,
   "id": "d44b47df",
   "metadata": {},
   "outputs": [],
   "source": [
    "def fact_for(n):\n",
    "    \"\"\"This function takes number as arg and returns its factorial\"\"\"\n",
    "    fact = 1\n",
    "    for i in range(1,n+1):\n",
    "        fact = fact * i\n",
    "        i += 1\n",
    "    return \"Factorial of entered number {} is {} \".format(n,fact)"
   ]
  },
  {
   "cell_type": "code",
   "execution_count": 6,
   "id": "f6ed8687",
   "metadata": {},
   "outputs": [
    {
     "data": {
      "text/plain": [
       "'Factorial of entered number 6 is 720 '"
      ]
     },
     "execution_count": 6,
     "metadata": {},
     "output_type": "execute_result"
    }
   ],
   "source": [
    "fact_for(6)"
   ]
  },
  {
   "cell_type": "code",
   "execution_count": 8,
   "id": "645057c9",
   "metadata": {},
   "outputs": [],
   "source": [
    "def fact_while(n):\n",
    "    \"\"\"This function takes number as arg and returns its factorial\"\"\"\n",
    "    i = 1\n",
    "    fact = 1\n",
    "    while i < n+1:\n",
    "        fact = fact * i\n",
    "        i += 1\n",
    "    return \"Factorial of entered number {} is {} \".format(n,fact)"
   ]
  },
  {
   "cell_type": "code",
   "execution_count": 9,
   "id": "932df8af",
   "metadata": {},
   "outputs": [
    {
     "data": {
      "text/plain": [
       "'Factorial of entered number 6 is 720 '"
      ]
     },
     "execution_count": 9,
     "metadata": {},
     "output_type": "execute_result"
    }
   ],
   "source": [
    "fact_while(6)"
   ]
  },
  {
   "cell_type": "markdown",
   "id": "f0d2a343",
   "metadata": {},
   "source": [
    "# 2.\tWrite a Python Program to Display the multiplication Table?"
   ]
  },
  {
   "cell_type": "code",
   "execution_count": 1,
   "id": "e42ec6d3",
   "metadata": {},
   "outputs": [],
   "source": [
    "def mult_table(n):\n",
    "    \"\"\"This func takes no. as arg and returns its multiplication table\"\"\"\n",
    "    c=1\n",
    "    for i in range(1,11):\n",
    "        \n",
    "        c=n*i\n",
    "        print(\"{} X {} = {}\".format(n,i,c))"
   ]
  },
  {
   "cell_type": "code",
   "execution_count": 2,
   "id": "fb0c3c58",
   "metadata": {},
   "outputs": [
    {
     "name": "stdout",
     "output_type": "stream",
     "text": [
      "20 X 1 = 20\n",
      "20 X 2 = 40\n",
      "20 X 3 = 60\n",
      "20 X 4 = 80\n",
      "20 X 5 = 100\n",
      "20 X 6 = 120\n",
      "20 X 7 = 140\n",
      "20 X 8 = 160\n",
      "20 X 9 = 180\n",
      "20 X 10 = 200\n"
     ]
    }
   ],
   "source": [
    "mult_table(20)"
   ]
  },
  {
   "cell_type": "markdown",
   "id": "0415c466",
   "metadata": {},
   "source": [
    "# 3.\tWrite a Python Program to Print the Fibonacci sequence?"
   ]
  },
  {
   "cell_type": "code",
   "execution_count": 20,
   "id": "21ff3b1d",
   "metadata": {},
   "outputs": [],
   "source": [
    "def fib_while(n,a,b):\n",
    "    \"\"\"Function takes steps, first and second number as args and returns fibonacci sequence\"\"\"\n",
    "    c = 0\n",
    "    i = 0\n",
    "    print(a)\n",
    "    print(b)\n",
    "    while i < n-2:\n",
    "        c= a + b\n",
    "        a = b\n",
    "        b = c\n",
    "        i += 1\n",
    "        print(c)"
   ]
  },
  {
   "cell_type": "code",
   "execution_count": 21,
   "id": "b85c4a41",
   "metadata": {},
   "outputs": [
    {
     "name": "stdout",
     "output_type": "stream",
     "text": [
      "1\n",
      "2\n",
      "3\n",
      "5\n",
      "8\n",
      "13\n",
      "21\n",
      "34\n"
     ]
    }
   ],
   "source": [
    "fib_while(8,1,2)"
   ]
  },
  {
   "cell_type": "code",
   "execution_count": 22,
   "id": "9237c43e",
   "metadata": {},
   "outputs": [],
   "source": [
    "def fib_for(n,a,b):\n",
    "    \"\"\"Function takes steps, first and second number as args and returns fibonacci sequence\"\"\"\n",
    "    for i in range(n):\n",
    "        print(a)\n",
    "        a,b = b, a+b"
   ]
  },
  {
   "cell_type": "code",
   "execution_count": 23,
   "id": "4ccc0b6d",
   "metadata": {},
   "outputs": [
    {
     "name": "stdout",
     "output_type": "stream",
     "text": [
      "1\n",
      "2\n",
      "3\n",
      "5\n",
      "8\n",
      "13\n",
      "21\n",
      "34\n"
     ]
    }
   ],
   "source": [
    "fib_for(8,1,2)"
   ]
  },
  {
   "cell_type": "markdown",
   "id": "08f15444",
   "metadata": {},
   "source": [
    "# 4.\tWrite a Python Program to Check Armstrong Number?"
   ]
  },
  {
   "cell_type": "code",
   "execution_count": 24,
   "id": "a882291e",
   "metadata": {},
   "outputs": [],
   "source": [
    "def check_arm(n):\n",
    "    \"\"\"The func takes no. as args and checks for armstrong number\"\"\"\n",
    "    m = len(str(n))\n",
    "    c=0\n",
    "    for i in str(n):\n",
    "        c = c + int(i)**m\n",
    "    if c == int(n):\n",
    "        return \"Entered Number {} is a Armstrong Number\".format(n)\n",
    "    else:\n",
    "        return \"Entered Number {} is not a Armstrong Number\".format(n)"
   ]
  },
  {
   "cell_type": "code",
   "execution_count": 25,
   "id": "9d43acaa",
   "metadata": {},
   "outputs": [
    {
     "data": {
      "text/plain": [
       "'Entered Number 371 is a Armstrong Number'"
      ]
     },
     "execution_count": 25,
     "metadata": {},
     "output_type": "execute_result"
    }
   ],
   "source": [
    "check_arm(371)"
   ]
  },
  {
   "cell_type": "markdown",
   "id": "2e77831d",
   "metadata": {},
   "source": [
    "# 5.\tWrite a Python Program to Find Armstrong Number in an Interval?"
   ]
  },
  {
   "cell_type": "code",
   "execution_count": 26,
   "id": "e92812f1",
   "metadata": {},
   "outputs": [],
   "source": [
    "def find_arm(a,b):\n",
    "    \"\"\"this function takes interval and returns list of all armstrong number in that interval\"\"\"\n",
    "    l1 = []\n",
    "    for n in range(a, b+1):\n",
    "        m = len(str(n))\n",
    "        c=0  \n",
    "        for i in str(n):\n",
    "            c = c + int(i)**m\n",
    "            if c == int(n):\n",
    "                l1.append(c)\n",
    "    print(\"Armstrong Numbers in Between {} and {} is {}\".format(a,b,l1))"
   ]
  },
  {
   "cell_type": "code",
   "execution_count": 27,
   "id": "dfcfe0a0",
   "metadata": {},
   "outputs": [
    {
     "name": "stdout",
     "output_type": "stream",
     "text": [
      "Armstrong Numbers in Between 0 and 10000 is [0, 1, 2, 3, 4, 5, 6, 7, 8, 9, 153, 370, 370, 371, 407, 1634, 6688, 8208, 9474]\n"
     ]
    }
   ],
   "source": [
    "find_arm(0,10000)"
   ]
  },
  {
   "cell_type": "markdown",
   "id": "8bc60bf2",
   "metadata": {},
   "source": [
    "# 6.\tWrite a Python Program to Find the Sum of Natural Numbers?"
   ]
  },
  {
   "cell_type": "markdown",
   "id": "d4c0d466",
   "metadata": {},
   "source": [
    "# Sum of first n natural numbers"
   ]
  },
  {
   "cell_type": "code",
   "execution_count": 34,
   "id": "102734a9",
   "metadata": {},
   "outputs": [],
   "source": [
    "def firstN_sum(n):\n",
    "    \"\"\"This function takes nth natural no. as arg an returns sum of first n natural nos.\"\"\"\n",
    "    sum = int((n*(n+1)/2))\n",
    "    return \"sum first {} natural numbers is {}\".format(n,sum)"
   ]
  },
  {
   "cell_type": "code",
   "execution_count": 35,
   "id": "d1a20bf3",
   "metadata": {},
   "outputs": [
    {
     "data": {
      "text/plain": [
       "'sum first 100 natural numbers is 5050'"
      ]
     },
     "execution_count": 35,
     "metadata": {},
     "output_type": "execute_result"
    }
   ],
   "source": [
    "firstN_sum(100)"
   ]
  },
  {
   "cell_type": "markdown",
   "id": "1e1780dd",
   "metadata": {},
   "source": [
    "# Sum of natural numbers in an interval"
   ]
  },
  {
   "cell_type": "code",
   "execution_count": 30,
   "id": "97e1e0b7",
   "metadata": {},
   "outputs": [],
   "source": [
    "def interval_sum(a,b):\n",
    "    \"\"\"This function takes two nos. as args and returns sum of natural nos. in that interval\"\"\"\n",
    "    sum = 0\n",
    "    if a !=0:\n",
    "        for i in range(a,b+1):\n",
    "            sum = sum + i\n",
    "    return \"sum of natural numbers between '{}' and '{}' is '{}'\".format(a,b,sum)"
   ]
  },
  {
   "cell_type": "code",
   "execution_count": 31,
   "id": "ba4e1536",
   "metadata": {},
   "outputs": [
    {
     "data": {
      "text/plain": [
       "\"sum of natural numbers between '9999' and '100000' is '4950064999'\""
      ]
     },
     "execution_count": 31,
     "metadata": {},
     "output_type": "execute_result"
    }
   ],
   "source": [
    "interval_sum(9999,100000)"
   ]
  }
 ],
 "metadata": {
  "kernelspec": {
   "display_name": "Python 3 (ipykernel)",
   "language": "python",
   "name": "python3"
  },
  "language_info": {
   "codemirror_mode": {
    "name": "ipython",
    "version": 3
   },
   "file_extension": ".py",
   "mimetype": "text/x-python",
   "name": "python",
   "nbconvert_exporter": "python",
   "pygments_lexer": "ipython3",
   "version": "3.9.12"
  }
 },
 "nbformat": 4,
 "nbformat_minor": 5
}
