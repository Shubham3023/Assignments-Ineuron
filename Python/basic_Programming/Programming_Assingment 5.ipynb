{
 "cells": [
  {
   "cell_type": "markdown",
   "id": "23530a9b",
   "metadata": {},
   "source": [
    "# 1.\tWrite a Python Program to Find LCM?"
   ]
  },
  {
   "cell_type": "code",
   "execution_count": 1,
   "id": "e7401ad7",
   "metadata": {},
   "outputs": [],
   "source": [
    "def lcm(a,b):\n",
    "    \"\"\"This func takes 2 nos. as arg and returns LCM.\"\"\"\n",
    "    if a > b:\n",
    "        temp = a\n",
    "    else:\n",
    "        temp = b\n",
    "    while True: \n",
    "        if (temp % a == 0) and (temp % b == 0):\n",
    "            lcm = temp\n",
    "            break\n",
    "        temp += 1\n",
    "    return \"LCM of '{}' and '{}' is '{}'\".format(a,b,lcm)\n",
    "    "
   ]
  },
  {
   "cell_type": "code",
   "execution_count": 2,
   "id": "563d8d20",
   "metadata": {},
   "outputs": [
    {
     "data": {
      "text/plain": [
       "\"LCM of '45' and '30' is '90'\""
      ]
     },
     "execution_count": 2,
     "metadata": {},
     "output_type": "execute_result"
    }
   ],
   "source": [
    "lcm(45,30)"
   ]
  },
  {
   "cell_type": "code",
   "execution_count": 3,
   "id": "1507cba3",
   "metadata": {},
   "outputs": [
    {
     "data": {
      "text/plain": [
       "\"LCM of '33' and '11' is '33'\""
      ]
     },
     "execution_count": 3,
     "metadata": {},
     "output_type": "execute_result"
    }
   ],
   "source": [
    "lcm(33,11)"
   ]
  },
  {
   "cell_type": "markdown",
   "id": "ebbc778c",
   "metadata": {},
   "source": [
    "# 2.\tWrite a Python Program to Find HCF?"
   ]
  },
  {
   "cell_type": "code",
   "execution_count": 4,
   "id": "d03c2394",
   "metadata": {},
   "outputs": [],
   "source": [
    "def hcf(a,b):\n",
    "    \"\"\"This func takes 2 nos. as arg and returns HCF.\"\"\"\n",
    "    if a < b:\n",
    "        temp = a\n",
    "    else:\n",
    "        temp = b\n",
    "    while True: \n",
    "        if (a % temp == 0) and (b % temp == 0):\n",
    "            hcf = temp\n",
    "            break\n",
    "        temp -= 1\n",
    "    return \"HCF of '{}' and '{}' is '{}'\".format(a,b,hcf)"
   ]
  },
  {
   "cell_type": "code",
   "execution_count": 5,
   "id": "43eefe4e",
   "metadata": {},
   "outputs": [
    {
     "data": {
      "text/plain": [
       "\"HCF of '30' and '45' is '15'\""
      ]
     },
     "execution_count": 5,
     "metadata": {},
     "output_type": "execute_result"
    }
   ],
   "source": [
    "hcf(30,45)"
   ]
  },
  {
   "cell_type": "markdown",
   "id": "393002a9",
   "metadata": {},
   "source": [
    "# 3.\tWrite a Python Program to Convert Decimal to Binary, Octal and Hexadecimal?"
   ]
  },
  {
   "cell_type": "markdown",
   "id": "ca99a747",
   "metadata": {},
   "source": [
    "# Decimal to Binary"
   ]
  },
  {
   "cell_type": "code",
   "execution_count": 6,
   "id": "17e4077d",
   "metadata": {},
   "outputs": [],
   "source": [
    "def decimal_b(a):\n",
    "    \"\"\"This func takes decimal no. and returns its binary no.\"\"\"\n",
    "    print(\"binary no of \", a, \" is:\")\n",
    "    i = 0\n",
    "    l=[]\n",
    "    while a >= 1:\n",
    "        c = a % 2\n",
    "        a = a //2\n",
    "        l.append(int(c))\n",
    "        i = i + 1\n",
    "    l= l[::-1]\n",
    "    for i in l:\n",
    "        print(i, end = \"\")"
   ]
  },
  {
   "cell_type": "code",
   "execution_count": 7,
   "id": "59d7863b",
   "metadata": {},
   "outputs": [
    {
     "name": "stdout",
     "output_type": "stream",
     "text": [
      "binary no of  50  is:\n",
      "110010"
     ]
    }
   ],
   "source": [
    "decimal_b(50)"
   ]
  },
  {
   "cell_type": "markdown",
   "id": "9b46ff58",
   "metadata": {},
   "source": [
    "# Decimal to Octal"
   ]
  },
  {
   "cell_type": "code",
   "execution_count": 8,
   "id": "70368254",
   "metadata": {},
   "outputs": [],
   "source": [
    "def decimal_o(a):\n",
    "    \"\"\"This func takes decimal no. and returns its Octal no.\"\"\"\n",
    "    print(\"octal no of \", a, \" is:\")\n",
    "    i = 0\n",
    "    l= []\n",
    "    while a >0:\n",
    "        c = a % 8\n",
    "        a = a //8\n",
    "        l.append(int(c))\n",
    "        i = i + 1\n",
    "    l= l[::-1]\n",
    "    for i in l:\n",
    "        print(i, end = \"\") "
   ]
  },
  {
   "cell_type": "code",
   "execution_count": 9,
   "id": "b26e1832",
   "metadata": {},
   "outputs": [
    {
     "name": "stdout",
     "output_type": "stream",
     "text": [
      "octal no of  999  is:\n",
      "1747"
     ]
    }
   ],
   "source": [
    "decimal_o(999)"
   ]
  },
  {
   "cell_type": "markdown",
   "id": "37d2181c",
   "metadata": {},
   "source": [
    "# Decimal to hexadecimal"
   ]
  },
  {
   "cell_type": "code",
   "execution_count": 10,
   "id": "6ce7846f",
   "metadata": {},
   "outputs": [],
   "source": [
    "def decimal_h(a):\n",
    "    \"\"\"This func takes decimal no. and returns its Hexadecimal no.\"\"\"\n",
    "    output= \"\"\n",
    "    table = [\"0\",\"1\",\"2\",\"3\",\"4\",\"5\",\"6\",\"7\",\"8\",\"9\",\"A\",\"B\",\"C\",'D','E',\"F\"]\n",
    "    while a >0:\n",
    "        c = a % 16\n",
    "        output = table[c] + output\n",
    "        a = a //16\n",
    "    print(output)"
   ]
  },
  {
   "cell_type": "code",
   "execution_count": 11,
   "id": "cd6ac6c3",
   "metadata": {},
   "outputs": [
    {
     "name": "stdout",
     "output_type": "stream",
     "text": [
      "3E7\n"
     ]
    }
   ],
   "source": [
    "decimal_h(999)"
   ]
  },
  {
   "cell_type": "markdown",
   "id": "15ff0d59",
   "metadata": {},
   "source": [
    "# 4.\tWrite a Python Program To Find ASCII value of a character?"
   ]
  },
  {
   "cell_type": "code",
   "execution_count": 12,
   "id": "a72217da",
   "metadata": {},
   "outputs": [],
   "source": [
    "def ascii_value(char_on_keyboard):\n",
    "    \"\"\"This func takes keyboard character as arg and returns its ASCII value\"\"\"\n",
    "    return \"ASCII Value of Pressed Key '{}' is {}\".format(char_on_keyboard, ord(char_on_keyboard))"
   ]
  },
  {
   "cell_type": "code",
   "execution_count": 13,
   "id": "fd79bdb6",
   "metadata": {},
   "outputs": [
    {
     "data": {
      "text/plain": [
       "\"ASCII Value of Pressed Key 't' is 116\""
      ]
     },
     "execution_count": 13,
     "metadata": {},
     "output_type": "execute_result"
    }
   ],
   "source": [
    "ascii_value(\"t\")"
   ]
  },
  {
   "cell_type": "markdown",
   "id": "7788c100",
   "metadata": {},
   "source": [
    "# 5.\tWrite a Python Program to Make a Simple Calculator with 4 basic mathematical operations?"
   ]
  },
  {
   "cell_type": "code",
   "execution_count": 31,
   "id": "3bcb5008",
   "metadata": {},
   "outputs": [],
   "source": [
    "def calc(a,b,c):\n",
    "    \"\"\"This func takes 2 nos. and one operator name as arg and returns \n",
    "    the result of operation of operator on two numbers.\"\"\"\n",
    "    if c == \"division\":\n",
    "        try:\n",
    "            output = a/b\n",
    "            return \"division of {} by {} is {}\".format(a,b,float(output))\n",
    "        except ZeroDivisionError:\n",
    "            print(\"denominator should be non zero number\")\n",
    "\n",
    "    elif c == \"multiplication\":\n",
    "        output = a*b\n",
    "        return \"multiplication of {} and {} is {}\".format(a,b,float(output))\n",
    "    elif c == \"substraction\":\n",
    "        output = a-b\n",
    "        return \"substraction of {} from {} is {}\".format(a,b,float(output))\n",
    "    elif c == \"addition\":\n",
    "        output = a+b\n",
    "        return \"addition of {} and {} is {}\".format(a,b,float(output))"
   ]
  },
  {
   "cell_type": "code",
   "execution_count": 32,
   "id": "8482bf29",
   "metadata": {},
   "outputs": [
    {
     "name": "stdout",
     "output_type": "stream",
     "text": [
      "denominator should be non zero number\n"
     ]
    }
   ],
   "source": [
    "calc(10,0,\"division\")"
   ]
  },
  {
   "cell_type": "code",
   "execution_count": 33,
   "id": "ac9bab65",
   "metadata": {},
   "outputs": [
    {
     "data": {
      "text/plain": [
       "'division of 100 by 50 is 2.0'"
      ]
     },
     "execution_count": 33,
     "metadata": {},
     "output_type": "execute_result"
    }
   ],
   "source": [
    "calc(100,50,\"division\")"
   ]
  },
  {
   "cell_type": "code",
   "execution_count": 34,
   "id": "a7b65f34",
   "metadata": {},
   "outputs": [
    {
     "data": {
      "text/plain": [
       "'addition of 10 and 45 is 55.0'"
      ]
     },
     "execution_count": 34,
     "metadata": {},
     "output_type": "execute_result"
    }
   ],
   "source": [
    "calc(10,45,\"addition\")"
   ]
  },
  {
   "cell_type": "code",
   "execution_count": 35,
   "id": "5b27ec87",
   "metadata": {},
   "outputs": [
    {
     "data": {
      "text/plain": [
       "'substraction of 55 from 66 is -11.0'"
      ]
     },
     "execution_count": 35,
     "metadata": {},
     "output_type": "execute_result"
    }
   ],
   "source": [
    "calc(55,66,\"substraction\")"
   ]
  },
  {
   "cell_type": "code",
   "execution_count": 36,
   "id": "796af518",
   "metadata": {},
   "outputs": [
    {
     "data": {
      "text/plain": [
       "'multiplication of 34 and 89 is 3026.0'"
      ]
     },
     "execution_count": 36,
     "metadata": {},
     "output_type": "execute_result"
    }
   ],
   "source": [
    "calc(34,89,\"multiplication\")"
   ]
  }
 ],
 "metadata": {
  "kernelspec": {
   "display_name": "Python 3 (ipykernel)",
   "language": "python",
   "name": "python3"
  },
  "language_info": {
   "codemirror_mode": {
    "name": "ipython",
    "version": 3
   },
   "file_extension": ".py",
   "mimetype": "text/x-python",
   "name": "python",
   "nbconvert_exporter": "python",
   "pygments_lexer": "ipython3",
   "version": "3.9.12"
  }
 },
 "nbformat": 4,
 "nbformat_minor": 5
}
