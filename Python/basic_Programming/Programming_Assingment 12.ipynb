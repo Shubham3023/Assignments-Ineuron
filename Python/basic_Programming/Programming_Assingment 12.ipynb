{
 "cells": [
  {
   "cell_type": "markdown",
   "id": "1be23b37",
   "metadata": {},
   "source": [
    "# 1.\tWrite a Python program to Extract Unique values dictionary values?"
   ]
  },
  {
   "cell_type": "code",
   "execution_count": 2,
   "id": "70e83f2f",
   "metadata": {},
   "outputs": [],
   "source": [
    "d = {\"key1\":\"shubham\",\"key2\":\"verma\",\"key3\":\"shubham\",\"key4\":12,\"key5\":12}"
   ]
  },
  {
   "cell_type": "code",
   "execution_count": 7,
   "id": "5254906e",
   "metadata": {},
   "outputs": [
    {
     "data": {
      "text/plain": [
       "\"Unique values in given dictionary is: {'verma', 'shubham', 12} \""
      ]
     },
     "execution_count": 7,
     "metadata": {},
     "output_type": "execute_result"
    }
   ],
   "source": [
    "def extract_uniquevalues(d):\n",
    "    \"\"\"\n",
    "    This func takes a dict as arg and returns \n",
    "    unique values among all dict values.\n",
    "    \"\"\"\n",
    "    return \"Unique values in given dictionary is: {} \".format(set(d.values()))\n",
    "\n",
    "extract_uniquevalues(d)"
   ]
  },
  {
   "cell_type": "code",
   "execution_count": 8,
   "id": "8636c01d",
   "metadata": {},
   "outputs": [
    {
     "data": {
      "text/plain": [
       "\"Unique values in given dictionary is: {'verma', 'shubham', 12} \""
      ]
     },
     "execution_count": 8,
     "metadata": {},
     "output_type": "execute_result"
    }
   ],
   "source": [
    "def extract_uniquevalues_2(d):\n",
    "    \"\"\"\n",
    "    This func takes a dict as arg and returns \n",
    "    unique values among all dict values.\n",
    "    \"\"\"\n",
    "\n",
    "    l = []\n",
    "    for i in d.keys():\n",
    "        l.append(d[i])\n",
    "    return \"Unique values in given dictionary is: {} \".format(set(l))\n",
    "\n",
    "extract_uniquevalues_2(d)"
   ]
  },
  {
   "cell_type": "markdown",
   "id": "c083368b",
   "metadata": {},
   "source": [
    "# 2.\tWrite a Python program to find the sum of all items in a dictionary?"
   ]
  },
  {
   "cell_type": "code",
   "execution_count": 10,
   "id": "4f05334d",
   "metadata": {},
   "outputs": [],
   "source": [
    "d = {1 :\"Sudh\",2:4,5:43,343:12,342:1234,\"key1\":\"shubham\",\"key2\":1234}"
   ]
  },
  {
   "cell_type": "code",
   "execution_count": 11,
   "id": "0c0042ea",
   "metadata": {},
   "outputs": [
    {
     "data": {
      "text/plain": [
       "'Summation of all dictionary items, i.e. keys and values is: 3220 '"
      ]
     },
     "execution_count": 11,
     "metadata": {},
     "output_type": "execute_result"
    }
   ],
   "source": [
    "def sum_dict_items(d):\n",
    "    \"\"\"\n",
    "    This func takes a dict as arg and returns \n",
    "    summation of all dict items.\n",
    "    \"\"\"\n",
    "    \n",
    "    sum = 0\n",
    "    for i in d.items():\n",
    "        for j in i:\n",
    "            if type(j) == int:\n",
    "                sum += j\n",
    "    return \"Summation of all dictionary items, i.e. keys and values is: {} \".format(sum)\n",
    "\n",
    "sum_dict_items(d)"
   ]
  },
  {
   "cell_type": "markdown",
   "id": "651dca68",
   "metadata": {},
   "source": [
    "# 3.\tWrite a Python program to Merging two Dictionaries?"
   ]
  },
  {
   "cell_type": "code",
   "execution_count": 12,
   "id": "900a2f3e",
   "metadata": {},
   "outputs": [],
   "source": [
    "d1 = {1 :\"Sudh\",2:4,5:43,343:12,342:1234,\"key1\":\"shubham\",\"key2\":123456}\n",
    "d2 = {\"name\":\"kabir\",\"contact\":\"xyz@gmail.com\"}"
   ]
  },
  {
   "cell_type": "code",
   "execution_count": 13,
   "id": "409e9f47",
   "metadata": {},
   "outputs": [
    {
     "data": {
      "text/plain": [
       "\"The new dictionary after merging input dictionaries is {'name': 'kabir', 'contact': 'xyz@gmail.com', 1: 'Sudh', 2: 4, 5: 43, 343: 12, 342: 1234, 'key1': 'shubham', 'key2': 123456} \""
      ]
     },
     "execution_count": 13,
     "metadata": {},
     "output_type": "execute_result"
    }
   ],
   "source": [
    "def merging_dict(d1,d2):\n",
    "    \"\"\"\n",
    "    This func takes two dict as arg and returns\n",
    "    new dict after merging them.\n",
    "    \"\"\"\n",
    "    \n",
    "    d2.update(d1)\n",
    "    return \"The new dictionary after merging input dictionaries is {} \".format(d2)\n",
    "\n",
    "merging_dict(d1,d2)"
   ]
  },
  {
   "cell_type": "markdown",
   "id": "413cce47",
   "metadata": {},
   "source": [
    "# 4.\tWrite a Python program to convert key-values list to flat dictionary?"
   ]
  },
  {
   "cell_type": "code",
   "execution_count": 18,
   "id": "a4a5a3b0",
   "metadata": {},
   "outputs": [],
   "source": [
    "l = [(\"name\",\"shubham\"),(\"surname\",\"verma\"),(\"yob\",1994)]"
   ]
  },
  {
   "cell_type": "code",
   "execution_count": 19,
   "id": "48c61a38",
   "metadata": {},
   "outputs": [
    {
     "data": {
      "text/plain": [
       "\"The flat dictionary is {'name': 'shubham', 'surname': 'verma', 'yob': 1994} \""
      ]
     },
     "execution_count": 19,
     "metadata": {},
     "output_type": "execute_result"
    }
   ],
   "source": [
    "def list_to_dict(l):\n",
    "    \"\"\"\n",
    "    This func takes a list having key - value pair tuple as arg\n",
    "    and returns the dict.\n",
    "    \"\"\"\n",
    "    \n",
    "    d={}\n",
    "    for i in l:\n",
    "        d[i[0]] = i[1]\n",
    "    return \"The flat dictionary is {} \".format(d)\n",
    "\n",
    "list_to_dict(l)"
   ]
  },
  {
   "cell_type": "markdown",
   "id": "cb0d5bf9",
   "metadata": {},
   "source": [
    "# 5.\tWrite a Python program to insertion at the beginning in OrderedDict?"
   ]
  },
  {
   "cell_type": "code",
   "execution_count": 21,
   "id": "93076636",
   "metadata": {},
   "outputs": [],
   "source": [
    "from collections import OrderedDict"
   ]
  },
  {
   "cell_type": "code",
   "execution_count": 22,
   "id": "9f193afe",
   "metadata": {},
   "outputs": [],
   "source": [
    "d = OrderedDict({\"key1\":\"shubham\", \"key2\": 122324,\"name\":\"sushant\"})\n",
    "d1 = {\"username\":\"password\", \"google\":\"sunder p\"}"
   ]
  },
  {
   "cell_type": "code",
   "execution_count": 24,
   "id": "9d2c41e4",
   "metadata": {},
   "outputs": [
    {
     "data": {
      "text/plain": [
       "OrderedDict([('google', 'sunder p'),\n",
       "             ('username', 'password'),\n",
       "             ('key1', 'shubham'),\n",
       "             ('key2', 122324),\n",
       "             ('name', 'sushant')])"
      ]
     },
     "execution_count": 24,
     "metadata": {},
     "output_type": "execute_result"
    }
   ],
   "source": [
    "def insert_biginning_dict(d,d1):\n",
    "    \"\"\"\n",
    "    This func takes a ordered dict and a dictionary as an arg and returns \n",
    "    the ordered dictionary after inserting dictionaries element in ordered\n",
    "    dictionary.\n",
    "    \"\"\"\n",
    "    d.update(d1)\n",
    "    for i in d1.keys():\n",
    "        d.move_to_end(i, last = False)\n",
    "    return d\n",
    "\n",
    "insert_biginning_dict(d,d1)"
   ]
  },
  {
   "cell_type": "markdown",
   "id": "acd1b32f",
   "metadata": {},
   "source": [
    "# 6.\tWrite a Python program to check order of character in string using OrderedDict()?"
   ]
  },
  {
   "cell_type": "code",
   "execution_count": 27,
   "id": "6f27d9bb",
   "metadata": {},
   "outputs": [
    {
     "data": {
      "text/plain": [
       "'true'"
      ]
     },
     "execution_count": 27,
     "metadata": {},
     "output_type": "execute_result"
    }
   ],
   "source": [
    "def checkOrder(input, pattern): \n",
    "    \"\"\"\n",
    "    This func takes two arguments string and a pattern \n",
    "    and returns boolean after checking order of string.\n",
    "    \"\"\"\n",
    "      \n",
    "    dict = OrderedDict.fromkeys(input)   \n",
    "    ptrlen = 0\n",
    "    for key,value in dict.items(): \n",
    "        if (key == pattern[ptrlen]): \n",
    "            ptrlen = ptrlen + 1\n",
    "          \n",
    "        if (ptrlen == (len(pattern))): \n",
    "            return 'true'\n",
    "  \n",
    "    return 'false'\n",
    "\n",
    "checkOrder('engineers rock','er')"
   ]
  },
  {
   "cell_type": "markdown",
   "id": "862d17fd",
   "metadata": {},
   "source": [
    "# 7.\tWrite a Python program to sort Python Dictionaries by Key or Value?"
   ]
  },
  {
   "cell_type": "code",
   "execution_count": 28,
   "id": "437e79f1",
   "metadata": {},
   "outputs": [],
   "source": [
    "d = {'key b': 'shubham', 'key a': 'verma', 'key c': \"python\"}"
   ]
  },
  {
   "cell_type": "code",
   "execution_count": 29,
   "id": "6ffceeaa",
   "metadata": {},
   "outputs": [],
   "source": [
    "def sort_dict(d,sortingby):\n",
    "    \"\"\"\n",
    "    This func takes a dict and sorting type as arg and returns \n",
    "    sorted dict as per sorting type.\n",
    "    \"\"\"\n",
    "    \n",
    "    if sortingby == \"key\":\n",
    "        return \"dict sorted by keys is {}\".format(dict(sorted(d.items(), key = lambda keyfrom_d : keyfrom_d[0])))\n",
    "    \n",
    "    elif sortingby == \"value\":\n",
    "        return \"dict sorted by values is {}\".format(dict(sorted(d.items(), key = lambda keyfrom_d : keyfrom_d[1])))"
   ]
  },
  {
   "cell_type": "code",
   "execution_count": 30,
   "id": "2286bce3",
   "metadata": {},
   "outputs": [
    {
     "data": {
      "text/plain": [
       "\"dict sorted by keys is {'key a': 'verma', 'key b': 'shubham', 'key c': 'python'}\""
      ]
     },
     "execution_count": 30,
     "metadata": {},
     "output_type": "execute_result"
    }
   ],
   "source": [
    "sort_dict(d,\"key\")"
   ]
  },
  {
   "cell_type": "code",
   "execution_count": 4,
   "id": "b20994ed",
   "metadata": {},
   "outputs": [
    {
     "data": {
      "text/plain": [
       "\"dict sorted by values is {'key c': 'python', 'key b': 'shubham', 'key a': 'verma'}\""
      ]
     },
     "execution_count": 4,
     "metadata": {},
     "output_type": "execute_result"
    }
   ],
   "source": [
    "sort_dict(d,\"value\")"
   ]
  }
 ],
 "metadata": {
  "kernelspec": {
   "display_name": "Python 3 (ipykernel)",
   "language": "python",
   "name": "python3"
  },
  "language_info": {
   "codemirror_mode": {
    "name": "ipython",
    "version": 3
   },
   "file_extension": ".py",
   "mimetype": "text/x-python",
   "name": "python",
   "nbconvert_exporter": "python",
   "pygments_lexer": "ipython3",
   "version": "3.9.12"
  }
 },
 "nbformat": 4,
 "nbformat_minor": 5
}
