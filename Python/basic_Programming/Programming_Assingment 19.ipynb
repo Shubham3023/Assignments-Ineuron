{
 "cells": [
  {
   "cell_type": "markdown",
   "id": "5de28478",
   "metadata": {},
   "source": [
    "# Q1. Create a function that takes a string and returns a string in which each character is repeated once.\n",
    "\n",
    "Examples\n",
    "\n",
    "double_char(\"String\") ➞ \"SSttrriinngg\"\n",
    "\n",
    "double_char(\"Hello World!\") ➞ \"HHeelllloo  WWoorrlldd!!\"\n",
    "\n",
    "double_char(\"1234!_ \") ➞ \"11223344!!__  \"\n"
   ]
  },
  {
   "cell_type": "code",
   "execution_count": 3,
   "id": "b8753973",
   "metadata": {},
   "outputs": [],
   "source": [
    "def double_char(s):\n",
    "    \"\"\"\n",
    "    This func function takes a string as arg and returns a \n",
    "    string in which each character is repeated once.\n",
    "    \"\"\"\n",
    "    s1 = \"\"\n",
    "    for i in s:\n",
    "        s1 = s1 + i*2\n",
    "    return s1"
   ]
  },
  {
   "cell_type": "code",
   "execution_count": 4,
   "id": "c613d6dc",
   "metadata": {},
   "outputs": [
    {
     "data": {
      "text/plain": [
       "'SSttrriinngg'"
      ]
     },
     "execution_count": 4,
     "metadata": {},
     "output_type": "execute_result"
    }
   ],
   "source": [
    "double_char(\"String\")"
   ]
  },
  {
   "cell_type": "code",
   "execution_count": 5,
   "id": "f5f858c2",
   "metadata": {},
   "outputs": [
    {
     "data": {
      "text/plain": [
       "'HHeelllloo  WWoorrlldd!!'"
      ]
     },
     "execution_count": 5,
     "metadata": {},
     "output_type": "execute_result"
    }
   ],
   "source": [
    "double_char(\"Hello World!\")"
   ]
  },
  {
   "cell_type": "code",
   "execution_count": 6,
   "id": "7c9c8790",
   "metadata": {},
   "outputs": [
    {
     "data": {
      "text/plain": [
       "'11223344!!__  '"
      ]
     },
     "execution_count": 6,
     "metadata": {},
     "output_type": "execute_result"
    }
   ],
   "source": [
    "double_char(\"1234!_ \") "
   ]
  },
  {
   "cell_type": "markdown",
   "id": "0b3eb83f",
   "metadata": {},
   "source": [
    "# Q2. Create a function that reverses a boolean value and returns the string \"boolean expected\" if another variable type is given.\n",
    "\n",
    "Examples\n",
    "\n",
    "reverse(True) ➞ False\n",
    "\n",
    "reverse(False) ➞ True\n",
    "\n",
    "reverse(0) ➞ \"boolean expected\"\n",
    "\n",
    "reverse(None) ➞ \"boolean expected\"\n"
   ]
  },
  {
   "cell_type": "code",
   "execution_count": 18,
   "id": "5e581f6b",
   "metadata": {},
   "outputs": [],
   "source": [
    "def reverse(n) :\n",
    "    \"\"\"\n",
    "    This func reverses a boolean value and returns \"boolean expected\" \n",
    "    if another variable type is given.\n",
    "    \"\"\"\n",
    "    \n",
    "    if type(n) == bool and n == True :\n",
    "        return False\n",
    "    elif type(n) == bool and n == False:\n",
    "        return True\n",
    "    else:\n",
    "        return \"boolean expected\"\n",
    "    "
   ]
  },
  {
   "cell_type": "code",
   "execution_count": 19,
   "id": "3bcfe364",
   "metadata": {},
   "outputs": [
    {
     "data": {
      "text/plain": [
       "False"
      ]
     },
     "execution_count": 19,
     "metadata": {},
     "output_type": "execute_result"
    }
   ],
   "source": [
    "reverse(True) "
   ]
  },
  {
   "cell_type": "code",
   "execution_count": 20,
   "id": "d4152c42",
   "metadata": {},
   "outputs": [
    {
     "data": {
      "text/plain": [
       "True"
      ]
     },
     "execution_count": 20,
     "metadata": {},
     "output_type": "execute_result"
    }
   ],
   "source": [
    "reverse(False) "
   ]
  },
  {
   "cell_type": "code",
   "execution_count": 21,
   "id": "f7a91634",
   "metadata": {},
   "outputs": [
    {
     "data": {
      "text/plain": [
       "'boolean expected'"
      ]
     },
     "execution_count": 21,
     "metadata": {},
     "output_type": "execute_result"
    }
   ],
   "source": [
    "reverse(0)"
   ]
  },
  {
   "cell_type": "code",
   "execution_count": 22,
   "id": "fb40d45e",
   "metadata": {},
   "outputs": [
    {
     "data": {
      "text/plain": [
       "'boolean expected'"
      ]
     },
     "execution_count": 22,
     "metadata": {},
     "output_type": "execute_result"
    }
   ],
   "source": [
    "reverse(None) "
   ]
  },
  {
   "cell_type": "markdown",
   "id": "45722e43",
   "metadata": {},
   "source": [
    "# Q3. Create a function that returns the thickness (in meters) of a piece of paper after folding it n number of times. The paper starts off with a thickness of 0.5mm.\n",
    "\n",
    "Examples\n",
    "\n",
    "num_layers(1) ➞ \"0.001m\"\n",
    "\n",
    " Paper folded once is 1mm (equal to 0.001m)\n",
    "\n",
    "num_layers(4) ➞ \"0.008m\"\n",
    "\n",
    " Paper folded 4 times is 8mm (equal to 0.008m)\n",
    "\n",
    "num_layers(21) ➞ \"1048.576m\"\n",
    "\n",
    "Paper folded 21 times is 1048576mm (equal to 1048.576m)\n"
   ]
  },
  {
   "cell_type": "code",
   "execution_count": 38,
   "id": "2063b8db",
   "metadata": {},
   "outputs": [],
   "source": [
    "def num_layers(n):\n",
    "    \"\"\"\n",
    "    This func returns the thickness (in meters) of a piece of paper\n",
    "    (thickness 0.5 mm) after folding it n number of times.\n",
    "    \"\"\"\n",
    "    t = 0.5/1000\n",
    "    for i in range(n):\n",
    "        t = t * 2\n",
    "    return \"{}m\".format(t) "
   ]
  },
  {
   "cell_type": "code",
   "execution_count": 39,
   "id": "ac492c88",
   "metadata": {},
   "outputs": [
    {
     "data": {
      "text/plain": [
       "'0.001m'"
      ]
     },
     "execution_count": 39,
     "metadata": {},
     "output_type": "execute_result"
    }
   ],
   "source": [
    "num_layers(1)"
   ]
  },
  {
   "cell_type": "code",
   "execution_count": 40,
   "id": "cb83aedc",
   "metadata": {},
   "outputs": [
    {
     "data": {
      "text/plain": [
       "'0.008m'"
      ]
     },
     "execution_count": 40,
     "metadata": {},
     "output_type": "execute_result"
    }
   ],
   "source": [
    "num_layers(4)"
   ]
  },
  {
   "cell_type": "code",
   "execution_count": 41,
   "id": "29cde012",
   "metadata": {},
   "outputs": [
    {
     "data": {
      "text/plain": [
       "'1048.576m'"
      ]
     },
     "execution_count": 41,
     "metadata": {},
     "output_type": "execute_result"
    }
   ],
   "source": [
    "num_layers(21)"
   ]
  },
  {
   "cell_type": "markdown",
   "id": "cab33f70",
   "metadata": {},
   "source": [
    "# Q4. Create a function that takes a single string as argument and returns an ordered list containing the indices of all capital letters in the string.\n",
    "\n",
    "Examples\n",
    "\n",
    "index_of_caps(\"eDaBiT\") ➞ [1, 3, 5]\n",
    "\n",
    "index_of_caps(\"eQuINoX\") ➞ [1, 3, 4, 6]\n",
    "\n",
    "index_of_caps(\"determine\") ➞ []\n",
    "\n",
    "index_of_caps(\"STRIKE\") ➞ [0, 1, 2, 3, 4, 5]\n",
    "\n",
    "index_of_caps(\"sUn\") ➞ [1]\n"
   ]
  },
  {
   "cell_type": "code",
   "execution_count": 58,
   "id": "9639f5a4",
   "metadata": {},
   "outputs": [],
   "source": [
    "def index_of_caps(s):\n",
    "    \"\"\"\n",
    "    This func takes string as arg and returns an ordered list containing the \n",
    "    indices of all capital letters in the string.\n",
    "    \"\"\"\n",
    "    l = []\n",
    "    count = -1\n",
    "    for i in s:\n",
    "        count += 1\n",
    "        if i == i.upper():\n",
    "            l.append(count)\n",
    "    return l"
   ]
  },
  {
   "cell_type": "code",
   "execution_count": 59,
   "id": "32c1588c",
   "metadata": {},
   "outputs": [
    {
     "data": {
      "text/plain": [
       "[1, 3, 5]"
      ]
     },
     "execution_count": 59,
     "metadata": {},
     "output_type": "execute_result"
    }
   ],
   "source": [
    "index_of_caps(\"eDaBiT\")"
   ]
  },
  {
   "cell_type": "code",
   "execution_count": 60,
   "id": "e9f1a423",
   "metadata": {},
   "outputs": [
    {
     "data": {
      "text/plain": [
       "[1, 3, 4, 6]"
      ]
     },
     "execution_count": 60,
     "metadata": {},
     "output_type": "execute_result"
    }
   ],
   "source": [
    "index_of_caps(\"eQuINoX\")"
   ]
  },
  {
   "cell_type": "code",
   "execution_count": 61,
   "id": "b1c761f8",
   "metadata": {},
   "outputs": [
    {
     "data": {
      "text/plain": [
       "[]"
      ]
     },
     "execution_count": 61,
     "metadata": {},
     "output_type": "execute_result"
    }
   ],
   "source": [
    "index_of_caps(\"determine\")"
   ]
  },
  {
   "cell_type": "code",
   "execution_count": 62,
   "id": "d7d8fb8b",
   "metadata": {},
   "outputs": [
    {
     "data": {
      "text/plain": [
       "[0, 1, 2, 3, 4, 5]"
      ]
     },
     "execution_count": 62,
     "metadata": {},
     "output_type": "execute_result"
    }
   ],
   "source": [
    "index_of_caps(\"STRIKE\") "
   ]
  },
  {
   "cell_type": "code",
   "execution_count": 63,
   "id": "4e7bdc6c",
   "metadata": {},
   "outputs": [
    {
     "data": {
      "text/plain": [
       "[1]"
      ]
     },
     "execution_count": 63,
     "metadata": {},
     "output_type": "execute_result"
    }
   ],
   "source": [
    "index_of_caps(\"sUn\")"
   ]
  },
  {
   "cell_type": "markdown",
   "id": "59e5716b",
   "metadata": {},
   "source": [
    "# Q5. Using list comprehensions, create a function that finds all even numbers from 1 to the given number.\n",
    "\n",
    "Examples\n",
    "\n",
    "find_even_nums(8) ➞ [2, 4, 6, 8]\n",
    "\n",
    "find_even_nums(4) ➞ [2, 4]\n",
    "\n",
    "find_even_nums(2) ➞ [2]\n"
   ]
  },
  {
   "cell_type": "code",
   "execution_count": 65,
   "id": "0acf1a93",
   "metadata": {},
   "outputs": [],
   "source": [
    "def find_even_nums(n):\n",
    "    \"\"\"\n",
    "    This func takes a number as arg and finds all \n",
    "    even numbers from 1 to the given number.\n",
    "    \"\"\"\n",
    "    \n",
    "    return [i for i in range(2,n+1) if i % 2 == 0]\n",
    "    "
   ]
  },
  {
   "cell_type": "code",
   "execution_count": 66,
   "id": "4ff49ec9",
   "metadata": {},
   "outputs": [
    {
     "data": {
      "text/plain": [
       "[2, 4, 6, 8]"
      ]
     },
     "execution_count": 66,
     "metadata": {},
     "output_type": "execute_result"
    }
   ],
   "source": [
    "find_even_nums(8) "
   ]
  },
  {
   "cell_type": "code",
   "execution_count": 67,
   "id": "7912fd20",
   "metadata": {},
   "outputs": [
    {
     "data": {
      "text/plain": [
       "[2, 4]"
      ]
     },
     "execution_count": 67,
     "metadata": {},
     "output_type": "execute_result"
    }
   ],
   "source": [
    "find_even_nums(4)"
   ]
  },
  {
   "cell_type": "code",
   "execution_count": 68,
   "id": "09c3bc6f",
   "metadata": {},
   "outputs": [
    {
     "data": {
      "text/plain": [
       "[2]"
      ]
     },
     "execution_count": 68,
     "metadata": {},
     "output_type": "execute_result"
    }
   ],
   "source": [
    "find_even_nums(2)"
   ]
  }
 ],
 "metadata": {
  "kernelspec": {
   "display_name": "Python 3 (ipykernel)",
   "language": "python",
   "name": "python3"
  },
  "language_info": {
   "codemirror_mode": {
    "name": "ipython",
    "version": 3
   },
   "file_extension": ".py",
   "mimetype": "text/x-python",
   "name": "python",
   "nbconvert_exporter": "python",
   "pygments_lexer": "ipython3",
   "version": "3.9.12"
  }
 },
 "nbformat": 4,
 "nbformat_minor": 5
}
