{
 "cells": [
  {
   "cell_type": "markdown",
   "id": "513d0ab3",
   "metadata": {},
   "source": [
    "### Q1: Define a class with a generator which can iterate the numbers, which are divisible by 7, between a given range 0 and n"
   ]
  },
  {
   "cell_type": "code",
   "execution_count": 1,
   "id": "edd88347",
   "metadata": {},
   "outputs": [
    {
     "name": "stdout",
     "output_type": "stream",
     "text": [
      "7\n",
      "14\n",
      "21\n",
      "28\n",
      "35\n",
      "42\n",
      "49\n"
     ]
    }
   ],
   "source": [
    "class custom_generator():\n",
    "    \n",
    "    def c_generator(self, n):\n",
    "        \"\"\"\n",
    "        This method creates a generator which yields \n",
    "        numbers divisible by 7.\n",
    "        \"\"\"\n",
    "        for i in range(1,n):\n",
    "            if i % 7 == 0:\n",
    "                yield i\n",
    "                \n",
    "gen = custom_generator()\n",
    "for i in gen.c_generator(50):\n",
    "    print(i)"
   ]
  },
  {
   "cell_type": "markdown",
   "id": "51d3fd73",
   "metadata": {},
   "source": [
    "### Q2: Write a program to compute the frequency of the words from the input. The output should output after sorting the key alphanumerically. \n",
    "\n",
    "Suppose the following input is supplied to the program:\n",
    "\n",
    "New to Python or choosing between Python 2 and Python 3? Read Python 2 or Python 3.\n",
    "\n",
    "Then, the output should be:\n",
    "\n",
    "2:2\n",
    "\n",
    "3.:1\n",
    "\n",
    "3?:1\n",
    "\n",
    "New:1\n",
    "\n",
    "Python:5\n",
    "\n",
    "Read:1\n",
    "\n",
    "and:1\n",
    "\n",
    "between:1\n",
    "\n",
    "choosing:1\n",
    "\n",
    "or:2\n",
    "\n",
    "to:1\n"
   ]
  },
  {
   "cell_type": "code",
   "execution_count": 2,
   "id": "9a94f03f",
   "metadata": {},
   "outputs": [
    {
     "name": "stdout",
     "output_type": "stream",
     "text": [
      "2 : 2\n",
      "3 : 1\n",
      "3? : 1\n",
      "New : 1\n",
      "Python : 5\n",
      "Read : 1\n",
      "and : 1\n",
      "between : 1\n",
      "choosing : 1\n",
      "or : 2\n",
      "to : 1\n"
     ]
    }
   ],
   "source": [
    "def sorting_count(string):\n",
    "    \"\"\"\n",
    "    This func takes string as an argument and returns \n",
    "    frequency of the words with words as key, after \n",
    "    sorting output wrt keys.\n",
    "    \"\"\"\n",
    "    \n",
    "    count = 0\n",
    "    l = string.split(\" \")\n",
    "    for i in sorted(list(set(l))):\n",
    "        print(i, \":\", l.count(i))\n",
    "        \n",
    "sorting_count(\"New to Python or choosing between Python 2 and Python 3? Read Python 2 or Python 3\")"
   ]
  },
  {
   "cell_type": "markdown",
   "id": "91de3695",
   "metadata": {},
   "source": [
    "### Q3: Define a class Person and its two child classes: Male and Female. All classes have a method \"getGender\" which can print \"Male\" for Male class and \"Female\" for Female class."
   ]
  },
  {
   "cell_type": "code",
   "execution_count": 27,
   "id": "7f4d1e83",
   "metadata": {},
   "outputs": [
    {
     "data": {
      "text/plain": [
       "'Male'"
      ]
     },
     "execution_count": 27,
     "metadata": {},
     "output_type": "execute_result"
    }
   ],
   "source": [
    "class Person():\n",
    "    def getGender(self, gender):\n",
    "        if gender == 'Female':\n",
    "            return gender\n",
    "        elif gender == 'Male':\n",
    "            return gender\n",
    "\n",
    "class Male(Person):\n",
    "    def getGender(self, gender):\n",
    "        if gender == 'Male':\n",
    "            return gender\n",
    "        \n",
    "class Female(Person):\n",
    "    def getGender(self, gender):\n",
    "        if gender == 'Female':\n",
    "            return gender\n",
    "        \n",
    "person = Person()\n",
    "male = Male()\n",
    "female = Female()\n",
    "\n",
    "person.getGender('Male')"
   ]
  },
  {
   "cell_type": "code",
   "execution_count": 28,
   "id": "8f1a3e4b",
   "metadata": {},
   "outputs": [
    {
     "data": {
      "text/plain": [
       "'Male'"
      ]
     },
     "execution_count": 28,
     "metadata": {},
     "output_type": "execute_result"
    }
   ],
   "source": [
    "male.getGender('Male')"
   ]
  },
  {
   "cell_type": "code",
   "execution_count": 29,
   "id": "bf21e31e",
   "metadata": {},
   "outputs": [
    {
     "data": {
      "text/plain": [
       "'Female'"
      ]
     },
     "execution_count": 29,
     "metadata": {},
     "output_type": "execute_result"
    }
   ],
   "source": [
    "female.getGender('Female')"
   ]
  },
  {
   "cell_type": "markdown",
   "id": "7c62a195",
   "metadata": {},
   "source": [
    "### Q4: Please write a program to generate all sentences where subject is in [\"I\", \"You\"] and verb is in [\"Play\", \"Love\"] and the object is in [\"Hockey\",\"Football\"]."
   ]
  },
  {
   "cell_type": "code",
   "execution_count": 4,
   "id": "873e0e96",
   "metadata": {},
   "outputs": [
    {
     "name": "stdout",
     "output_type": "stream",
     "text": [
      "I Play Hockey\n",
      "I Play Football\n",
      "I Love Hockey\n",
      "I Love Football\n",
      "You Play Hockey\n",
      "You Play Football\n",
      "You Love Hockey\n",
      "You Love Football\n"
     ]
    }
   ],
   "source": [
    "subject = [\"I\", \"You\"]\n",
    "verb = [\"Play\", \"Love\"]\n",
    "object = [\"Hockey\",\"Football\"]\n",
    "\n",
    "def possible_sentence_gen(subject,verb,object):\n",
    "    \"\"\"\n",
    "    This func takes 3 lists(subject, verb, object) as an argument\n",
    "    and returns all sentences with all possible combinations of \n",
    "    subject, verb and object.\n",
    "    \"\"\"\n",
    "\n",
    "    for i in subject:\n",
    "        for j in verb:\n",
    "            for k in object:\n",
    "                print(\"{} {} {}\".format(i,j,k))\n",
    "                \n",
    "possible_sentence_gen(subject,verb,object)"
   ]
  },
  {
   "cell_type": "markdown",
   "id": "0cbd3848",
   "metadata": {},
   "source": [
    "### Q5: Please write a program to compress and decompress the string \"hello world!hello world!hello world!hello world!\"."
   ]
  },
  {
   "cell_type": "code",
   "execution_count": 5,
   "id": "ec9b421f",
   "metadata": {},
   "outputs": [
    {
     "name": "stdout",
     "output_type": "stream",
     "text": [
      "size of original string 81\n",
      "size of compressed string 56\n",
      "size of decompressed string 81\n"
     ]
    }
   ],
   "source": [
    "import sys\n",
    "import zlib\n",
    "\n",
    "def compress_decompress_string(string):\n",
    "    \"\"\"\n",
    "    This func takes a string as an argument and returns \n",
    "    size of compressed and decompressed string.\n",
    "    \"\"\"\n",
    "    string_size=sys.getsizeof(string)\n",
    "    print(\"size of original string\",string_size)\n",
    "\n",
    "    compressed = zlib.compress(string)\n",
    "    csize=sys.getsizeof(compressed)\n",
    "    print(\"size of compressed string\",csize)\n",
    "\n",
    "    decompressed=zlib.decompress(compressed)\n",
    "    dsize=sys.getsizeof(decompressed)\n",
    "    print(\"size of decompressed string\",dsize)\n",
    "    \n",
    "compress_decompress_string(b\"hello world!hello world!hello world!hello world!\")"
   ]
  },
  {
   "cell_type": "markdown",
   "id": "45cdbae9",
   "metadata": {},
   "source": [
    "### Q6: Please write a binary search function which searches an item in a sorted list. The function should return the index of element to be searched in the list."
   ]
  },
  {
   "cell_type": "code",
   "execution_count": 6,
   "id": "9f1c957c",
   "metadata": {},
   "outputs": [
    {
     "data": {
      "text/plain": [
       "'The index of entered number \"3\" is \"2\"'"
      ]
     },
     "execution_count": 6,
     "metadata": {},
     "output_type": "execute_result"
    }
   ],
   "source": [
    "l1 = [1,2,3,4,5,6,7,8,9,10]\n",
    "\n",
    "def binary_search(l,n):\n",
    "    \"\"\"\n",
    "    This func takes a list and an integer as an argument and \n",
    "    returns the index of integer if present in list.\n",
    "    \"\"\"\n",
    "    minimum = 0\n",
    "    maximum = len(l)-1\n",
    "    while minimum <= maximum:\n",
    "        middle = (minimum + maximum)//2\n",
    "        if l[middle] < n:\n",
    "            minimum = middle + 1\n",
    "        elif l[middle] > n:\n",
    "            maximum = middle - 1\n",
    "        else:\n",
    "            return 'The index of entered number \"{}\" is \"{}\"'.format(n, middle)\n",
    "    else:\n",
    "        return 'Entered number \"{}\" is not in the list'.format(n)\n",
    "\n",
    "binary_search(l1,3)"
   ]
  },
  {
   "cell_type": "code",
   "execution_count": 7,
   "id": "e659b6c2",
   "metadata": {},
   "outputs": [
    {
     "name": "stdout",
     "output_type": "stream",
     "text": [
      "Entered number \"14\" is not in the list\n"
     ]
    }
   ],
   "source": [
    "print(binary_search(l1,14))"
   ]
  }
 ],
 "metadata": {
  "kernelspec": {
   "display_name": "Python 3 (ipykernel)",
   "language": "python",
   "name": "python3"
  },
  "language_info": {
   "codemirror_mode": {
    "name": "ipython",
    "version": 3
   },
   "file_extension": ".py",
   "mimetype": "text/x-python",
   "name": "python",
   "nbconvert_exporter": "python",
   "pygments_lexer": "ipython3",
   "version": "3.9.12"
  }
 },
 "nbformat": 4,
 "nbformat_minor": 5
}
