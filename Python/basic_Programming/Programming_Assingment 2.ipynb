{
 "cells": [
  {
   "cell_type": "markdown",
   "id": "56c585f1",
   "metadata": {},
   "source": [
    "# 1.\tWrite a Python program to convert kilometers to miles?"
   ]
  },
  {
   "cell_type": "code",
   "execution_count": 22,
   "id": "508c8a9c",
   "metadata": {},
   "outputs": [],
   "source": [
    "def km_miles(km):\n",
    "    \"\"\"This takes distance in Km as arg and returns distance in Miles\"\"\"\n",
    "    miles = 0.621371 * km\n",
    "    return \"Conversion of {}  Km in Miles is {} Miles\".format(km, round(miles,4))                                   "
   ]
  },
  {
   "cell_type": "code",
   "execution_count": 23,
   "id": "f5a45f92",
   "metadata": {},
   "outputs": [
    {
     "data": {
      "text/plain": [
       "'Conversion of 100  Km in Miles is 62.1371 Miles'"
      ]
     },
     "execution_count": 23,
     "metadata": {},
     "output_type": "execute_result"
    }
   ],
   "source": [
    "km_miles(100)"
   ]
  },
  {
   "cell_type": "markdown",
   "id": "c01e70e0",
   "metadata": {},
   "source": [
    "# 2.\tWrite a Python program to convert Celsius to Fahrenheit?"
   ]
  },
  {
   "cell_type": "code",
   "execution_count": 24,
   "id": "e60b4741",
   "metadata": {},
   "outputs": [],
   "source": [
    "def cel_fah(cel):\n",
    "    \"\"\"This takes Temp in celcius as arg and returns Temp in fahrenheit\"\"\"\n",
    "    fah = 1.8 * cel + 32\n",
    "    return \"Conversion of {}  degree celsius in degree fahrenheit is {} degree fahrenheit\".format(cel, round(fah,3))"
   ]
  },
  {
   "cell_type": "code",
   "execution_count": 25,
   "id": "eba85716",
   "metadata": {},
   "outputs": [
    {
     "data": {
      "text/plain": [
       "'Conversion of 37  degree celsius in degree fahrenheit is 98.6 degree fahrenheit'"
      ]
     },
     "execution_count": 25,
     "metadata": {},
     "output_type": "execute_result"
    }
   ],
   "source": [
    "cel_fah(37)"
   ]
  },
  {
   "cell_type": "markdown",
   "id": "5f18442a",
   "metadata": {},
   "source": [
    "# 3.\tWrite a Python program to display calendar?"
   ]
  },
  {
   "cell_type": "code",
   "execution_count": 26,
   "id": "911211d6",
   "metadata": {},
   "outputs": [],
   "source": [
    "import calendar\n",
    "def calmon(year,month):\n",
    "    \"\"\"This function takes year, month as args and returns calender for month in that year\"\"\"\n",
    "    print(calendar.month(year,month))\n",
    "    "
   ]
  },
  {
   "cell_type": "code",
   "execution_count": 27,
   "id": "bcac3e38",
   "metadata": {},
   "outputs": [
    {
     "name": "stdout",
     "output_type": "stream",
     "text": [
      "     June 2022\n",
      "Mo Tu We Th Fr Sa Su\n",
      "       1  2  3  4  5\n",
      " 6  7  8  9 10 11 12\n",
      "13 14 15 16 17 18 19\n",
      "20 21 22 23 24 25 26\n",
      "27 28 29 30\n",
      "\n"
     ]
    }
   ],
   "source": [
    "calmon(2022,6)"
   ]
  },
  {
   "cell_type": "code",
   "execution_count": 28,
   "id": "85bf28d0",
   "metadata": {},
   "outputs": [],
   "source": [
    "import calendar\n",
    "def calyear(year):\n",
    "    \"\"\"This function takes year as arg and returns calender for that year\"\"\"\n",
    "    print(calendar.calendar(year))"
   ]
  },
  {
   "cell_type": "code",
   "execution_count": 29,
   "id": "4444ad8c",
   "metadata": {},
   "outputs": [
    {
     "name": "stdout",
     "output_type": "stream",
     "text": [
      "                                  2022\n",
      "\n",
      "      January                   February                   March\n",
      "Mo Tu We Th Fr Sa Su      Mo Tu We Th Fr Sa Su      Mo Tu We Th Fr Sa Su\n",
      "                1  2          1  2  3  4  5  6          1  2  3  4  5  6\n",
      " 3  4  5  6  7  8  9       7  8  9 10 11 12 13       7  8  9 10 11 12 13\n",
      "10 11 12 13 14 15 16      14 15 16 17 18 19 20      14 15 16 17 18 19 20\n",
      "17 18 19 20 21 22 23      21 22 23 24 25 26 27      21 22 23 24 25 26 27\n",
      "24 25 26 27 28 29 30      28                        28 29 30 31\n",
      "31\n",
      "\n",
      "       April                      May                       June\n",
      "Mo Tu We Th Fr Sa Su      Mo Tu We Th Fr Sa Su      Mo Tu We Th Fr Sa Su\n",
      "             1  2  3                         1             1  2  3  4  5\n",
      " 4  5  6  7  8  9 10       2  3  4  5  6  7  8       6  7  8  9 10 11 12\n",
      "11 12 13 14 15 16 17       9 10 11 12 13 14 15      13 14 15 16 17 18 19\n",
      "18 19 20 21 22 23 24      16 17 18 19 20 21 22      20 21 22 23 24 25 26\n",
      "25 26 27 28 29 30         23 24 25 26 27 28 29      27 28 29 30\n",
      "                          30 31\n",
      "\n",
      "        July                     August                  September\n",
      "Mo Tu We Th Fr Sa Su      Mo Tu We Th Fr Sa Su      Mo Tu We Th Fr Sa Su\n",
      "             1  2  3       1  2  3  4  5  6  7                1  2  3  4\n",
      " 4  5  6  7  8  9 10       8  9 10 11 12 13 14       5  6  7  8  9 10 11\n",
      "11 12 13 14 15 16 17      15 16 17 18 19 20 21      12 13 14 15 16 17 18\n",
      "18 19 20 21 22 23 24      22 23 24 25 26 27 28      19 20 21 22 23 24 25\n",
      "25 26 27 28 29 30 31      29 30 31                  26 27 28 29 30\n",
      "\n",
      "      October                   November                  December\n",
      "Mo Tu We Th Fr Sa Su      Mo Tu We Th Fr Sa Su      Mo Tu We Th Fr Sa Su\n",
      "                1  2          1  2  3  4  5  6                1  2  3  4\n",
      " 3  4  5  6  7  8  9       7  8  9 10 11 12 13       5  6  7  8  9 10 11\n",
      "10 11 12 13 14 15 16      14 15 16 17 18 19 20      12 13 14 15 16 17 18\n",
      "17 18 19 20 21 22 23      21 22 23 24 25 26 27      19 20 21 22 23 24 25\n",
      "24 25 26 27 28 29 30      28 29 30                  26 27 28 29 30 31\n",
      "31\n",
      "\n"
     ]
    }
   ],
   "source": [
    "calyear(2022)"
   ]
  },
  {
   "cell_type": "markdown",
   "id": "ca185f48",
   "metadata": {},
   "source": [
    "# 4.\tWrite a Python program to solve quadratic equation?\n",
    "suppose generalised quadratic equation ax**2 + bx + c = 0"
   ]
  },
  {
   "cell_type": "code",
   "execution_count": 30,
   "id": "676f282a",
   "metadata": {},
   "outputs": [],
   "source": [
    "def quadsol(a,b,c):\n",
    "    \"\"\"This function takes co-efficients of standard quadratic equation as args and return only real solutions\"\"\"\n",
    "    disc = ((b**2)- 4*a*c)\n",
    "    if disc > 0:\n",
    "        x,y = (- b + disc** 0.5)/(2*a) , (- b - disc** 0.5)/(2*a)\n",
    "        return \"solution of given quatratic equation (real solutions) is: {} and {} \".format(round(x,3),round(y,3)) \n",
    "    elif disc < 0:\n",
    "        x,y = complex((- b + disc** 0.5)/(2*a)) , complex((- b - disc** 0.5)/(2*a))\n",
    "        return \"solution of given quatratic equation (complex solutions) is: {} and {} \".format((round(x.real, 3) + round(x.imag, 3) * 1j),(round(y.real, 3) + round(y.imag, 3) * 1j))\n",
    "    else:\n",
    "        x,y = (- b + disc** 0.5)/(2*a) , (- b - disc** 0.5)/(2*a)\n",
    "        return \"solution of given quatratic equation (real and equal solutions) is: {} and {} \".format(round(x,3),round(y,3))"
   ]
  },
  {
   "cell_type": "code",
   "execution_count": 31,
   "id": "45053af8",
   "metadata": {},
   "outputs": [
    {
     "data": {
      "text/plain": [
       "'solution of given quatratic equation (complex solutions) is: (-0.5+6.614j) and (-0.5-6.614j) '"
      ]
     },
     "execution_count": 31,
     "metadata": {},
     "output_type": "execute_result"
    }
   ],
   "source": [
    "quadsol(1,1,44)"
   ]
  },
  {
   "cell_type": "code",
   "execution_count": 32,
   "id": "c2737942",
   "metadata": {},
   "outputs": [
    {
     "data": {
      "text/plain": [
       "'solution of given quatratic equation (real solutions) is: -1.546 and -28.454 '"
      ]
     },
     "execution_count": 32,
     "metadata": {},
     "output_type": "execute_result"
    }
   ],
   "source": [
    "quadsol(1,30,44)"
   ]
  },
  {
   "cell_type": "code",
   "execution_count": 33,
   "id": "80e5e3e5",
   "metadata": {},
   "outputs": [
    {
     "data": {
      "text/plain": [
       "'solution of given quatratic equation (real and equal solutions) is: 4.0 and 4.0 '"
      ]
     },
     "execution_count": 33,
     "metadata": {},
     "output_type": "execute_result"
    }
   ],
   "source": [
    "quadsol(1,-8,16)"
   ]
  },
  {
   "cell_type": "markdown",
   "id": "fa93e4dd",
   "metadata": {},
   "source": [
    "# 5.\tWrite a Python program to swap two variables without temp variable?"
   ]
  },
  {
   "cell_type": "code",
   "execution_count": 34,
   "id": "ab7094cd",
   "metadata": {},
   "outputs": [],
   "source": [
    "def swap(a,b):\n",
    "    \"\"\"This function takes two numbers as args and returns swapped numbers\"\"\"\n",
    "    l = [a,b]\n",
    "    a= l[1]\n",
    "    b= l[0]\n",
    "    return a,b"
   ]
  },
  {
   "cell_type": "code",
   "execution_count": 35,
   "id": "bba5cb59",
   "metadata": {},
   "outputs": [],
   "source": [
    "a,b = swap(2,3)"
   ]
  },
  {
   "cell_type": "code",
   "execution_count": 36,
   "id": "829cf458",
   "metadata": {},
   "outputs": [
    {
     "data": {
      "text/plain": [
       "3"
      ]
     },
     "execution_count": 36,
     "metadata": {},
     "output_type": "execute_result"
    }
   ],
   "source": [
    "a"
   ]
  },
  {
   "cell_type": "code",
   "execution_count": 37,
   "id": "a2e5747a",
   "metadata": {},
   "outputs": [
    {
     "data": {
      "text/plain": [
       "2"
      ]
     },
     "execution_count": 37,
     "metadata": {},
     "output_type": "execute_result"
    }
   ],
   "source": [
    "b"
   ]
  }
 ],
 "metadata": {
  "kernelspec": {
   "display_name": "Python 3 (ipykernel)",
   "language": "python",
   "name": "python3"
  },
  "language_info": {
   "codemirror_mode": {
    "name": "ipython",
    "version": 3
   },
   "file_extension": ".py",
   "mimetype": "text/x-python",
   "name": "python",
   "nbconvert_exporter": "python",
   "pygments_lexer": "ipython3",
   "version": "3.9.12"
  }
 },
 "nbformat": 4,
 "nbformat_minor": 5
}
