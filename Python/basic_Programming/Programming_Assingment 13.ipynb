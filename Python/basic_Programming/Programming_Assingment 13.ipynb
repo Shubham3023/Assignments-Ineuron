{
 "cells": [
  {
   "cell_type": "markdown",
   "id": "248f6ea4",
   "metadata": {},
   "source": [
    "### Q1: Write a program that calculates and prints the value according to the given formula:\n",
    "\n",
    "Q = Square root of [(2 * C * D)/H]\n",
    "\n",
    "Following are the fixed values of C and H:\n",
    "\n",
    "C is 50. H is 30.\n",
    "\n",
    "D is the variable whose values should be input to your program in a comma-separated sequence.\n",
    "\n",
    "Example\n",
    "\n",
    "Let us assume the following comma separated input sequence is given to the program:\n",
    "\n",
    "100,150,180\n",
    "\n",
    "The output of the program should be:\n",
    "\n",
    "18,22,24\n"
   ]
  },
  {
   "cell_type": "code",
   "execution_count": 1,
   "id": "40d4c88c",
   "metadata": {},
   "outputs": [
    {
     "name": "stdout",
     "output_type": "stream",
     "text": [
      "18,22,24\n"
     ]
    }
   ],
   "source": [
    "def calc_formula(C,H,*D):\n",
    "    \"\"\"\n",
    "    This program takes arguments as per problem statement\n",
    "    and returns the desired result as per given formula.\n",
    "    \"\"\"\n",
    "    l = []\n",
    "    for i in D:\n",
    "        Q = round(((2 * C * i)/H)** 0.5)\n",
    "        l.append(str(Q))\n",
    "        \n",
    "    print(\",\".join(l))\n",
    "        \n",
    "calc_formula(50,30,100,150,180)       "
   ]
  },
  {
   "cell_type": "markdown",
   "id": "db747e78",
   "metadata": {},
   "source": [
    "### Q2: Write a program which takes 2 digits, X,Y as input and generates a 2-dimensional array. The element value in the i-th row and j-th column of the array should be i*j.\n",
    "\n",
    "Note: i=0,1.., X-1; j=0,1,¡¬Y-1.\n",
    "\n",
    "Example\n",
    "\n",
    "Suppose the following inputs are given to the program:\n",
    "\n",
    "3,5\n",
    "\n",
    "Then, the output of the program should be:\n",
    "\n",
    "[[0, 0, 0, 0, 0], [0, 1, 2, 3, 4], [0, 2, 4, 6, 8]] \n"
   ]
  },
  {
   "cell_type": "code",
   "execution_count": 3,
   "id": "f9b1ad15",
   "metadata": {},
   "outputs": [
    {
     "data": {
      "text/plain": [
       "[[0, 0, 0, 0, 0], [0, 1, 2, 3, 4], [0, 2, 4, 6, 8]]"
      ]
     },
     "execution_count": 3,
     "metadata": {},
     "output_type": "execute_result"
    }
   ],
   "source": [
    "def customarray(x,y):\n",
    "    \"\"\"\n",
    "    This func takes two integers as an argument and returns \n",
    "    a 2-D array where the element is product of row and \n",
    "    column indices for that element. \n",
    "    \"\"\"\n",
    "    output = []\n",
    "    for i in range(x):\n",
    "        output.insert(x,[])\n",
    "        for j in range(y):\n",
    "            output[i].append(i*j)\n",
    "    return output\n",
    "    \n",
    "customarray(3,5)"
   ]
  },
  {
   "cell_type": "markdown",
   "id": "c9ac8b50",
   "metadata": {},
   "source": [
    "### Q3: Write a program that accepts a comma separated sequence of words as input and prints the words in a comma-separated sequence after sorting them alphabetically.\n",
    "\n",
    "Suppose the following input is supplied to the program:\n",
    "\n",
    "without,hello,bag,world\n",
    "\n",
    "Then, the output should be:\n",
    "\n",
    "bag,hello,without,world\n"
   ]
  },
  {
   "cell_type": "code",
   "execution_count": 5,
   "id": "32641770",
   "metadata": {},
   "outputs": [
    {
     "data": {
      "text/plain": [
       "'bag,hello,without,world'"
      ]
     },
     "execution_count": 5,
     "metadata": {},
     "output_type": "execute_result"
    }
   ],
   "source": [
    "def sort_custom(*words):\n",
    "    \"\"\"\n",
    "    This func takes comma seperated strings as argument\n",
    "    and returns comma seperated strings after sorting.\n",
    "    \"\"\"\n",
    "    words = \",\".join(sorted(words, key = lambda x: x))\n",
    "    \n",
    "    return words\n",
    "\n",
    "sort_custom('without','hello','bag','world')"
   ]
  },
  {
   "cell_type": "markdown",
   "id": "337b7584",
   "metadata": {},
   "source": [
    "### Q4: Write a program that accepts a sequence of whitespace separated words as input and prints the words after removing all duplicate words and sorting them alphanumerically.\n",
    "\n",
    "Suppose the following input is supplied to the program:\n",
    "\n",
    "hello world and practice makes perfect and hello world again\n",
    "\n",
    "Then, the output should be:\n",
    "\n",
    "again and hello makes perfect practice world\n"
   ]
  },
  {
   "cell_type": "code",
   "execution_count": 8,
   "id": "b27f56f9",
   "metadata": {},
   "outputs": [
    {
     "data": {
      "text/plain": [
       "'again and hello makes perfect practice world'"
      ]
     },
     "execution_count": 8,
     "metadata": {},
     "output_type": "execute_result"
    }
   ],
   "source": [
    "def sort_custom_string(string):\n",
    "    \"\"\"\n",
    "    This func takes string with whitespace seperated words as input\n",
    "    and returns sorted string after removing duplictes.\n",
    "    \"\"\"\n",
    "    \n",
    "    string = ' '.join(sorted(sorted(list(set(string.split(\" \"))))))\n",
    "    \n",
    "    return string\n",
    "\n",
    "sort_custom_string('hello world and practice makes perfect and hello world again')    "
   ]
  },
  {
   "cell_type": "markdown",
   "id": "1ae3be9a",
   "metadata": {},
   "source": [
    "### Q5: Write a program that accepts a sentence and calculate the number of letters and digits.\n",
    "\n",
    "Suppose the following input is supplied to the program:\n",
    "\n",
    "hello world! 123\n",
    "\n",
    "Then, the output should be:\n",
    "\n",
    "LETTERS 10\n",
    "\n",
    "DIGITS 3\n"
   ]
  },
  {
   "cell_type": "code",
   "execution_count": 10,
   "id": "63f194f9",
   "metadata": {},
   "outputs": [
    {
     "data": {
      "text/plain": [
       "'LETTERS: 10 and DIGITS: 3'"
      ]
     },
     "execution_count": 10,
     "metadata": {},
     "output_type": "execute_result"
    }
   ],
   "source": [
    "def counter_custom(string):\n",
    "    \"\"\"\n",
    "    This func takes a string as an argument and returns\n",
    "    the count of letters and digits in that string.\n",
    "    \"\"\"\n",
    "    count_digit = 0\n",
    "    count_letter = 0\n",
    "    for i in string:\n",
    "        if i.isdigit():\n",
    "            count_digit += 1\n",
    "        elif i.isalpha():\n",
    "            count_letter += 1\n",
    "    return \"LETTERS: {} and DIGITS: {}\".format(count_letter, count_digit)\n",
    "\n",
    "counter_custom('hello world! 123')"
   ]
  },
  {
   "cell_type": "markdown",
   "id": "4c78d375",
   "metadata": {},
   "source": [
    "### Q6: A website requires the users to input username and password to register. Write a program to check the validity of password input by users.\n",
    "\n",
    "Following are the criteria for checking the password:\n",
    "\n",
    "1. At least 1 letter between [a-z]\n",
    "\n",
    "2. At least 1 number between [0-9]\n",
    "\n",
    "1. At least 1 letter between [A-Z]\n",
    "\n",
    "3. At least 1 character from [$#@]\n",
    "\n",
    "4. Minimum length of transaction password: 6\n",
    "\n",
    "5. Maximum length of transaction password: 12\n",
    "\n",
    "Your program should accept a sequence of comma separated passwords and will check them according to the above criteria. Passwords that match the criteria are to be printed, each separated by a comma.\n",
    "\n",
    "Example\n",
    "\n",
    "If the following passwords are given as input to the program:\n",
    "\n",
    "ABd1234@1,a F1#,2w3E*,2We3345\n",
    "\n",
    "Then, the output of the program should be:\n",
    "\n",
    "ABd1234@1\n"
   ]
  },
  {
   "cell_type": "code",
   "execution_count": 14,
   "id": "f83c6ac1",
   "metadata": {},
   "outputs": [
    {
     "name": "stdout",
     "output_type": "stream",
     "text": [
      "ABd1234@1\n"
     ]
    }
   ],
   "source": [
    "def check_Password(password):\n",
    "    \"\"\"\n",
    "    This func takes password as an argument and returns \n",
    "    the password which matches the guidelines in problem\n",
    "    statement\n",
    "    \"\"\"\n",
    "    \n",
    "    alpha_lower = \"abcdefghijklmnopqrstuvwxyz\"\n",
    "    alpha_upper = \"ABCDEFGHIJKLMNOPQRSTUVWXYZ\"\n",
    "    number = \"0123456789\"\n",
    "    special_char = \"$#@\"\n",
    "    for i in password.split(\",\"):\n",
    "        if len(i) <= 12 and len(i) >=6 :\n",
    "            if any(j.isupper() for j in i):\n",
    "                if any(j.islower() for j in i):\n",
    "                    if any(j for j in i if j in special_char):\n",
    "                        print(i)\n",
    "\n",
    "check_Password('ABd1234@1,a F1#,2w3E*,2We3345')"
   ]
  }
 ],
 "metadata": {
  "kernelspec": {
   "display_name": "Python 3 (ipykernel)",
   "language": "python",
   "name": "python3"
  },
  "language_info": {
   "codemirror_mode": {
    "name": "ipython",
    "version": 3
   },
   "file_extension": ".py",
   "mimetype": "text/x-python",
   "name": "python",
   "nbconvert_exporter": "python",
   "pygments_lexer": "ipython3",
   "version": "3.9.12"
  }
 },
 "nbformat": 4,
 "nbformat_minor": 5
}
